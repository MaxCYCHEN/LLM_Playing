{
 "cells": [
  {
   "cell_type": "code",
   "execution_count": 1,
   "id": "c050bde1-4f54-4147-8579-616366ca3bd0",
   "metadata": {
    "tags": []
   },
   "outputs": [],
   "source": [
    "from langchain.text_splitter import Language\n",
    "from langchain_community.document_loaders.generic import GenericLoader\n",
    "from langchain_community.document_loaders.parsers import LanguageParser\n",
    "import os\n",
    "\n",
    "from langchain.vectorstores import FAISS\n",
    "from langchain.document_loaders import PyPDFLoader\n",
    "from langchain.chains.question_answering import load_qa_chain\n",
    "from langchain.prompts import PromptTemplate\n",
    "from langchain.memory import ConversationBufferMemory\n",
    "from langchain.embeddings import HuggingFaceEmbeddings\n",
    "from langchain.embeddings import HuggingFaceInstructEmbeddings\n",
    "from langchain.chains import RetrievalQA\n",
    "from langchain.document_loaders import UnstructuredFileLoader\n",
    "from langchain.text_splitter import RecursiveCharacterTextSplitter\n",
    "from langchain.chains import RetrievalQAWithSourcesChain\n",
    "from huggingface_hub import notebook_login\n",
    "#from transformers import pipeline\n",
    "#from transformers import AutoTokenizer, AutoModelForCausalLM\n",
    "from langchain import HuggingFacePipeline\n",
    "from langchain.text_splitter import CharacterTextSplitter\n",
    "import textwrap\n",
    "import sys\n",
    "import torch\n",
    "\n",
    "from langchain.embeddings import OpenAIEmbeddings"
   ]
  },
  {
   "cell_type": "code",
   "execution_count": 2,
   "id": "ba9c093b-237c-4ede-af67-292c5de78b4f",
   "metadata": {
    "tags": []
   },
   "outputs": [],
   "source": [
    "import APIKEY\n",
    "os.environ[\"OPENAI_API_KEY\"] = APIKEY.API_KEY_SERVICE_OPENAI"
   ]
  },
  {
   "cell_type": "markdown",
   "id": "58477b22-fd31-4ed0-8711-f21ffe7396ca",
   "metadata": {},
   "source": [
    "## Load multiple `code` files with code paser"
   ]
  },
  {
   "cell_type": "code",
   "execution_count": 89,
   "id": "88c01dd7-d94b-4ef4-bbc0-b2cbd392c934",
   "metadata": {},
   "outputs": [
    {
     "data": {
      "application/vnd.jupyter.widget-view+json": {
       "model_id": "fe3a3545f8b24769b8e4f393778b4c32",
       "version_major": 2,
       "version_minor": 0
      },
      "text/plain": [
       "  0%|          | 0/43 [00:00<?, ?it/s]"
      ]
     },
     "metadata": {},
     "output_type": "display_data"
    },
    {
     "data": {
      "text/plain": [
       "43"
      ]
     },
     "execution_count": 89,
     "metadata": {},
     "output_type": "execute_result"
    }
   ],
   "source": [
    "\n",
    "loader = GenericLoader.from_filesystem(\n",
    "        \"./docs/nuc100bsp_StdDriver_regs\",\n",
    "        glob=\"**/*\",\n",
    "        suffixes=[\".h\", \".c\"],\n",
    "        parser=LanguageParser(language=Language.C, parser_threshold=10000),\n",
    "        #parser=LanguageParser(),\n",
    "        show_progress=True,\n",
    "    )\n",
    "docs = loader.load()\n",
    "len(docs)"
   ]
  },
  {
   "cell_type": "code",
   "execution_count": 90,
   "id": "ae0fa507-46d9-4dec-b30c-030d284f21bf",
   "metadata": {
    "tags": []
   },
   "outputs": [
    {
     "name": "stdout",
     "output_type": "stream",
     "text": [
      "{'source': 'docs\\\\nuc100bsp_StdDriver_regs\\\\NUC100Series\\\\Include\\\\NUC100Series.h'}\n",
      "{'source': 'docs\\\\nuc100bsp_StdDriver_regs\\\\NUC100Series\\\\Include\\\\system_NUC100Series.h', 'language': <Language.C: 'c'>}\n",
      "{'source': 'docs\\\\nuc100bsp_StdDriver_regs\\\\StdDriver\\\\inc\\\\acmp.h', 'language': <Language.C: 'c'>}\n",
      "{'source': 'docs\\\\nuc100bsp_StdDriver_regs\\\\StdDriver\\\\inc\\\\adc.h', 'language': <Language.C: 'c'>}\n",
      "{'source': 'docs\\\\nuc100bsp_StdDriver_regs\\\\StdDriver\\\\inc\\\\clk.h', 'language': <Language.C: 'c'>}\n",
      "{'source': 'docs\\\\nuc100bsp_StdDriver_regs\\\\StdDriver\\\\inc\\\\crc.h', 'language': <Language.C: 'c'>}\n",
      "{'source': 'docs\\\\nuc100bsp_StdDriver_regs\\\\StdDriver\\\\inc\\\\fmc.h', 'language': <Language.C: 'c'>}\n",
      "{'source': 'docs\\\\nuc100bsp_StdDriver_regs\\\\StdDriver\\\\inc\\\\gpio.h', 'language': <Language.C: 'c'>}\n",
      "{'source': 'docs\\\\nuc100bsp_StdDriver_regs\\\\StdDriver\\\\inc\\\\i2c.h', 'language': <Language.C: 'c'>}\n",
      "{'source': 'docs\\\\nuc100bsp_StdDriver_regs\\\\StdDriver\\\\inc\\\\i2s.h', 'language': <Language.C: 'c'>}\n",
      "{'source': 'docs\\\\nuc100bsp_StdDriver_regs\\\\StdDriver\\\\inc\\\\pdma.h', 'language': <Language.C: 'c'>}\n",
      "{'source': 'docs\\\\nuc100bsp_StdDriver_regs\\\\StdDriver\\\\inc\\\\ps2.h', 'language': <Language.C: 'c'>}\n",
      "{'source': 'docs\\\\nuc100bsp_StdDriver_regs\\\\StdDriver\\\\inc\\\\pwm.h', 'language': <Language.C: 'c'>}\n",
      "{'source': 'docs\\\\nuc100bsp_StdDriver_regs\\\\StdDriver\\\\inc\\\\rtc.h', 'language': <Language.C: 'c'>}\n",
      "{'source': 'docs\\\\nuc100bsp_StdDriver_regs\\\\StdDriver\\\\inc\\\\sc.h', 'language': <Language.C: 'c'>}\n",
      "{'source': 'docs\\\\nuc100bsp_StdDriver_regs\\\\StdDriver\\\\inc\\\\spi.h', 'language': <Language.C: 'c'>}\n",
      "{'source': 'docs\\\\nuc100bsp_StdDriver_regs\\\\StdDriver\\\\inc\\\\sys.h', 'language': <Language.C: 'c'>}\n",
      "{'source': 'docs\\\\nuc100bsp_StdDriver_regs\\\\StdDriver\\\\inc\\\\timer.h', 'language': <Language.C: 'c'>}\n",
      "{'source': 'docs\\\\nuc100bsp_StdDriver_regs\\\\StdDriver\\\\inc\\\\uart.h', 'language': <Language.C: 'c'>}\n",
      "{'source': 'docs\\\\nuc100bsp_StdDriver_regs\\\\StdDriver\\\\inc\\\\usbd.h', 'language': <Language.C: 'c'>}\n",
      "{'source': 'docs\\\\nuc100bsp_StdDriver_regs\\\\StdDriver\\\\inc\\\\wdt.h', 'language': <Language.C: 'c'>}\n",
      "{'source': 'docs\\\\nuc100bsp_StdDriver_regs\\\\StdDriver\\\\inc\\\\wwdt.h', 'language': <Language.C: 'c'>}\n",
      "{'source': 'docs\\\\nuc100bsp_StdDriver_regs\\\\StdDriver\\\\src\\\\acmp.c', 'language': <Language.C: 'c'>}\n",
      "{'source': 'docs\\\\nuc100bsp_StdDriver_regs\\\\StdDriver\\\\src\\\\adc.c', 'language': <Language.C: 'c'>}\n",
      "{'source': 'docs\\\\nuc100bsp_StdDriver_regs\\\\StdDriver\\\\src\\\\clk.c', 'language': <Language.C: 'c'>}\n",
      "{'source': 'docs\\\\nuc100bsp_StdDriver_regs\\\\StdDriver\\\\src\\\\crc.c', 'language': <Language.C: 'c'>}\n",
      "{'source': 'docs\\\\nuc100bsp_StdDriver_regs\\\\StdDriver\\\\src\\\\fmc.c', 'language': <Language.C: 'c'>}\n",
      "{'source': 'docs\\\\nuc100bsp_StdDriver_regs\\\\StdDriver\\\\src\\\\gpio.c', 'language': <Language.C: 'c'>}\n",
      "{'source': 'docs\\\\nuc100bsp_StdDriver_regs\\\\StdDriver\\\\src\\\\i2c.c', 'language': <Language.C: 'c'>}\n",
      "{'source': 'docs\\\\nuc100bsp_StdDriver_regs\\\\StdDriver\\\\src\\\\i2s.c', 'language': <Language.C: 'c'>}\n",
      "{'source': 'docs\\\\nuc100bsp_StdDriver_regs\\\\StdDriver\\\\src\\\\pdma.c', 'language': <Language.C: 'c'>}\n",
      "{'source': 'docs\\\\nuc100bsp_StdDriver_regs\\\\StdDriver\\\\src\\\\ps2.c', 'language': <Language.C: 'c'>}\n",
      "{'source': 'docs\\\\nuc100bsp_StdDriver_regs\\\\StdDriver\\\\src\\\\pwm.c', 'language': <Language.C: 'c'>}\n",
      "{'source': 'docs\\\\nuc100bsp_StdDriver_regs\\\\StdDriver\\\\src\\\\retarget.c', 'language': <Language.C: 'c'>}\n",
      "{'source': 'docs\\\\nuc100bsp_StdDriver_regs\\\\StdDriver\\\\src\\\\rtc.c', 'language': <Language.C: 'c'>}\n",
      "{'source': 'docs\\\\nuc100bsp_StdDriver_regs\\\\StdDriver\\\\src\\\\sc.c', 'language': <Language.C: 'c'>}\n",
      "{'source': 'docs\\\\nuc100bsp_StdDriver_regs\\\\StdDriver\\\\src\\\\spi.c', 'language': <Language.C: 'c'>}\n",
      "{'source': 'docs\\\\nuc100bsp_StdDriver_regs\\\\StdDriver\\\\src\\\\sys.c', 'language': <Language.C: 'c'>}\n",
      "{'source': 'docs\\\\nuc100bsp_StdDriver_regs\\\\StdDriver\\\\src\\\\timer.c', 'language': <Language.C: 'c'>}\n",
      "{'source': 'docs\\\\nuc100bsp_StdDriver_regs\\\\StdDriver\\\\src\\\\uart.c', 'language': <Language.C: 'c'>}\n",
      "{'source': 'docs\\\\nuc100bsp_StdDriver_regs\\\\StdDriver\\\\src\\\\usbd.c', 'language': <Language.C: 'c'>}\n",
      "{'source': 'docs\\\\nuc100bsp_StdDriver_regs\\\\StdDriver\\\\src\\\\wdt.c', 'language': <Language.C: 'c'>}\n",
      "{'source': 'docs\\\\nuc100bsp_StdDriver_regs\\\\StdDriver\\\\src\\\\wwdt.c', 'language': <Language.C: 'c'>}\n"
     ]
    }
   ],
   "source": [
    "for document in docs:\n",
    "    print(document.metadata)\n",
    "#print(\"\\n\\n--8<--\\n\\n\".join([document.page_content for document in docs]))  "
   ]
  },
  {
   "cell_type": "code",
   "execution_count": 91,
   "id": "d895744b-ab56-46dc-b707-30f1e812803d",
   "metadata": {},
   "outputs": [
    {
     "data": {
      "text/plain": [
       "879"
      ]
     },
     "execution_count": 91,
     "metadata": {},
     "output_type": "execute_result"
    }
   ],
   "source": [
    "from langchain.text_splitter import RecursiveCharacterTextSplitter\n",
    "C_splitter = RecursiveCharacterTextSplitter.from_language(language=Language.C, chunk_size=2000, chunk_overlap=200)\n",
    "texts = C_splitter.split_documents(docs)\n",
    "len(texts)"
   ]
  },
  {
   "cell_type": "code",
   "execution_count": 92,
   "id": "4cc78b5a-2b1c-447f-90a6-935d5f6549ee",
   "metadata": {
    "tags": []
   },
   "outputs": [
    {
     "name": "stdout",
     "output_type": "stream",
     "text": [
      "/**************************************************************************//**\n",
      " * @file     NUC100Series.h\n",
      " * @version  V3.0\n",
      " * $Revision: 33 $\n",
      " * $Date: 17/05/26 10:54a $\n",
      " * @brief    NUC100 Series Peripheral Access Layer Header File\n",
      " *\n",
      " * @note\n",
      " * SPDX-License-Identifier: Apache-2.0\n",
      " *\n",
      " * Copyright (C) 2014 Nuvoton Technology Corp. All rights reserved.\n",
      " *\n",
      " ******************************************************************************/\n",
      "\n",
      "\n",
      "\n",
      "/**\n",
      "  \\mainpage Introduction\n",
      "  *\n",
      "  *\n",
      "  * This user manual describes the usage of NUC100 Series MCU device driver\n",
      "  *\n",
      "  * <b>Disclaimer</b>\n",
      "  *\n",
      "  * The Software is furnished \"AS IS\", without warranty as to performance or results, and\n",
      "  * the entire risk as to performance or results is assumed by YOU. Nuvoton disclaims all\n",
      "  * warranties, express, implied or otherwise, with regard to the Software, its use, or\n",
      "  * operation, including without limitation any and all warranties of merchantability, fitness\n",
      "  * for a particular purpose, and non-infringement of intellectual property rights.\n",
      "  *\n",
      "  * <b>Copyright Notice</b>\n",
      "  *\n",
      "  * Copyright (C) 2014 Nuvoton Technology Corp. All rights reserved.\n",
      "  */\n",
      "\n",
      "#ifndef __NUC100Series_H__\n",
      "#define __NUC100Series_H__\n",
      "\n",
      "/*\n",
      " * ==========================================================================\n",
      " * ---------- Interrupt Number Definition -----------------------------------\n",
      " * ==========================================================================\n",
      "*/\n",
      "\n",
      "/** @addtogroup CMSIS Device Definitions for CMSIS\n",
      "  Interrupt Number Definition and Configurations for CMSIS\n",
      "  @{\n",
      "*/\n",
      "\n",
      "/**\n",
      " * @details  Interrupt Number Definition. The maximum of 32 Specific Interrupts are possible.\n",
      " */\n",
      "page_content='/**************************************************************************//**\\n * @file     NUC100Series.h\\n * @version  V3.0\\n * $Revision: 33 $\\n * $Date: 17/05/26 10:54a $\\n * @brief    NUC100 Series Peripheral Access Layer Header File\\n *\\n * @note\\n * SPDX-License-Identifier: Apache-2.0\\n *\\n * Copyright (C) 2014 Nuvoton Technology Corp. All rights reserved.\\n *\\n ******************************************************************************/\\n\\n\\n\\n/**\\n  \\\\mainpage Introduction\\n  *\\n  *\\n  * This user manual describes the usage of NUC100 Series MCU device driver\\n  *\\n  * <b>Disclaimer</b>\\n  *\\n  * The Software is furnished \"AS IS\", without warranty as to performance or results, and\\n  * the entire risk as to performance or results is assumed by YOU. Nuvoton disclaims all\\n  * warranties, express, implied or otherwise, with regard to the Software, its use, or\\n  * operation, including without limitation any and all warranties of merchantability, fitness\\n  * for a particular purpose, and non-infringement of intellectual property rights.\\n  *\\n  * <b>Copyright Notice</b>\\n  *\\n  * Copyright (C) 2014 Nuvoton Technology Corp. All rights reserved.\\n  */\\n\\n#ifndef __NUC100Series_H__\\n#define __NUC100Series_H__\\n\\n/*\\n * ==========================================================================\\n * ---------- Interrupt Number Definition -----------------------------------\\n * ==========================================================================\\n*/\\n\\n/** @addtogroup CMSIS Device Definitions for CMSIS\\n  Interrupt Number Definition and Configurations for CMSIS\\n  @{\\n*/\\n\\n/**\\n * @details  Interrupt Number Definition. The maximum of 32 Specific Interrupts are possible.\\n */' metadata={'source': 'docs\\\\nuc100bsp_StdDriver_regs\\\\NUC100Series\\\\Include\\\\NUC100Series.h'}\n"
     ]
    }
   ],
   "source": [
    "print(texts[0].page_content)\n",
    "print(texts[0])"
   ]
  },
  {
   "cell_type": "markdown",
   "id": "7eeb5308-98f8-463e-a7db-b916d04cad16",
   "metadata": {},
   "source": [
    "## Load a single PDF file"
   ]
  },
  {
   "cell_type": "code",
   "execution_count": 52,
   "id": "0b84064d-4321-487c-983f-0eb96f1dd344",
   "metadata": {
    "tags": []
   },
   "outputs": [
    {
     "name": "stderr",
     "output_type": "stream",
     "text": [
      "WARNING:root:Because the aspect ratio of the current image exceeds the limit (min_height or width_height_ratio), the program will skip the detection step.\n",
      "WARNING:root:Because the aspect ratio of the current image exceeds the limit (min_height or width_height_ratio), the program will skip the detection step.\n",
      "WARNING:root:Because the aspect ratio of the current image exceeds the limit (min_height or width_height_ratio), the program will skip the detection step.\n",
      "WARNING:root:Because the aspect ratio of the current image exceeds the limit (min_height or width_height_ratio), the program will skip the detection step.\n",
      "WARNING:root:Because the aspect ratio of the current image exceeds the limit (min_height or width_height_ratio), the program will skip the detection step.\n",
      "WARNING:root:Because the aspect ratio of the current image exceeds the limit (min_height or width_height_ratio), the program will skip the detection step.\n",
      "WARNING:root:Because the aspect ratio of the current image exceeds the limit (min_height or width_height_ratio), the program will skip the detection step.\n",
      "WARNING:root:Because the aspect ratio of the current image exceeds the limit (min_height or width_height_ratio), the program will skip the detection step.\n",
      "WARNING:root:Because the aspect ratio of the current image exceeds the limit (min_height or width_height_ratio), the program will skip the detection step.\n",
      "WARNING:root:Because the aspect ratio of the current image exceeds the limit (min_height or width_height_ratio), the program will skip the detection step.\n",
      "WARNING:root:Because the aspect ratio of the current image exceeds the limit (min_height or width_height_ratio), the program will skip the detection step.\n",
      "WARNING:root:Because the aspect ratio of the current image exceeds the limit (min_height or width_height_ratio), the program will skip the detection step.\n",
      "WARNING:root:Because the aspect ratio of the current image exceeds the limit (min_height or width_height_ratio), the program will skip the detection step.\n",
      "WARNING:pypdf.generic._base:Illegal character in Name Object (b'/ABCDEE+\\xb7s\\xb2\\xd3\\xa9\\xfa\\xc5\\xe9')\n",
      "WARNING:pypdf.generic._base:Illegal character in Name Object (b'/ABCDEE+\\xb7s\\xb2\\xd3\\xa9\\xfa\\xc5\\xe9')\n",
      "WARNING:root:Because the aspect ratio of the current image exceeds the limit (min_height or width_height_ratio), the program will skip the detection step.\n",
      "WARNING:pypdf.generic._base:Illegal character in Name Object (b'/ABCDEE+\\xb7s\\xb2\\xd3\\xa9\\xfa\\xc5\\xe9')\n",
      "WARNING:pypdf.generic._base:Illegal character in Name Object (b'/ABCDEE+\\xb2\\xd3\\xa9\\xfa\\xc5\\xe9')\n",
      "WARNING:pypdf.generic._base:Illegal character in Name Object (b'/ABCDEE+\\xb2\\xd3\\xa9\\xfa\\xc5\\xe9')\n",
      "WARNING:root:Because the aspect ratio of the current image exceeds the limit (min_height or width_height_ratio), the program will skip the detection step.\n",
      "WARNING:root:Because the aspect ratio of the current image exceeds the limit (min_height or width_height_ratio), the program will skip the detection step.\n",
      "WARNING:root:Because the aspect ratio of the current image exceeds the limit (min_height or width_height_ratio), the program will skip the detection step.\n",
      "WARNING:pypdf.generic._base:Illegal character in Name Object (b'/ABCDEE+\\xb2\\xd3\\xa9\\xfa\\xc5\\xe9')\n",
      "WARNING:root:Because the aspect ratio of the current image exceeds the limit (min_height or width_height_ratio), the program will skip the detection step.\n",
      "WARNING:root:Because the aspect ratio of the current image exceeds the limit (min_height or width_height_ratio), the program will skip the detection step.\n",
      "WARNING:root:Because the aspect ratio of the current image exceeds the limit (min_height or width_height_ratio), the program will skip the detection step.\n",
      "WARNING:root:Because the aspect ratio of the current image exceeds the limit (min_height or width_height_ratio), the program will skip the detection step.\n",
      "WARNING:root:Because the aspect ratio of the current image exceeds the limit (min_height or width_height_ratio), the program will skip the detection step.\n",
      "WARNING:root:Because the aspect ratio of the current image exceeds the limit (min_height or width_height_ratio), the program will skip the detection step.\n",
      "WARNING:root:Because the aspect ratio of the current image exceeds the limit (min_height or width_height_ratio), the program will skip the detection step.\n",
      "WARNING:root:Because the aspect ratio of the current image exceeds the limit (min_height or width_height_ratio), the program will skip the detection step.\n",
      "WARNING:root:Because the aspect ratio of the current image exceeds the limit (min_height or width_height_ratio), the program will skip the detection step.\n",
      "WARNING:root:Because the aspect ratio of the current image exceeds the limit (min_height or width_height_ratio), the program will skip the detection step.\n",
      "WARNING:root:Because the aspect ratio of the current image exceeds the limit (min_height or width_height_ratio), the program will skip the detection step.\n",
      "WARNING:root:Because the aspect ratio of the current image exceeds the limit (min_height or width_height_ratio), the program will skip the detection step.\n",
      "WARNING:root:Because the aspect ratio of the current image exceeds the limit (min_height or width_height_ratio), the program will skip the detection step.\n",
      "WARNING:root:Because the aspect ratio of the current image exceeds the limit (min_height or width_height_ratio), the program will skip the detection step.\n",
      "WARNING:root:Because the aspect ratio of the current image exceeds the limit (min_height or width_height_ratio), the program will skip the detection step.\n",
      "WARNING:root:Because the aspect ratio of the current image exceeds the limit (min_height or width_height_ratio), the program will skip the detection step.\n",
      "WARNING:root:Because the aspect ratio of the current image exceeds the limit (min_height or width_height_ratio), the program will skip the detection step.\n",
      "WARNING:root:Because the aspect ratio of the current image exceeds the limit (min_height or width_height_ratio), the program will skip the detection step.\n",
      "WARNING:root:Because the aspect ratio of the current image exceeds the limit (min_height or width_height_ratio), the program will skip the detection step.\n",
      "WARNING:root:Because the aspect ratio of the current image exceeds the limit (min_height or width_height_ratio), the program will skip the detection step.\n",
      "WARNING:root:Because the aspect ratio of the current image exceeds the limit (min_height or width_height_ratio), the program will skip the detection step.\n",
      "WARNING:root:Because the aspect ratio of the current image exceeds the limit (min_height or width_height_ratio), the program will skip the detection step.\n",
      "WARNING:root:Because the aspect ratio of the current image exceeds the limit (min_height or width_height_ratio), the program will skip the detection step.\n",
      "WARNING:root:Because the aspect ratio of the current image exceeds the limit (min_height or width_height_ratio), the program will skip the detection step.\n",
      "WARNING:root:Because the aspect ratio of the current image exceeds the limit (min_height or width_height_ratio), the program will skip the detection step.\n",
      "WARNING:root:Because the aspect ratio of the current image exceeds the limit (min_height or width_height_ratio), the program will skip the detection step.\n",
      "WARNING:root:Because the aspect ratio of the current image exceeds the limit (min_height or width_height_ratio), the program will skip the detection step.\n",
      "WARNING:root:Because the aspect ratio of the current image exceeds the limit (min_height or width_height_ratio), the program will skip the detection step.\n",
      "WARNING:root:Because the aspect ratio of the current image exceeds the limit (min_height or width_height_ratio), the program will skip the detection step.\n",
      "WARNING:root:Because the aspect ratio of the current image exceeds the limit (min_height or width_height_ratio), the program will skip the detection step.\n",
      "WARNING:root:Because the aspect ratio of the current image exceeds the limit (min_height or width_height_ratio), the program will skip the detection step.\n",
      "WARNING:root:Because the aspect ratio of the current image exceeds the limit (min_height or width_height_ratio), the program will skip the detection step.\n",
      "WARNING:root:Because the aspect ratio of the current image exceeds the limit (min_height or width_height_ratio), the program will skip the detection step.\n",
      "WARNING:root:Because the aspect ratio of the current image exceeds the limit (min_height or width_height_ratio), the program will skip the detection step.\n",
      "WARNING:root:Because the aspect ratio of the current image exceeds the limit (min_height or width_height_ratio), the program will skip the detection step.\n",
      "WARNING:root:Because the aspect ratio of the current image exceeds the limit (min_height or width_height_ratio), the program will skip the detection step.\n",
      "WARNING:root:Because the aspect ratio of the current image exceeds the limit (min_height or width_height_ratio), the program will skip the detection step.\n",
      "WARNING:root:Because the aspect ratio of the current image exceeds the limit (min_height or width_height_ratio), the program will skip the detection step.\n",
      "WARNING:root:Because the aspect ratio of the current image exceeds the limit (min_height or width_height_ratio), the program will skip the detection step.\n",
      "WARNING:root:Because the aspect ratio of the current image exceeds the limit (min_height or width_height_ratio), the program will skip the detection step.\n",
      "WARNING:root:Because the aspect ratio of the current image exceeds the limit (min_height or width_height_ratio), the program will skip the detection step.\n",
      "WARNING:root:Because the aspect ratio of the current image exceeds the limit (min_height or width_height_ratio), the program will skip the detection step.\n",
      "WARNING:root:Because the aspect ratio of the current image exceeds the limit (min_height or width_height_ratio), the program will skip the detection step.\n",
      "WARNING:root:Because the aspect ratio of the current image exceeds the limit (min_height or width_height_ratio), the program will skip the detection step.\n",
      "WARNING:root:Because the aspect ratio of the current image exceeds the limit (min_height or width_height_ratio), the program will skip the detection step.\n",
      "WARNING:root:Because the aspect ratio of the current image exceeds the limit (min_height or width_height_ratio), the program will skip the detection step.\n",
      "WARNING:root:Because the aspect ratio of the current image exceeds the limit (min_height or width_height_ratio), the program will skip the detection step.\n",
      "WARNING:root:Because the aspect ratio of the current image exceeds the limit (min_height or width_height_ratio), the program will skip the detection step.\n",
      "WARNING:root:Because the aspect ratio of the current image exceeds the limit (min_height or width_height_ratio), the program will skip the detection step.\n",
      "WARNING:root:Because the aspect ratio of the current image exceeds the limit (min_height or width_height_ratio), the program will skip the detection step.\n",
      "WARNING:root:Because the aspect ratio of the current image exceeds the limit (min_height or width_height_ratio), the program will skip the detection step.\n",
      "WARNING:root:Because the aspect ratio of the current image exceeds the limit (min_height or width_height_ratio), the program will skip the detection step.\n",
      "WARNING:root:Because the aspect ratio of the current image exceeds the limit (min_height or width_height_ratio), the program will skip the detection step.\n",
      "WARNING:root:Because the aspect ratio of the current image exceeds the limit (min_height or width_height_ratio), the program will skip the detection step.\n",
      "WARNING:root:Because the aspect ratio of the current image exceeds the limit (min_height or width_height_ratio), the program will skip the detection step.\n",
      "WARNING:root:Because the aspect ratio of the current image exceeds the limit (min_height or width_height_ratio), the program will skip the detection step.\n",
      "WARNING:root:Because the aspect ratio of the current image exceeds the limit (min_height or width_height_ratio), the program will skip the detection step.\n",
      "WARNING:root:Because the aspect ratio of the current image exceeds the limit (min_height or width_height_ratio), the program will skip the detection step.\n",
      "WARNING:root:Because the aspect ratio of the current image exceeds the limit (min_height or width_height_ratio), the program will skip the detection step.\n",
      "WARNING:root:Because the aspect ratio of the current image exceeds the limit (min_height or width_height_ratio), the program will skip the detection step.\n",
      "WARNING:root:Because the aspect ratio of the current image exceeds the limit (min_height or width_height_ratio), the program will skip the detection step.\n",
      "WARNING:root:Because the aspect ratio of the current image exceeds the limit (min_height or width_height_ratio), the program will skip the detection step.\n",
      "WARNING:root:Because the aspect ratio of the current image exceeds the limit (min_height or width_height_ratio), the program will skip the detection step.\n",
      "WARNING:root:Because the aspect ratio of the current image exceeds the limit (min_height or width_height_ratio), the program will skip the detection step.\n",
      "WARNING:root:Because the aspect ratio of the current image exceeds the limit (min_height or width_height_ratio), the program will skip the detection step.\n",
      "WARNING:root:Because the aspect ratio of the current image exceeds the limit (min_height or width_height_ratio), the program will skip the detection step.\n",
      "WARNING:root:Because the aspect ratio of the current image exceeds the limit (min_height or width_height_ratio), the program will skip the detection step.\n",
      "WARNING:root:Because the aspect ratio of the current image exceeds the limit (min_height or width_height_ratio), the program will skip the detection step.\n",
      "WARNING:root:Because the aspect ratio of the current image exceeds the limit (min_height or width_height_ratio), the program will skip the detection step.\n",
      "WARNING:root:Because the aspect ratio of the current image exceeds the limit (min_height or width_height_ratio), the program will skip the detection step.\n",
      "WARNING:root:Because the aspect ratio of the current image exceeds the limit (min_height or width_height_ratio), the program will skip the detection step.\n",
      "WARNING:root:Because the aspect ratio of the current image exceeds the limit (min_height or width_height_ratio), the program will skip the detection step.\n",
      "WARNING:root:Because the aspect ratio of the current image exceeds the limit (min_height or width_height_ratio), the program will skip the detection step.\n",
      "WARNING:root:Because the aspect ratio of the current image exceeds the limit (min_height or width_height_ratio), the program will skip the detection step.\n",
      "WARNING:root:Because the aspect ratio of the current image exceeds the limit (min_height or width_height_ratio), the program will skip the detection step.\n",
      "WARNING:root:Because the aspect ratio of the current image exceeds the limit (min_height or width_height_ratio), the program will skip the detection step.\n",
      "WARNING:root:Because the aspect ratio of the current image exceeds the limit (min_height or width_height_ratio), the program will skip the detection step.\n",
      "WARNING:root:Because the aspect ratio of the current image exceeds the limit (min_height or width_height_ratio), the program will skip the detection step.\n",
      "WARNING:root:Because the aspect ratio of the current image exceeds the limit (min_height or width_height_ratio), the program will skip the detection step.\n",
      "WARNING:root:Because the aspect ratio of the current image exceeds the limit (min_height or width_height_ratio), the program will skip the detection step.\n",
      "WARNING:root:Because the aspect ratio of the current image exceeds the limit (min_height or width_height_ratio), the program will skip the detection step.\n",
      "WARNING:root:Because the aspect ratio of the current image exceeds the limit (min_height or width_height_ratio), the program will skip the detection step.\n",
      "WARNING:root:Because the aspect ratio of the current image exceeds the limit (min_height or width_height_ratio), the program will skip the detection step.\n",
      "WARNING:root:Because the aspect ratio of the current image exceeds the limit (min_height or width_height_ratio), the program will skip the detection step.\n",
      "WARNING:root:Because the aspect ratio of the current image exceeds the limit (min_height or width_height_ratio), the program will skip the detection step.\n",
      "WARNING:root:Because the aspect ratio of the current image exceeds the limit (min_height or width_height_ratio), the program will skip the detection step.\n",
      "WARNING:root:Because the aspect ratio of the current image exceeds the limit (min_height or width_height_ratio), the program will skip the detection step.\n",
      "WARNING:root:Because the aspect ratio of the current image exceeds the limit (min_height or width_height_ratio), the program will skip the detection step.\n",
      "WARNING:root:Because the aspect ratio of the current image exceeds the limit (min_height or width_height_ratio), the program will skip the detection step.\n",
      "WARNING:root:Because the aspect ratio of the current image exceeds the limit (min_height or width_height_ratio), the program will skip the detection step.\n",
      "WARNING:root:Because the aspect ratio of the current image exceeds the limit (min_height or width_height_ratio), the program will skip the detection step.\n",
      "WARNING:root:Because the aspect ratio of the current image exceeds the limit (min_height or width_height_ratio), the program will skip the detection step.\n",
      "WARNING:root:Because the aspect ratio of the current image exceeds the limit (min_height or width_height_ratio), the program will skip the detection step.\n",
      "WARNING:root:Because the aspect ratio of the current image exceeds the limit (min_height or width_height_ratio), the program will skip the detection step.\n",
      "WARNING:root:Because the aspect ratio of the current image exceeds the limit (min_height or width_height_ratio), the program will skip the detection step.\n",
      "WARNING:root:Because the aspect ratio of the current image exceeds the limit (min_height or width_height_ratio), the program will skip the detection step.\n",
      "WARNING:root:Because the aspect ratio of the current image exceeds the limit (min_height or width_height_ratio), the program will skip the detection step.\n",
      "WARNING:root:Because the aspect ratio of the current image exceeds the limit (min_height or width_height_ratio), the program will skip the detection step.\n",
      "WARNING:root:Because the aspect ratio of the current image exceeds the limit (min_height or width_height_ratio), the program will skip the detection step.\n",
      "WARNING:root:Because the aspect ratio of the current image exceeds the limit (min_height or width_height_ratio), the program will skip the detection step.\n",
      "WARNING:root:Because the aspect ratio of the current image exceeds the limit (min_height or width_height_ratio), the program will skip the detection step.\n",
      "WARNING:root:Because the aspect ratio of the current image exceeds the limit (min_height or width_height_ratio), the program will skip the detection step.\n",
      "WARNING:root:Because the aspect ratio of the current image exceeds the limit (min_height or width_height_ratio), the program will skip the detection step.\n",
      "WARNING:root:Because the aspect ratio of the current image exceeds the limit (min_height or width_height_ratio), the program will skip the detection step.\n",
      "WARNING:root:Because the aspect ratio of the current image exceeds the limit (min_height or width_height_ratio), the program will skip the detection step.\n",
      "WARNING:root:Because the aspect ratio of the current image exceeds the limit (min_height or width_height_ratio), the program will skip the detection step.\n",
      "WARNING:root:Because the aspect ratio of the current image exceeds the limit (min_height or width_height_ratio), the program will skip the detection step.\n",
      "WARNING:root:Because the aspect ratio of the current image exceeds the limit (min_height or width_height_ratio), the program will skip the detection step.\n",
      "WARNING:root:Because the aspect ratio of the current image exceeds the limit (min_height or width_height_ratio), the program will skip the detection step.\n",
      "WARNING:root:Because the aspect ratio of the current image exceeds the limit (min_height or width_height_ratio), the program will skip the detection step.\n",
      "WARNING:root:Because the aspect ratio of the current image exceeds the limit (min_height or width_height_ratio), the program will skip the detection step.\n",
      "WARNING:root:Because the aspect ratio of the current image exceeds the limit (min_height or width_height_ratio), the program will skip the detection step.\n",
      "WARNING:root:Because the aspect ratio of the current image exceeds the limit (min_height or width_height_ratio), the program will skip the detection step.\n",
      "WARNING:root:Because the aspect ratio of the current image exceeds the limit (min_height or width_height_ratio), the program will skip the detection step.\n",
      "WARNING:root:Because the aspect ratio of the current image exceeds the limit (min_height or width_height_ratio), the program will skip the detection step.\n",
      "WARNING:root:Because the aspect ratio of the current image exceeds the limit (min_height or width_height_ratio), the program will skip the detection step.\n",
      "WARNING:root:Because the aspect ratio of the current image exceeds the limit (min_height or width_height_ratio), the program will skip the detection step.\n",
      "WARNING:root:Because the aspect ratio of the current image exceeds the limit (min_height or width_height_ratio), the program will skip the detection step.\n",
      "WARNING:root:Because the aspect ratio of the current image exceeds the limit (min_height or width_height_ratio), the program will skip the detection step.\n",
      "WARNING:root:Because the aspect ratio of the current image exceeds the limit (min_height or width_height_ratio), the program will skip the detection step.\n",
      "WARNING:root:Because the aspect ratio of the current image exceeds the limit (min_height or width_height_ratio), the program will skip the detection step.\n",
      "WARNING:root:Because the aspect ratio of the current image exceeds the limit (min_height or width_height_ratio), the program will skip the detection step.\n",
      "WARNING:root:Because the aspect ratio of the current image exceeds the limit (min_height or width_height_ratio), the program will skip the detection step.\n",
      "WARNING:root:Because the aspect ratio of the current image exceeds the limit (min_height or width_height_ratio), the program will skip the detection step.\n",
      "WARNING:root:Because the aspect ratio of the current image exceeds the limit (min_height or width_height_ratio), the program will skip the detection step.\n",
      "WARNING:root:Because the aspect ratio of the current image exceeds the limit (min_height or width_height_ratio), the program will skip the detection step.\n",
      "WARNING:root:Because the aspect ratio of the current image exceeds the limit (min_height or width_height_ratio), the program will skip the detection step.\n",
      "WARNING:root:Because the aspect ratio of the current image exceeds the limit (min_height or width_height_ratio), the program will skip the detection step.\n",
      "WARNING:root:Because the aspect ratio of the current image exceeds the limit (min_height or width_height_ratio), the program will skip the detection step.\n",
      "WARNING:root:Because the aspect ratio of the current image exceeds the limit (min_height or width_height_ratio), the program will skip the detection step.\n",
      "WARNING:root:Because the aspect ratio of the current image exceeds the limit (min_height or width_height_ratio), the program will skip the detection step.\n",
      "WARNING:root:Because the aspect ratio of the current image exceeds the limit (min_height or width_height_ratio), the program will skip the detection step.\n",
      "WARNING:root:Because the aspect ratio of the current image exceeds the limit (min_height or width_height_ratio), the program will skip the detection step.\n",
      "WARNING:root:Because the aspect ratio of the current image exceeds the limit (min_height or width_height_ratio), the program will skip the detection step.\n",
      "WARNING:root:Because the aspect ratio of the current image exceeds the limit (min_height or width_height_ratio), the program will skip the detection step.\n",
      "WARNING:root:Because the aspect ratio of the current image exceeds the limit (min_height or width_height_ratio), the program will skip the detection step.\n",
      "WARNING:root:Because the aspect ratio of the current image exceeds the limit (min_height or width_height_ratio), the program will skip the detection step.\n",
      "WARNING:root:Because the aspect ratio of the current image exceeds the limit (min_height or width_height_ratio), the program will skip the detection step.\n",
      "WARNING:root:Because the aspect ratio of the current image exceeds the limit (min_height or width_height_ratio), the program will skip the detection step.\n",
      "WARNING:root:Because the aspect ratio of the current image exceeds the limit (min_height or width_height_ratio), the program will skip the detection step.\n",
      "WARNING:root:Because the aspect ratio of the current image exceeds the limit (min_height or width_height_ratio), the program will skip the detection step.\n",
      "WARNING:root:Because the aspect ratio of the current image exceeds the limit (min_height or width_height_ratio), the program will skip the detection step.\n",
      "WARNING:root:Because the aspect ratio of the current image exceeds the limit (min_height or width_height_ratio), the program will skip the detection step.\n",
      "WARNING:root:Because the aspect ratio of the current image exceeds the limit (min_height or width_height_ratio), the program will skip the detection step.\n",
      "WARNING:root:Because the aspect ratio of the current image exceeds the limit (min_height or width_height_ratio), the program will skip the detection step.\n",
      "WARNING:root:Because the aspect ratio of the current image exceeds the limit (min_height or width_height_ratio), the program will skip the detection step.\n",
      "WARNING:root:Because the aspect ratio of the current image exceeds the limit (min_height or width_height_ratio), the program will skip the detection step.\n",
      "WARNING:root:Because the aspect ratio of the current image exceeds the limit (min_height or width_height_ratio), the program will skip the detection step.\n",
      "WARNING:root:Because the aspect ratio of the current image exceeds the limit (min_height or width_height_ratio), the program will skip the detection step.\n",
      "WARNING:root:Because the aspect ratio of the current image exceeds the limit (min_height or width_height_ratio), the program will skip the detection step.\n",
      "WARNING:root:Because the aspect ratio of the current image exceeds the limit (min_height or width_height_ratio), the program will skip the detection step.\n",
      "WARNING:root:Because the aspect ratio of the current image exceeds the limit (min_height or width_height_ratio), the program will skip the detection step.\n",
      "WARNING:root:Because the aspect ratio of the current image exceeds the limit (min_height or width_height_ratio), the program will skip the detection step.\n",
      "WARNING:root:Because the aspect ratio of the current image exceeds the limit (min_height or width_height_ratio), the program will skip the detection step.\n",
      "WARNING:root:Because the aspect ratio of the current image exceeds the limit (min_height or width_height_ratio), the program will skip the detection step.\n",
      "WARNING:root:Because the aspect ratio of the current image exceeds the limit (min_height or width_height_ratio), the program will skip the detection step.\n",
      "WARNING:root:Because the aspect ratio of the current image exceeds the limit (min_height or width_height_ratio), the program will skip the detection step.\n",
      "WARNING:root:Because the aspect ratio of the current image exceeds the limit (min_height or width_height_ratio), the program will skip the detection step.\n",
      "WARNING:root:Because the aspect ratio of the current image exceeds the limit (min_height or width_height_ratio), the program will skip the detection step.\n",
      "WARNING:root:Because the aspect ratio of the current image exceeds the limit (min_height or width_height_ratio), the program will skip the detection step.\n",
      "WARNING:root:Because the aspect ratio of the current image exceeds the limit (min_height or width_height_ratio), the program will skip the detection step.\n",
      "WARNING:root:Because the aspect ratio of the current image exceeds the limit (min_height or width_height_ratio), the program will skip the detection step.\n",
      "WARNING:root:Because the aspect ratio of the current image exceeds the limit (min_height or width_height_ratio), the program will skip the detection step.\n",
      "WARNING:root:Because the aspect ratio of the current image exceeds the limit (min_height or width_height_ratio), the program will skip the detection step.\n",
      "WARNING:root:Because the aspect ratio of the current image exceeds the limit (min_height or width_height_ratio), the program will skip the detection step.\n",
      "WARNING:root:Because the aspect ratio of the current image exceeds the limit (min_height or width_height_ratio), the program will skip the detection step.\n",
      "WARNING:root:Because the aspect ratio of the current image exceeds the limit (min_height or width_height_ratio), the program will skip the detection step.\n",
      "WARNING:root:Because the aspect ratio of the current image exceeds the limit (min_height or width_height_ratio), the program will skip the detection step.\n",
      "WARNING:root:Because the aspect ratio of the current image exceeds the limit (min_height or width_height_ratio), the program will skip the detection step.\n",
      "WARNING:root:Because the aspect ratio of the current image exceeds the limit (min_height or width_height_ratio), the program will skip the detection step.\n",
      "WARNING:root:Because the aspect ratio of the current image exceeds the limit (min_height or width_height_ratio), the program will skip the detection step.\n",
      "WARNING:root:Because the aspect ratio of the current image exceeds the limit (min_height or width_height_ratio), the program will skip the detection step.\n",
      "WARNING:root:Because the aspect ratio of the current image exceeds the limit (min_height or width_height_ratio), the program will skip the detection step.\n",
      "WARNING:root:Because the aspect ratio of the current image exceeds the limit (min_height or width_height_ratio), the program will skip the detection step.\n",
      "WARNING:root:Because the aspect ratio of the current image exceeds the limit (min_height or width_height_ratio), the program will skip the detection step.\n",
      "WARNING:root:Because the aspect ratio of the current image exceeds the limit (min_height or width_height_ratio), the program will skip the detection step.\n",
      "WARNING:root:Because the aspect ratio of the current image exceeds the limit (min_height or width_height_ratio), the program will skip the detection step.\n",
      "WARNING:root:Because the aspect ratio of the current image exceeds the limit (min_height or width_height_ratio), the program will skip the detection step.\n",
      "WARNING:root:Because the aspect ratio of the current image exceeds the limit (min_height or width_height_ratio), the program will skip the detection step.\n",
      "WARNING:root:Because the aspect ratio of the current image exceeds the limit (min_height or width_height_ratio), the program will skip the detection step.\n",
      "WARNING:root:Because the aspect ratio of the current image exceeds the limit (min_height or width_height_ratio), the program will skip the detection step.\n",
      "WARNING:root:Because the aspect ratio of the current image exceeds the limit (min_height or width_height_ratio), the program will skip the detection step.\n",
      "WARNING:root:Because the aspect ratio of the current image exceeds the limit (min_height or width_height_ratio), the program will skip the detection step.\n",
      "WARNING:root:Because the aspect ratio of the current image exceeds the limit (min_height or width_height_ratio), the program will skip the detection step.\n",
      "WARNING:root:Because the aspect ratio of the current image exceeds the limit (min_height or width_height_ratio), the program will skip the detection step.\n",
      "WARNING:root:Because the aspect ratio of the current image exceeds the limit (min_height or width_height_ratio), the program will skip the detection step.\n",
      "WARNING:root:Because the aspect ratio of the current image exceeds the limit (min_height or width_height_ratio), the program will skip the detection step.\n",
      "WARNING:root:Because the aspect ratio of the current image exceeds the limit (min_height or width_height_ratio), the program will skip the detection step.\n",
      "WARNING:root:Because the aspect ratio of the current image exceeds the limit (min_height or width_height_ratio), the program will skip the detection step.\n",
      "WARNING:root:Because the aspect ratio of the current image exceeds the limit (min_height or width_height_ratio), the program will skip the detection step.\n",
      "WARNING:root:Because the aspect ratio of the current image exceeds the limit (min_height or width_height_ratio), the program will skip the detection step.\n",
      "WARNING:root:Because the aspect ratio of the current image exceeds the limit (min_height or width_height_ratio), the program will skip the detection step.\n",
      "WARNING:root:Because the aspect ratio of the current image exceeds the limit (min_height or width_height_ratio), the program will skip the detection step.\n",
      "WARNING:root:Because the aspect ratio of the current image exceeds the limit (min_height or width_height_ratio), the program will skip the detection step.\n",
      "WARNING:root:Because the aspect ratio of the current image exceeds the limit (min_height or width_height_ratio), the program will skip the detection step.\n",
      "WARNING:root:Because the aspect ratio of the current image exceeds the limit (min_height or width_height_ratio), the program will skip the detection step.\n",
      "WARNING:root:Because the aspect ratio of the current image exceeds the limit (min_height or width_height_ratio), the program will skip the detection step.\n",
      "WARNING:root:Because the aspect ratio of the current image exceeds the limit (min_height or width_height_ratio), the program will skip the detection step.\n",
      "WARNING:root:Because the aspect ratio of the current image exceeds the limit (min_height or width_height_ratio), the program will skip the detection step.\n",
      "WARNING:root:Because the aspect ratio of the current image exceeds the limit (min_height or width_height_ratio), the program will skip the detection step.\n",
      "WARNING:root:Because the aspect ratio of the current image exceeds the limit (min_height or width_height_ratio), the program will skip the detection step.\n",
      "WARNING:root:Because the aspect ratio of the current image exceeds the limit (min_height or width_height_ratio), the program will skip the detection step.\n",
      "WARNING:root:Because the aspect ratio of the current image exceeds the limit (min_height or width_height_ratio), the program will skip the detection step.\n",
      "WARNING:root:Because the aspect ratio of the current image exceeds the limit (min_height or width_height_ratio), the program will skip the detection step.\n",
      "WARNING:root:Because the aspect ratio of the current image exceeds the limit (min_height or width_height_ratio), the program will skip the detection step.\n",
      "WARNING:root:Because the aspect ratio of the current image exceeds the limit (min_height or width_height_ratio), the program will skip the detection step.\n",
      "WARNING:root:Because the aspect ratio of the current image exceeds the limit (min_height or width_height_ratio), the program will skip the detection step.\n",
      "WARNING:root:Because the aspect ratio of the current image exceeds the limit (min_height or width_height_ratio), the program will skip the detection step.\n",
      "WARNING:root:Because the aspect ratio of the current image exceeds the limit (min_height or width_height_ratio), the program will skip the detection step.\n",
      "WARNING:root:Because the aspect ratio of the current image exceeds the limit (min_height or width_height_ratio), the program will skip the detection step.\n",
      "WARNING:root:Because the aspect ratio of the current image exceeds the limit (min_height or width_height_ratio), the program will skip the detection step.\n",
      "WARNING:root:Because the aspect ratio of the current image exceeds the limit (min_height or width_height_ratio), the program will skip the detection step.\n",
      "WARNING:root:Because the aspect ratio of the current image exceeds the limit (min_height or width_height_ratio), the program will skip the detection step.\n",
      "WARNING:root:Because the aspect ratio of the current image exceeds the limit (min_height or width_height_ratio), the program will skip the detection step.\n",
      "WARNING:root:Because the aspect ratio of the current image exceeds the limit (min_height or width_height_ratio), the program will skip the detection step.\n",
      "WARNING:root:Because the aspect ratio of the current image exceeds the limit (min_height or width_height_ratio), the program will skip the detection step.\n",
      "WARNING:root:Because the aspect ratio of the current image exceeds the limit (min_height or width_height_ratio), the program will skip the detection step.\n",
      "WARNING:root:Because the aspect ratio of the current image exceeds the limit (min_height or width_height_ratio), the program will skip the detection step.\n",
      "WARNING:root:Because the aspect ratio of the current image exceeds the limit (min_height or width_height_ratio), the program will skip the detection step.\n",
      "WARNING:root:Because the aspect ratio of the current image exceeds the limit (min_height or width_height_ratio), the program will skip the detection step.\n",
      "WARNING:root:Because the aspect ratio of the current image exceeds the limit (min_height or width_height_ratio), the program will skip the detection step.\n",
      "WARNING:root:Because the aspect ratio of the current image exceeds the limit (min_height or width_height_ratio), the program will skip the detection step.\n",
      "WARNING:root:Because the aspect ratio of the current image exceeds the limit (min_height or width_height_ratio), the program will skip the detection step.\n",
      "WARNING:root:Because the aspect ratio of the current image exceeds the limit (min_height or width_height_ratio), the program will skip the detection step.\n",
      "WARNING:root:Because the aspect ratio of the current image exceeds the limit (min_height or width_height_ratio), the program will skip the detection step.\n",
      "WARNING:root:Because the aspect ratio of the current image exceeds the limit (min_height or width_height_ratio), the program will skip the detection step.\n",
      "WARNING:root:Because the aspect ratio of the current image exceeds the limit (min_height or width_height_ratio), the program will skip the detection step.\n",
      "WARNING:root:Because the aspect ratio of the current image exceeds the limit (min_height or width_height_ratio), the program will skip the detection step.\n",
      "WARNING:root:Because the aspect ratio of the current image exceeds the limit (min_height or width_height_ratio), the program will skip the detection step.\n",
      "WARNING:root:Because the aspect ratio of the current image exceeds the limit (min_height or width_height_ratio), the program will skip the detection step.\n",
      "WARNING:root:Because the aspect ratio of the current image exceeds the limit (min_height or width_height_ratio), the program will skip the detection step.\n",
      "WARNING:root:Because the aspect ratio of the current image exceeds the limit (min_height or width_height_ratio), the program will skip the detection step.\n",
      "WARNING:root:Because the aspect ratio of the current image exceeds the limit (min_height or width_height_ratio), the program will skip the detection step.\n",
      "WARNING:root:Because the aspect ratio of the current image exceeds the limit (min_height or width_height_ratio), the program will skip the detection step.\n",
      "WARNING:root:Because the aspect ratio of the current image exceeds the limit (min_height or width_height_ratio), the program will skip the detection step.\n",
      "WARNING:root:Because the aspect ratio of the current image exceeds the limit (min_height or width_height_ratio), the program will skip the detection step.\n",
      "WARNING:root:Because the aspect ratio of the current image exceeds the limit (min_height or width_height_ratio), the program will skip the detection step.\n",
      "WARNING:root:Because the aspect ratio of the current image exceeds the limit (min_height or width_height_ratio), the program will skip the detection step.\n",
      "WARNING:root:Because the aspect ratio of the current image exceeds the limit (min_height or width_height_ratio), the program will skip the detection step.\n",
      "WARNING:root:Because the aspect ratio of the current image exceeds the limit (min_height or width_height_ratio), the program will skip the detection step.\n",
      "WARNING:root:Because the aspect ratio of the current image exceeds the limit (min_height or width_height_ratio), the program will skip the detection step.\n",
      "WARNING:root:Because the aspect ratio of the current image exceeds the limit (min_height or width_height_ratio), the program will skip the detection step.\n",
      "WARNING:root:Because the aspect ratio of the current image exceeds the limit (min_height or width_height_ratio), the program will skip the detection step.\n",
      "WARNING:root:Because the aspect ratio of the current image exceeds the limit (min_height or width_height_ratio), the program will skip the detection step.\n",
      "WARNING:root:Because the aspect ratio of the current image exceeds the limit (min_height or width_height_ratio), the program will skip the detection step.\n",
      "WARNING:root:Because the aspect ratio of the current image exceeds the limit (min_height or width_height_ratio), the program will skip the detection step.\n",
      "WARNING:root:Because the aspect ratio of the current image exceeds the limit (min_height or width_height_ratio), the program will skip the detection step.\n",
      "WARNING:root:Because the aspect ratio of the current image exceeds the limit (min_height or width_height_ratio), the program will skip the detection step.\n",
      "WARNING:root:Because the aspect ratio of the current image exceeds the limit (min_height or width_height_ratio), the program will skip the detection step.\n",
      "WARNING:root:Because the aspect ratio of the current image exceeds the limit (min_height or width_height_ratio), the program will skip the detection step.\n",
      "WARNING:root:Because the aspect ratio of the current image exceeds the limit (min_height or width_height_ratio), the program will skip the detection step.\n",
      "WARNING:root:Because the aspect ratio of the current image exceeds the limit (min_height or width_height_ratio), the program will skip the detection step.\n",
      "WARNING:root:Because the aspect ratio of the current image exceeds the limit (min_height or width_height_ratio), the program will skip the detection step.\n",
      "WARNING:root:Because the aspect ratio of the current image exceeds the limit (min_height or width_height_ratio), the program will skip the detection step.\n",
      "WARNING:root:Because the aspect ratio of the current image exceeds the limit (min_height or width_height_ratio), the program will skip the detection step.\n",
      "WARNING:root:Because the aspect ratio of the current image exceeds the limit (min_height or width_height_ratio), the program will skip the detection step.\n",
      "WARNING:root:Because the aspect ratio of the current image exceeds the limit (min_height or width_height_ratio), the program will skip the detection step.\n",
      "WARNING:root:Because the aspect ratio of the current image exceeds the limit (min_height or width_height_ratio), the program will skip the detection step.\n",
      "WARNING:root:Because the aspect ratio of the current image exceeds the limit (min_height or width_height_ratio), the program will skip the detection step.\n",
      "WARNING:root:Because the aspect ratio of the current image exceeds the limit (min_height or width_height_ratio), the program will skip the detection step.\n",
      "WARNING:root:Because the aspect ratio of the current image exceeds the limit (min_height or width_height_ratio), the program will skip the detection step.\n",
      "WARNING:root:Because the aspect ratio of the current image exceeds the limit (min_height or width_height_ratio), the program will skip the detection step.\n",
      "WARNING:root:Because the aspect ratio of the current image exceeds the limit (min_height or width_height_ratio), the program will skip the detection step.\n",
      "WARNING:root:Because the aspect ratio of the current image exceeds the limit (min_height or width_height_ratio), the program will skip the detection step.\n",
      "WARNING:root:Because the aspect ratio of the current image exceeds the limit (min_height or width_height_ratio), the program will skip the detection step.\n",
      "WARNING:root:Because the aspect ratio of the current image exceeds the limit (min_height or width_height_ratio), the program will skip the detection step.\n",
      "WARNING:root:Because the aspect ratio of the current image exceeds the limit (min_height or width_height_ratio), the program will skip the detection step.\n",
      "WARNING:root:Because the aspect ratio of the current image exceeds the limit (min_height or width_height_ratio), the program will skip the detection step.\n",
      "WARNING:root:Because the aspect ratio of the current image exceeds the limit (min_height or width_height_ratio), the program will skip the detection step.\n",
      "WARNING:root:Because the aspect ratio of the current image exceeds the limit (min_height or width_height_ratio), the program will skip the detection step.\n",
      "WARNING:root:Because the aspect ratio of the current image exceeds the limit (min_height or width_height_ratio), the program will skip the detection step.\n",
      "WARNING:root:Because the aspect ratio of the current image exceeds the limit (min_height or width_height_ratio), the program will skip the detection step.\n",
      "WARNING:root:Because the aspect ratio of the current image exceeds the limit (min_height or width_height_ratio), the program will skip the detection step.\n",
      "WARNING:root:Because the aspect ratio of the current image exceeds the limit (min_height or width_height_ratio), the program will skip the detection step.\n",
      "WARNING:root:Because the aspect ratio of the current image exceeds the limit (min_height or width_height_ratio), the program will skip the detection step.\n",
      "WARNING:root:Because the aspect ratio of the current image exceeds the limit (min_height or width_height_ratio), the program will skip the detection step.\n",
      "WARNING:root:Because the aspect ratio of the current image exceeds the limit (min_height or width_height_ratio), the program will skip the detection step.\n",
      "WARNING:root:Because the aspect ratio of the current image exceeds the limit (min_height or width_height_ratio), the program will skip the detection step.\n",
      "WARNING:root:Because the aspect ratio of the current image exceeds the limit (min_height or width_height_ratio), the program will skip the detection step.\n",
      "WARNING:root:Because the aspect ratio of the current image exceeds the limit (min_height or width_height_ratio), the program will skip the detection step.\n",
      "WARNING:root:Because the aspect ratio of the current image exceeds the limit (min_height or width_height_ratio), the program will skip the detection step.\n",
      "WARNING:root:Because the aspect ratio of the current image exceeds the limit (min_height or width_height_ratio), the program will skip the detection step.\n",
      "WARNING:root:Because the aspect ratio of the current image exceeds the limit (min_height or width_height_ratio), the program will skip the detection step.\n",
      "WARNING:root:Because the aspect ratio of the current image exceeds the limit (min_height or width_height_ratio), the program will skip the detection step.\n",
      "WARNING:root:Because the aspect ratio of the current image exceeds the limit (min_height or width_height_ratio), the program will skip the detection step.\n",
      "WARNING:root:Because the aspect ratio of the current image exceeds the limit (min_height or width_height_ratio), the program will skip the detection step.\n",
      "WARNING:root:Because the aspect ratio of the current image exceeds the limit (min_height or width_height_ratio), the program will skip the detection step.\n",
      "WARNING:root:Because the aspect ratio of the current image exceeds the limit (min_height or width_height_ratio), the program will skip the detection step.\n",
      "WARNING:root:Because the aspect ratio of the current image exceeds the limit (min_height or width_height_ratio), the program will skip the detection step.\n",
      "WARNING:root:Because the aspect ratio of the current image exceeds the limit (min_height or width_height_ratio), the program will skip the detection step.\n",
      "WARNING:root:Because the aspect ratio of the current image exceeds the limit (min_height or width_height_ratio), the program will skip the detection step.\n",
      "WARNING:root:Because the aspect ratio of the current image exceeds the limit (min_height or width_height_ratio), the program will skip the detection step.\n",
      "WARNING:root:Because the aspect ratio of the current image exceeds the limit (min_height or width_height_ratio), the program will skip the detection step.\n",
      "WARNING:root:Because the aspect ratio of the current image exceeds the limit (min_height or width_height_ratio), the program will skip the detection step.\n",
      "WARNING:root:Because the aspect ratio of the current image exceeds the limit (min_height or width_height_ratio), the program will skip the detection step.\n",
      "WARNING:root:Because the aspect ratio of the current image exceeds the limit (min_height or width_height_ratio), the program will skip the detection step.\n",
      "WARNING:root:Because the aspect ratio of the current image exceeds the limit (min_height or width_height_ratio), the program will skip the detection step.\n",
      "WARNING:root:Because the aspect ratio of the current image exceeds the limit (min_height or width_height_ratio), the program will skip the detection step.\n",
      "WARNING:root:Because the aspect ratio of the current image exceeds the limit (min_height or width_height_ratio), the program will skip the detection step.\n",
      "WARNING:root:Because the aspect ratio of the current image exceeds the limit (min_height or width_height_ratio), the program will skip the detection step.\n",
      "WARNING:root:Because the aspect ratio of the current image exceeds the limit (min_height or width_height_ratio), the program will skip the detection step.\n",
      "WARNING:root:Because the aspect ratio of the current image exceeds the limit (min_height or width_height_ratio), the program will skip the detection step.\n",
      "WARNING:root:Because the aspect ratio of the current image exceeds the limit (min_height or width_height_ratio), the program will skip the detection step.\n",
      "WARNING:root:Because the aspect ratio of the current image exceeds the limit (min_height or width_height_ratio), the program will skip the detection step.\n",
      "WARNING:root:Because the aspect ratio of the current image exceeds the limit (min_height or width_height_ratio), the program will skip the detection step.\n",
      "WARNING:root:Because the aspect ratio of the current image exceeds the limit (min_height or width_height_ratio), the program will skip the detection step.\n",
      "WARNING:root:Because the aspect ratio of the current image exceeds the limit (min_height or width_height_ratio), the program will skip the detection step.\n",
      "WARNING:root:Because the aspect ratio of the current image exceeds the limit (min_height or width_height_ratio), the program will skip the detection step.\n",
      "WARNING:root:Because the aspect ratio of the current image exceeds the limit (min_height or width_height_ratio), the program will skip the detection step.\n",
      "WARNING:root:Because the aspect ratio of the current image exceeds the limit (min_height or width_height_ratio), the program will skip the detection step.\n",
      "WARNING:root:Because the aspect ratio of the current image exceeds the limit (min_height or width_height_ratio), the program will skip the detection step.\n",
      "WARNING:root:Because the aspect ratio of the current image exceeds the limit (min_height or width_height_ratio), the program will skip the detection step.\n",
      "WARNING:root:Because the aspect ratio of the current image exceeds the limit (min_height or width_height_ratio), the program will skip the detection step.\n",
      "WARNING:root:Because the aspect ratio of the current image exceeds the limit (min_height or width_height_ratio), the program will skip the detection step.\n",
      "WARNING:root:Because the aspect ratio of the current image exceeds the limit (min_height or width_height_ratio), the program will skip the detection step.\n",
      "WARNING:root:Because the aspect ratio of the current image exceeds the limit (min_height or width_height_ratio), the program will skip the detection step.\n",
      "WARNING:root:Because the aspect ratio of the current image exceeds the limit (min_height or width_height_ratio), the program will skip the detection step.\n",
      "WARNING:root:Because the aspect ratio of the current image exceeds the limit (min_height or width_height_ratio), the program will skip the detection step.\n",
      "WARNING:root:Because the aspect ratio of the current image exceeds the limit (min_height or width_height_ratio), the program will skip the detection step.\n",
      "WARNING:root:Because the aspect ratio of the current image exceeds the limit (min_height or width_height_ratio), the program will skip the detection step.\n",
      "WARNING:root:Because the aspect ratio of the current image exceeds the limit (min_height or width_height_ratio), the program will skip the detection step.\n",
      "WARNING:root:Because the aspect ratio of the current image exceeds the limit (min_height or width_height_ratio), the program will skip the detection step.\n",
      "WARNING:root:Because the aspect ratio of the current image exceeds the limit (min_height or width_height_ratio), the program will skip the detection step.\n",
      "WARNING:root:Because the aspect ratio of the current image exceeds the limit (min_height or width_height_ratio), the program will skip the detection step.\n",
      "WARNING:root:Because the aspect ratio of the current image exceeds the limit (min_height or width_height_ratio), the program will skip the detection step.\n",
      "WARNING:root:Because the aspect ratio of the current image exceeds the limit (min_height or width_height_ratio), the program will skip the detection step.\n",
      "WARNING:root:Because the aspect ratio of the current image exceeds the limit (min_height or width_height_ratio), the program will skip the detection step.\n",
      "WARNING:root:Because the aspect ratio of the current image exceeds the limit (min_height or width_height_ratio), the program will skip the detection step.\n",
      "WARNING:root:Because the aspect ratio of the current image exceeds the limit (min_height or width_height_ratio), the program will skip the detection step.\n",
      "WARNING:root:Because the aspect ratio of the current image exceeds the limit (min_height or width_height_ratio), the program will skip the detection step.\n",
      "WARNING:root:Because the aspect ratio of the current image exceeds the limit (min_height or width_height_ratio), the program will skip the detection step.\n",
      "WARNING:root:Because the aspect ratio of the current image exceeds the limit (min_height or width_height_ratio), the program will skip the detection step.\n",
      "WARNING:root:Because the aspect ratio of the current image exceeds the limit (min_height or width_height_ratio), the program will skip the detection step.\n",
      "WARNING:root:Because the aspect ratio of the current image exceeds the limit (min_height or width_height_ratio), the program will skip the detection step.\n",
      "WARNING:root:Because the aspect ratio of the current image exceeds the limit (min_height or width_height_ratio), the program will skip the detection step.\n",
      "WARNING:root:Because the aspect ratio of the current image exceeds the limit (min_height or width_height_ratio), the program will skip the detection step.\n",
      "WARNING:root:Because the aspect ratio of the current image exceeds the limit (min_height or width_height_ratio), the program will skip the detection step.\n",
      "WARNING:root:Because the aspect ratio of the current image exceeds the limit (min_height or width_height_ratio), the program will skip the detection step.\n",
      "WARNING:root:Because the aspect ratio of the current image exceeds the limit (min_height or width_height_ratio), the program will skip the detection step.\n",
      "WARNING:root:Because the aspect ratio of the current image exceeds the limit (min_height or width_height_ratio), the program will skip the detection step.\n",
      "WARNING:root:Because the aspect ratio of the current image exceeds the limit (min_height or width_height_ratio), the program will skip the detection step.\n",
      "WARNING:root:Because the aspect ratio of the current image exceeds the limit (min_height or width_height_ratio), the program will skip the detection step.\n",
      "WARNING:root:Because the aspect ratio of the current image exceeds the limit (min_height or width_height_ratio), the program will skip the detection step.\n",
      "WARNING:root:Because the aspect ratio of the current image exceeds the limit (min_height or width_height_ratio), the program will skip the detection step.\n",
      "WARNING:root:Because the aspect ratio of the current image exceeds the limit (min_height or width_height_ratio), the program will skip the detection step.\n",
      "WARNING:root:Because the aspect ratio of the current image exceeds the limit (min_height or width_height_ratio), the program will skip the detection step.\n",
      "WARNING:root:Because the aspect ratio of the current image exceeds the limit (min_height or width_height_ratio), the program will skip the detection step.\n",
      "WARNING:root:Because the aspect ratio of the current image exceeds the limit (min_height or width_height_ratio), the program will skip the detection step.\n",
      "WARNING:root:Because the aspect ratio of the current image exceeds the limit (min_height or width_height_ratio), the program will skip the detection step.\n",
      "WARNING:root:Because the aspect ratio of the current image exceeds the limit (min_height or width_height_ratio), the program will skip the detection step.\n",
      "WARNING:root:Because the aspect ratio of the current image exceeds the limit (min_height or width_height_ratio), the program will skip the detection step.\n",
      "WARNING:root:Because the aspect ratio of the current image exceeds the limit (min_height or width_height_ratio), the program will skip the detection step.\n",
      "WARNING:root:Because the aspect ratio of the current image exceeds the limit (min_height or width_height_ratio), the program will skip the detection step.\n",
      "WARNING:root:Because the aspect ratio of the current image exceeds the limit (min_height or width_height_ratio), the program will skip the detection step.\n",
      "WARNING:root:Because the aspect ratio of the current image exceeds the limit (min_height or width_height_ratio), the program will skip the detection step.\n",
      "WARNING:root:Because the aspect ratio of the current image exceeds the limit (min_height or width_height_ratio), the program will skip the detection step.\n",
      "WARNING:root:Because the aspect ratio of the current image exceeds the limit (min_height or width_height_ratio), the program will skip the detection step.\n",
      "WARNING:root:Because the aspect ratio of the current image exceeds the limit (min_height or width_height_ratio), the program will skip the detection step.\n",
      "WARNING:root:Because the aspect ratio of the current image exceeds the limit (min_height or width_height_ratio), the program will skip the detection step.\n",
      "WARNING:root:Because the aspect ratio of the current image exceeds the limit (min_height or width_height_ratio), the program will skip the detection step.\n",
      "WARNING:root:Because the aspect ratio of the current image exceeds the limit (min_height or width_height_ratio), the program will skip the detection step.\n",
      "WARNING:root:Because the aspect ratio of the current image exceeds the limit (min_height or width_height_ratio), the program will skip the detection step.\n",
      "WARNING:root:Because the aspect ratio of the current image exceeds the limit (min_height or width_height_ratio), the program will skip the detection step.\n",
      "WARNING:root:Because the aspect ratio of the current image exceeds the limit (min_height or width_height_ratio), the program will skip the detection step.\n",
      "WARNING:root:Because the aspect ratio of the current image exceeds the limit (min_height or width_height_ratio), the program will skip the detection step.\n",
      "WARNING:root:Because the aspect ratio of the current image exceeds the limit (min_height or width_height_ratio), the program will skip the detection step.\n",
      "WARNING:root:Because the aspect ratio of the current image exceeds the limit (min_height or width_height_ratio), the program will skip the detection step.\n",
      "WARNING:root:Because the aspect ratio of the current image exceeds the limit (min_height or width_height_ratio), the program will skip the detection step.\n",
      "WARNING:root:Because the aspect ratio of the current image exceeds the limit (min_height or width_height_ratio), the program will skip the detection step.\n",
      "WARNING:root:Because the aspect ratio of the current image exceeds the limit (min_height or width_height_ratio), the program will skip the detection step.\n",
      "WARNING:root:Because the aspect ratio of the current image exceeds the limit (min_height or width_height_ratio), the program will skip the detection step.\n",
      "WARNING:root:Because the aspect ratio of the current image exceeds the limit (min_height or width_height_ratio), the program will skip the detection step.\n",
      "WARNING:root:Because the aspect ratio of the current image exceeds the limit (min_height or width_height_ratio), the program will skip the detection step.\n",
      "WARNING:root:Because the aspect ratio of the current image exceeds the limit (min_height or width_height_ratio), the program will skip the detection step.\n",
      "WARNING:root:Because the aspect ratio of the current image exceeds the limit (min_height or width_height_ratio), the program will skip the detection step.\n",
      "WARNING:root:Because the aspect ratio of the current image exceeds the limit (min_height or width_height_ratio), the program will skip the detection step.\n",
      "WARNING:root:Because the aspect ratio of the current image exceeds the limit (min_height or width_height_ratio), the program will skip the detection step.\n",
      "WARNING:root:Because the aspect ratio of the current image exceeds the limit (min_height or width_height_ratio), the program will skip the detection step.\n",
      "WARNING:root:Because the aspect ratio of the current image exceeds the limit (min_height or width_height_ratio), the program will skip the detection step.\n",
      "WARNING:root:Because the aspect ratio of the current image exceeds the limit (min_height or width_height_ratio), the program will skip the detection step.\n",
      "WARNING:root:Because the aspect ratio of the current image exceeds the limit (min_height or width_height_ratio), the program will skip the detection step.\n",
      "WARNING:root:Because the aspect ratio of the current image exceeds the limit (min_height or width_height_ratio), the program will skip the detection step.\n",
      "WARNING:root:Because the aspect ratio of the current image exceeds the limit (min_height or width_height_ratio), the program will skip the detection step.\n",
      "WARNING:root:Because the aspect ratio of the current image exceeds the limit (min_height or width_height_ratio), the program will skip the detection step.\n",
      "WARNING:root:Because the aspect ratio of the current image exceeds the limit (min_height or width_height_ratio), the program will skip the detection step.\n",
      "WARNING:root:Because the aspect ratio of the current image exceeds the limit (min_height or width_height_ratio), the program will skip the detection step.\n",
      "WARNING:root:Because the aspect ratio of the current image exceeds the limit (min_height or width_height_ratio), the program will skip the detection step.\n",
      "WARNING:root:Because the aspect ratio of the current image exceeds the limit (min_height or width_height_ratio), the program will skip the detection step.\n",
      "WARNING:root:Because the aspect ratio of the current image exceeds the limit (min_height or width_height_ratio), the program will skip the detection step.\n",
      "WARNING:root:Because the aspect ratio of the current image exceeds the limit (min_height or width_height_ratio), the program will skip the detection step.\n",
      "WARNING:root:Because the aspect ratio of the current image exceeds the limit (min_height or width_height_ratio), the program will skip the detection step.\n",
      "WARNING:root:Because the aspect ratio of the current image exceeds the limit (min_height or width_height_ratio), the program will skip the detection step.\n",
      "WARNING:root:Because the aspect ratio of the current image exceeds the limit (min_height or width_height_ratio), the program will skip the detection step.\n",
      "WARNING:root:Because the aspect ratio of the current image exceeds the limit (min_height or width_height_ratio), the program will skip the detection step.\n",
      "WARNING:root:Because the aspect ratio of the current image exceeds the limit (min_height or width_height_ratio), the program will skip the detection step.\n",
      "WARNING:root:Because the aspect ratio of the current image exceeds the limit (min_height or width_height_ratio), the program will skip the detection step.\n",
      "WARNING:root:Because the aspect ratio of the current image exceeds the limit (min_height or width_height_ratio), the program will skip the detection step.\n",
      "WARNING:root:Because the aspect ratio of the current image exceeds the limit (min_height or width_height_ratio), the program will skip the detection step.\n",
      "WARNING:root:Because the aspect ratio of the current image exceeds the limit (min_height or width_height_ratio), the program will skip the detection step.\n",
      "WARNING:root:Because the aspect ratio of the current image exceeds the limit (min_height or width_height_ratio), the program will skip the detection step.\n",
      "WARNING:root:Because the aspect ratio of the current image exceeds the limit (min_height or width_height_ratio), the program will skip the detection step.\n",
      "WARNING:root:Because the aspect ratio of the current image exceeds the limit (min_height or width_height_ratio), the program will skip the detection step.\n",
      "WARNING:root:Because the aspect ratio of the current image exceeds the limit (min_height or width_height_ratio), the program will skip the detection step.\n",
      "WARNING:root:Because the aspect ratio of the current image exceeds the limit (min_height or width_height_ratio), the program will skip the detection step.\n",
      "WARNING:root:Because the aspect ratio of the current image exceeds the limit (min_height or width_height_ratio), the program will skip the detection step.\n",
      "WARNING:root:Because the aspect ratio of the current image exceeds the limit (min_height or width_height_ratio), the program will skip the detection step.\n",
      "WARNING:root:Because the aspect ratio of the current image exceeds the limit (min_height or width_height_ratio), the program will skip the detection step.\n",
      "WARNING:root:Because the aspect ratio of the current image exceeds the limit (min_height or width_height_ratio), the program will skip the detection step.\n",
      "WARNING:root:Because the aspect ratio of the current image exceeds the limit (min_height or width_height_ratio), the program will skip the detection step.\n",
      "WARNING:root:Because the aspect ratio of the current image exceeds the limit (min_height or width_height_ratio), the program will skip the detection step.\n",
      "WARNING:root:Because the aspect ratio of the current image exceeds the limit (min_height or width_height_ratio), the program will skip the detection step.\n",
      "WARNING:root:Because the aspect ratio of the current image exceeds the limit (min_height or width_height_ratio), the program will skip the detection step.\n",
      "WARNING:root:Because the aspect ratio of the current image exceeds the limit (min_height or width_height_ratio), the program will skip the detection step.\n",
      "WARNING:root:Because the aspect ratio of the current image exceeds the limit (min_height or width_height_ratio), the program will skip the detection step.\n",
      "WARNING:root:Because the aspect ratio of the current image exceeds the limit (min_height or width_height_ratio), the program will skip the detection step.\n",
      "WARNING:root:Because the aspect ratio of the current image exceeds the limit (min_height or width_height_ratio), the program will skip the detection step.\n",
      "WARNING:root:Because the aspect ratio of the current image exceeds the limit (min_height or width_height_ratio), the program will skip the detection step.\n",
      "WARNING:root:Because the aspect ratio of the current image exceeds the limit (min_height or width_height_ratio), the program will skip the detection step.\n",
      "WARNING:root:Because the aspect ratio of the current image exceeds the limit (min_height or width_height_ratio), the program will skip the detection step.\n",
      "WARNING:root:Because the aspect ratio of the current image exceeds the limit (min_height or width_height_ratio), the program will skip the detection step.\n",
      "WARNING:root:Because the aspect ratio of the current image exceeds the limit (min_height or width_height_ratio), the program will skip the detection step.\n",
      "WARNING:root:Because the aspect ratio of the current image exceeds the limit (min_height or width_height_ratio), the program will skip the detection step.\n",
      "WARNING:root:Because the aspect ratio of the current image exceeds the limit (min_height or width_height_ratio), the program will skip the detection step.\n",
      "WARNING:root:Because the aspect ratio of the current image exceeds the limit (min_height or width_height_ratio), the program will skip the detection step.\n",
      "WARNING:root:Because the aspect ratio of the current image exceeds the limit (min_height or width_height_ratio), the program will skip the detection step.\n",
      "WARNING:root:Because the aspect ratio of the current image exceeds the limit (min_height or width_height_ratio), the program will skip the detection step.\n",
      "WARNING:root:Because the aspect ratio of the current image exceeds the limit (min_height or width_height_ratio), the program will skip the detection step.\n",
      "WARNING:root:Because the aspect ratio of the current image exceeds the limit (min_height or width_height_ratio), the program will skip the detection step.\n",
      "WARNING:root:Because the aspect ratio of the current image exceeds the limit (min_height or width_height_ratio), the program will skip the detection step.\n",
      "WARNING:root:Because the aspect ratio of the current image exceeds the limit (min_height or width_height_ratio), the program will skip the detection step.\n",
      "WARNING:root:Because the aspect ratio of the current image exceeds the limit (min_height or width_height_ratio), the program will skip the detection step.\n",
      "WARNING:root:Because the aspect ratio of the current image exceeds the limit (min_height or width_height_ratio), the program will skip the detection step.\n",
      "WARNING:root:Because the aspect ratio of the current image exceeds the limit (min_height or width_height_ratio), the program will skip the detection step.\n",
      "WARNING:root:Because the aspect ratio of the current image exceeds the limit (min_height or width_height_ratio), the program will skip the detection step.\n",
      "WARNING:root:Because the aspect ratio of the current image exceeds the limit (min_height or width_height_ratio), the program will skip the detection step.\n",
      "WARNING:root:Because the aspect ratio of the current image exceeds the limit (min_height or width_height_ratio), the program will skip the detection step.\n",
      "WARNING:root:Because the aspect ratio of the current image exceeds the limit (min_height or width_height_ratio), the program will skip the detection step.\n",
      "WARNING:root:Because the aspect ratio of the current image exceeds the limit (min_height or width_height_ratio), the program will skip the detection step.\n",
      "WARNING:root:Because the aspect ratio of the current image exceeds the limit (min_height or width_height_ratio), the program will skip the detection step.\n",
      "WARNING:root:Because the aspect ratio of the current image exceeds the limit (min_height or width_height_ratio), the program will skip the detection step.\n",
      "WARNING:root:Because the aspect ratio of the current image exceeds the limit (min_height or width_height_ratio), the program will skip the detection step.\n",
      "WARNING:root:Because the aspect ratio of the current image exceeds the limit (min_height or width_height_ratio), the program will skip the detection step.\n",
      "WARNING:root:Because the aspect ratio of the current image exceeds the limit (min_height or width_height_ratio), the program will skip the detection step.\n",
      "WARNING:root:Because the aspect ratio of the current image exceeds the limit (min_height or width_height_ratio), the program will skip the detection step.\n",
      "WARNING:root:Because the aspect ratio of the current image exceeds the limit (min_height or width_height_ratio), the program will skip the detection step.\n",
      "WARNING:root:Because the aspect ratio of the current image exceeds the limit (min_height or width_height_ratio), the program will skip the detection step.\n",
      "WARNING:root:Because the aspect ratio of the current image exceeds the limit (min_height or width_height_ratio), the program will skip the detection step.\n",
      "WARNING:root:Because the aspect ratio of the current image exceeds the limit (min_height or width_height_ratio), the program will skip the detection step.\n",
      "WARNING:root:Because the aspect ratio of the current image exceeds the limit (min_height or width_height_ratio), the program will skip the detection step.\n",
      "WARNING:root:Because the aspect ratio of the current image exceeds the limit (min_height or width_height_ratio), the program will skip the detection step.\n",
      "WARNING:root:Because the aspect ratio of the current image exceeds the limit (min_height or width_height_ratio), the program will skip the detection step.\n",
      "WARNING:root:Because the aspect ratio of the current image exceeds the limit (min_height or width_height_ratio), the program will skip the detection step.\n",
      "WARNING:root:Because the aspect ratio of the current image exceeds the limit (min_height or width_height_ratio), the program will skip the detection step.\n",
      "WARNING:root:Because the aspect ratio of the current image exceeds the limit (min_height or width_height_ratio), the program will skip the detection step.\n",
      "WARNING:root:Because the aspect ratio of the current image exceeds the limit (min_height or width_height_ratio), the program will skip the detection step.\n",
      "WARNING:root:Because the aspect ratio of the current image exceeds the limit (min_height or width_height_ratio), the program will skip the detection step.\n",
      "WARNING:root:Because the aspect ratio of the current image exceeds the limit (min_height or width_height_ratio), the program will skip the detection step.\n",
      "WARNING:root:Because the aspect ratio of the current image exceeds the limit (min_height or width_height_ratio), the program will skip the detection step.\n",
      "WARNING:root:Because the aspect ratio of the current image exceeds the limit (min_height or width_height_ratio), the program will skip the detection step.\n",
      "WARNING:root:Because the aspect ratio of the current image exceeds the limit (min_height or width_height_ratio), the program will skip the detection step.\n",
      "WARNING:root:Because the aspect ratio of the current image exceeds the limit (min_height or width_height_ratio), the program will skip the detection step.\n",
      "WARNING:root:Because the aspect ratio of the current image exceeds the limit (min_height or width_height_ratio), the program will skip the detection step.\n",
      "WARNING:root:Because the aspect ratio of the current image exceeds the limit (min_height or width_height_ratio), the program will skip the detection step.\n",
      "WARNING:root:Because the aspect ratio of the current image exceeds the limit (min_height or width_height_ratio), the program will skip the detection step.\n",
      "WARNING:root:Because the aspect ratio of the current image exceeds the limit (min_height or width_height_ratio), the program will skip the detection step.\n",
      "WARNING:root:Because the aspect ratio of the current image exceeds the limit (min_height or width_height_ratio), the program will skip the detection step.\n",
      "WARNING:root:Because the aspect ratio of the current image exceeds the limit (min_height or width_height_ratio), the program will skip the detection step.\n",
      "WARNING:root:Because the aspect ratio of the current image exceeds the limit (min_height or width_height_ratio), the program will skip the detection step.\n",
      "WARNING:root:Because the aspect ratio of the current image exceeds the limit (min_height or width_height_ratio), the program will skip the detection step.\n",
      "WARNING:root:Because the aspect ratio of the current image exceeds the limit (min_height or width_height_ratio), the program will skip the detection step.\n",
      "WARNING:root:Because the aspect ratio of the current image exceeds the limit (min_height or width_height_ratio), the program will skip the detection step.\n",
      "WARNING:root:Because the aspect ratio of the current image exceeds the limit (min_height or width_height_ratio), the program will skip the detection step.\n",
      "WARNING:root:Because the aspect ratio of the current image exceeds the limit (min_height or width_height_ratio), the program will skip the detection step.\n",
      "WARNING:root:Because the aspect ratio of the current image exceeds the limit (min_height or width_height_ratio), the program will skip the detection step.\n",
      "WARNING:root:Because the aspect ratio of the current image exceeds the limit (min_height or width_height_ratio), the program will skip the detection step.\n",
      "WARNING:root:Because the aspect ratio of the current image exceeds the limit (min_height or width_height_ratio), the program will skip the detection step.\n",
      "WARNING:root:Because the aspect ratio of the current image exceeds the limit (min_height or width_height_ratio), the program will skip the detection step.\n",
      "WARNING:root:Because the aspect ratio of the current image exceeds the limit (min_height or width_height_ratio), the program will skip the detection step.\n",
      "WARNING:root:Because the aspect ratio of the current image exceeds the limit (min_height or width_height_ratio), the program will skip the detection step.\n",
      "WARNING:root:Because the aspect ratio of the current image exceeds the limit (min_height or width_height_ratio), the program will skip the detection step.\n",
      "WARNING:root:Because the aspect ratio of the current image exceeds the limit (min_height or width_height_ratio), the program will skip the detection step.\n",
      "WARNING:root:Because the aspect ratio of the current image exceeds the limit (min_height or width_height_ratio), the program will skip the detection step.\n",
      "WARNING:root:Because the aspect ratio of the current image exceeds the limit (min_height or width_height_ratio), the program will skip the detection step.\n",
      "WARNING:root:Because the aspect ratio of the current image exceeds the limit (min_height or width_height_ratio), the program will skip the detection step.\n",
      "WARNING:root:Because the aspect ratio of the current image exceeds the limit (min_height or width_height_ratio), the program will skip the detection step.\n",
      "WARNING:root:Because the aspect ratio of the current image exceeds the limit (min_height or width_height_ratio), the program will skip the detection step.\n",
      "WARNING:root:Because the aspect ratio of the current image exceeds the limit (min_height or width_height_ratio), the program will skip the detection step.\n",
      "WARNING:root:Because the aspect ratio of the current image exceeds the limit (min_height or width_height_ratio), the program will skip the detection step.\n",
      "WARNING:root:Because the aspect ratio of the current image exceeds the limit (min_height or width_height_ratio), the program will skip the detection step.\n",
      "WARNING:root:Because the aspect ratio of the current image exceeds the limit (min_height or width_height_ratio), the program will skip the detection step.\n",
      "WARNING:root:Because the aspect ratio of the current image exceeds the limit (min_height or width_height_ratio), the program will skip the detection step.\n",
      "WARNING:root:Because the aspect ratio of the current image exceeds the limit (min_height or width_height_ratio), the program will skip the detection step.\n",
      "WARNING:root:Because the aspect ratio of the current image exceeds the limit (min_height or width_height_ratio), the program will skip the detection step.\n",
      "WARNING:root:Because the aspect ratio of the current image exceeds the limit (min_height or width_height_ratio), the program will skip the detection step.\n",
      "WARNING:root:Because the aspect ratio of the current image exceeds the limit (min_height or width_height_ratio), the program will skip the detection step.\n",
      "WARNING:root:Because the aspect ratio of the current image exceeds the limit (min_height or width_height_ratio), the program will skip the detection step.\n",
      "WARNING:root:Because the aspect ratio of the current image exceeds the limit (min_height or width_height_ratio), the program will skip the detection step.\n",
      "WARNING:root:Because the aspect ratio of the current image exceeds the limit (min_height or width_height_ratio), the program will skip the detection step.\n",
      "WARNING:root:Because the aspect ratio of the current image exceeds the limit (min_height or width_height_ratio), the program will skip the detection step.\n",
      "WARNING:root:Because the aspect ratio of the current image exceeds the limit (min_height or width_height_ratio), the program will skip the detection step.\n",
      "WARNING:root:Because the aspect ratio of the current image exceeds the limit (min_height or width_height_ratio), the program will skip the detection step.\n",
      "WARNING:root:Because the aspect ratio of the current image exceeds the limit (min_height or width_height_ratio), the program will skip the detection step.\n",
      "WARNING:root:Because the aspect ratio of the current image exceeds the limit (min_height or width_height_ratio), the program will skip the detection step.\n",
      "WARNING:root:Because the aspect ratio of the current image exceeds the limit (min_height or width_height_ratio), the program will skip the detection step.\n",
      "WARNING:root:Because the aspect ratio of the current image exceeds the limit (min_height or width_height_ratio), the program will skip the detection step.\n",
      "WARNING:root:Because the aspect ratio of the current image exceeds the limit (min_height or width_height_ratio), the program will skip the detection step.\n",
      "WARNING:root:Because the aspect ratio of the current image exceeds the limit (min_height or width_height_ratio), the program will skip the detection step.\n",
      "WARNING:root:Because the aspect ratio of the current image exceeds the limit (min_height or width_height_ratio), the program will skip the detection step.\n",
      "WARNING:root:Because the aspect ratio of the current image exceeds the limit (min_height or width_height_ratio), the program will skip the detection step.\n",
      "WARNING:root:Because the aspect ratio of the current image exceeds the limit (min_height or width_height_ratio), the program will skip the detection step.\n",
      "WARNING:root:Because the aspect ratio of the current image exceeds the limit (min_height or width_height_ratio), the program will skip the detection step.\n",
      "WARNING:root:Because the aspect ratio of the current image exceeds the limit (min_height or width_height_ratio), the program will skip the detection step.\n",
      "WARNING:root:Because the aspect ratio of the current image exceeds the limit (min_height or width_height_ratio), the program will skip the detection step.\n",
      "WARNING:root:Because the aspect ratio of the current image exceeds the limit (min_height or width_height_ratio), the program will skip the detection step.\n",
      "WARNING:root:Because the aspect ratio of the current image exceeds the limit (min_height or width_height_ratio), the program will skip the detection step.\n",
      "WARNING:root:Because the aspect ratio of the current image exceeds the limit (min_height or width_height_ratio), the program will skip the detection step.\n",
      "WARNING:root:Because the aspect ratio of the current image exceeds the limit (min_height or width_height_ratio), the program will skip the detection step.\n",
      "WARNING:root:Because the aspect ratio of the current image exceeds the limit (min_height or width_height_ratio), the program will skip the detection step.\n",
      "WARNING:root:Because the aspect ratio of the current image exceeds the limit (min_height or width_height_ratio), the program will skip the detection step.\n",
      "WARNING:root:Because the aspect ratio of the current image exceeds the limit (min_height or width_height_ratio), the program will skip the detection step.\n",
      "WARNING:root:Because the aspect ratio of the current image exceeds the limit (min_height or width_height_ratio), the program will skip the detection step.\n",
      "WARNING:root:Because the aspect ratio of the current image exceeds the limit (min_height or width_height_ratio), the program will skip the detection step.\n",
      "WARNING:root:Because the aspect ratio of the current image exceeds the limit (min_height or width_height_ratio), the program will skip the detection step.\n",
      "WARNING:root:Because the aspect ratio of the current image exceeds the limit (min_height or width_height_ratio), the program will skip the detection step.\n",
      "WARNING:root:Because the aspect ratio of the current image exceeds the limit (min_height or width_height_ratio), the program will skip the detection step.\n",
      "WARNING:root:Because the aspect ratio of the current image exceeds the limit (min_height or width_height_ratio), the program will skip the detection step.\n",
      "WARNING:root:Because the aspect ratio of the current image exceeds the limit (min_height or width_height_ratio), the program will skip the detection step.\n",
      "WARNING:root:Because the aspect ratio of the current image exceeds the limit (min_height or width_height_ratio), the program will skip the detection step.\n",
      "WARNING:root:Because the aspect ratio of the current image exceeds the limit (min_height or width_height_ratio), the program will skip the detection step.\n",
      "WARNING:root:Because the aspect ratio of the current image exceeds the limit (min_height or width_height_ratio), the program will skip the detection step.\n",
      "WARNING:root:Because the aspect ratio of the current image exceeds the limit (min_height or width_height_ratio), the program will skip the detection step.\n",
      "WARNING:root:Because the aspect ratio of the current image exceeds the limit (min_height or width_height_ratio), the program will skip the detection step.\n",
      "WARNING:root:Because the aspect ratio of the current image exceeds the limit (min_height or width_height_ratio), the program will skip the detection step.\n",
      "WARNING:root:Because the aspect ratio of the current image exceeds the limit (min_height or width_height_ratio), the program will skip the detection step.\n",
      "WARNING:root:Because the aspect ratio of the current image exceeds the limit (min_height or width_height_ratio), the program will skip the detection step.\n",
      "WARNING:root:Because the aspect ratio of the current image exceeds the limit (min_height or width_height_ratio), the program will skip the detection step.\n",
      "WARNING:root:Because the aspect ratio of the current image exceeds the limit (min_height or width_height_ratio), the program will skip the detection step.\n",
      "WARNING:root:Because the aspect ratio of the current image exceeds the limit (min_height or width_height_ratio), the program will skip the detection step.\n",
      "WARNING:root:Because the aspect ratio of the current image exceeds the limit (min_height or width_height_ratio), the program will skip the detection step.\n",
      "WARNING:root:Because the aspect ratio of the current image exceeds the limit (min_height or width_height_ratio), the program will skip the detection step.\n",
      "WARNING:root:Because the aspect ratio of the current image exceeds the limit (min_height or width_height_ratio), the program will skip the detection step.\n",
      "WARNING:root:Because the aspect ratio of the current image exceeds the limit (min_height or width_height_ratio), the program will skip the detection step.\n",
      "WARNING:root:Because the aspect ratio of the current image exceeds the limit (min_height or width_height_ratio), the program will skip the detection step.\n",
      "WARNING:root:Because the aspect ratio of the current image exceeds the limit (min_height or width_height_ratio), the program will skip the detection step.\n",
      "WARNING:root:Because the aspect ratio of the current image exceeds the limit (min_height or width_height_ratio), the program will skip the detection step.\n",
      "WARNING:root:Because the aspect ratio of the current image exceeds the limit (min_height or width_height_ratio), the program will skip the detection step.\n",
      "WARNING:root:Because the aspect ratio of the current image exceeds the limit (min_height or width_height_ratio), the program will skip the detection step.\n",
      "WARNING:root:Because the aspect ratio of the current image exceeds the limit (min_height or width_height_ratio), the program will skip the detection step.\n",
      "WARNING:root:Because the aspect ratio of the current image exceeds the limit (min_height or width_height_ratio), the program will skip the detection step.\n",
      "WARNING:root:Because the aspect ratio of the current image exceeds the limit (min_height or width_height_ratio), the program will skip the detection step.\n",
      "WARNING:root:Because the aspect ratio of the current image exceeds the limit (min_height or width_height_ratio), the program will skip the detection step.\n",
      "WARNING:root:Because the aspect ratio of the current image exceeds the limit (min_height or width_height_ratio), the program will skip the detection step.\n",
      "WARNING:root:Because the aspect ratio of the current image exceeds the limit (min_height or width_height_ratio), the program will skip the detection step.\n",
      "WARNING:root:Because the aspect ratio of the current image exceeds the limit (min_height or width_height_ratio), the program will skip the detection step.\n",
      "WARNING:root:Because the aspect ratio of the current image exceeds the limit (min_height or width_height_ratio), the program will skip the detection step.\n",
      "WARNING:root:Because the aspect ratio of the current image exceeds the limit (min_height or width_height_ratio), the program will skip the detection step.\n",
      "WARNING:root:Because the aspect ratio of the current image exceeds the limit (min_height or width_height_ratio), the program will skip the detection step.\n",
      "WARNING:root:Because the aspect ratio of the current image exceeds the limit (min_height or width_height_ratio), the program will skip the detection step.\n",
      "WARNING:root:Because the aspect ratio of the current image exceeds the limit (min_height or width_height_ratio), the program will skip the detection step.\n",
      "WARNING:root:Because the aspect ratio of the current image exceeds the limit (min_height or width_height_ratio), the program will skip the detection step.\n",
      "WARNING:root:Because the aspect ratio of the current image exceeds the limit (min_height or width_height_ratio), the program will skip the detection step.\n",
      "WARNING:root:Because the aspect ratio of the current image exceeds the limit (min_height or width_height_ratio), the program will skip the detection step.\n",
      "WARNING:root:Because the aspect ratio of the current image exceeds the limit (min_height or width_height_ratio), the program will skip the detection step.\n",
      "WARNING:root:Because the aspect ratio of the current image exceeds the limit (min_height or width_height_ratio), the program will skip the detection step.\n",
      "WARNING:root:Because the aspect ratio of the current image exceeds the limit (min_height or width_height_ratio), the program will skip the detection step.\n",
      "WARNING:root:Because the aspect ratio of the current image exceeds the limit (min_height or width_height_ratio), the program will skip the detection step.\n",
      "WARNING:root:Because the aspect ratio of the current image exceeds the limit (min_height or width_height_ratio), the program will skip the detection step.\n",
      "WARNING:root:Because the aspect ratio of the current image exceeds the limit (min_height or width_height_ratio), the program will skip the detection step.\n",
      "WARNING:root:Because the aspect ratio of the current image exceeds the limit (min_height or width_height_ratio), the program will skip the detection step.\n",
      "WARNING:root:Because the aspect ratio of the current image exceeds the limit (min_height or width_height_ratio), the program will skip the detection step.\n",
      "WARNING:root:Because the aspect ratio of the current image exceeds the limit (min_height or width_height_ratio), the program will skip the detection step.\n",
      "WARNING:root:Because the aspect ratio of the current image exceeds the limit (min_height or width_height_ratio), the program will skip the detection step.\n",
      "WARNING:root:Because the aspect ratio of the current image exceeds the limit (min_height or width_height_ratio), the program will skip the detection step.\n",
      "WARNING:root:Because the aspect ratio of the current image exceeds the limit (min_height or width_height_ratio), the program will skip the detection step.\n",
      "WARNING:root:Because the aspect ratio of the current image exceeds the limit (min_height or width_height_ratio), the program will skip the detection step.\n",
      "WARNING:root:Because the aspect ratio of the current image exceeds the limit (min_height or width_height_ratio), the program will skip the detection step.\n",
      "WARNING:root:Because the aspect ratio of the current image exceeds the limit (min_height or width_height_ratio), the program will skip the detection step.\n",
      "WARNING:root:Because the aspect ratio of the current image exceeds the limit (min_height or width_height_ratio), the program will skip the detection step.\n",
      "WARNING:root:Because the aspect ratio of the current image exceeds the limit (min_height or width_height_ratio), the program will skip the detection step.\n",
      "WARNING:root:Because the aspect ratio of the current image exceeds the limit (min_height or width_height_ratio), the program will skip the detection step.\n",
      "WARNING:root:Because the aspect ratio of the current image exceeds the limit (min_height or width_height_ratio), the program will skip the detection step.\n"
     ]
    }
   ],
   "source": [
    "# PyPdf + rapidocr-onnxruntime\n",
    "from langchain_community.document_loaders import PyPDFLoader\n",
    "loader = PyPDFLoader(\"./docs/TRM_NUC100_120(DN)_Series_EN_V1.04.pdf\", extract_images=True)\n",
    "\n",
    "# UnstructuredFileLoader\n",
    "#loader = UnstructuredFileLoader(\"./docs/en-us--TRM_M463_M467_Series_EN_Rev1.01.pdf\")\n",
    "\n",
    "documents = loader.load()"
   ]
  },
  {
   "cell_type": "code",
   "execution_count": 53,
   "id": "6c7851a9-4cdf-44df-b2db-ededf5ef2074",
   "metadata": {
    "tags": []
   },
   "outputs": [],
   "source": [
    "text_splitter=CharacterTextSplitter(separator='\\n', chunk_size=3000, chunk_overlap=200)\n",
    "text_doc=text_splitter.split_documents(documents)"
   ]
  },
  {
   "cell_type": "markdown",
   "id": "ef2049d1-3c71-470c-b553-08c2926a37d1",
   "metadata": {},
   "source": [
    "## Clip the Table of contents"
   ]
  },
  {
   "cell_type": "code",
   "execution_count": 59,
   "id": "8672c92d-2e77-46f7-b4d1-a7e0927b7cf3",
   "metadata": {},
   "outputs": [
    {
     "name": "stdout",
     "output_type": "stream",
     "text": [
      "page_content='Table 6 -19 LIN Header Selection in Master mode  ................................ ................................ ....... 373 \\nTable 6 -20 UART Interrupt Sources and Flags Table In DMA Mode  ................................ ..........  400 \\nTable 6 -21 UART Interrupt Sources and Flags Table In Software Mode  ................................ .... 400 \\nTable 6 -22 Timer2/Timer1/Timer0 Operation Mode  ................................ ................................ .... 421 \\nTable 6 -23 I2C Status Code Description Table  ................................ ................................ ............  470 \\n \\n  DUVOTOn' metadata={'source': './docs/TRM_NUC100_120(DN)_Series_EN_V1.04.pdf', 'page': 12}\n"
     ]
    }
   ],
   "source": [
    "#print(text_doc[0].page_content)\n",
    "print(text_doc[22]) # Check the content"
   ]
  },
  {
   "cell_type": "code",
   "execution_count": 60,
   "id": "bf2b4736-7e65-48d2-8a6e-0e9f665b6c11",
   "metadata": {
    "tags": []
   },
   "outputs": [
    {
     "name": "stdout",
     "output_type": "stream",
     "text": [
      "Before: 624\n",
      "After: 601\n"
     ]
    }
   ],
   "source": [
    "print(\"Before: {}\".format(len(text_doc)))\n",
    "text_doc_1 = text_doc[23:]\n",
    "print(\"After: {}\".format(len(text_doc_1)))"
   ]
  },
  {
   "cell_type": "markdown",
   "id": "894e31f2-fc56-47aa-8f72-565d4801ab52",
   "metadata": {},
   "source": [
    "## Use tabula to load pdf table"
   ]
  },
  {
   "cell_type": "code",
   "execution_count": 62,
   "id": "55c45013-9977-4c43-927c-38395c8ec838",
   "metadata": {},
   "outputs": [
    {
     "name": "stdout",
     "output_type": "stream",
     "text": [
      "940\n"
     ]
    }
   ],
   "source": [
    "import tabula\n",
    "from tabula import read_pdf\n",
    "from tabulate import tabulate\n",
    "\n",
    "DOC_FILE_NAME = r\"./docs/TRM_NUC100_120(DN)_Series_EN_V1.04.pdf\"\n",
    "# convert PDF into CSV\n",
    "#tabula.convert_into(\"en-us--DS_NAU8822A_DataSheet_EN_Rev3.5.pdf\", \"NAU8822A_table.json\", output_format=\"json\", pages='3')\n",
    "dfs = read_pdf(DOC_FILE_NAME, pages='13-592', stream=True)\n",
    "print(len(dfs))\n",
    " \n"
   ]
  },
  {
   "cell_type": "code",
   "execution_count": 63,
   "id": "9c818370-b286-48cf-a623-a5d46026a0e3",
   "metadata": {},
   "outputs": [],
   "source": [
    "str_list = [df.to_csv(path_or_buf=None, index=False) for df in dfs]\n"
   ]
  },
  {
   "cell_type": "code",
   "execution_count": 65,
   "id": "301c7a4e-9f63-4a99-a4b1-c4674b51e4e2",
   "metadata": {},
   "outputs": [
    {
     "name": "stdout",
     "output_type": "stream",
     "text": [
      "Unnamed: 0,Unnamed: 1,Unnamed: 2,2,Unnamed: 3,Unnamed: 4,2.1,Unnamed: 5\n",
      "Product Line,UART,SPI,I C,USB,PS/2,I S,SC\n",
      "NUC100xxxDN,3,4,2,-,1,1,3\n",
      "NUC120xxxDN,3,4,2,1,1,1,3\n",
      "\n"
     ]
    }
   ],
   "source": [
    "print(str_list[0])"
   ]
  },
  {
   "cell_type": "code",
   "execution_count": 66,
   "id": "5eeab085-09e8-4548-bf6a-9457cb6c005a",
   "metadata": {},
   "outputs": [
    {
     "name": "stdout",
     "output_type": "stream",
     "text": [
      "===== Load the embedding model =====\n",
      "===== Build FAISS =====\n",
      "1 doc done\n",
      "D:\\nu_QA_data\\TRM_NUC100_NUC200_table_0308\n"
     ]
    }
   ],
   "source": [
    "import tqdm\n",
    "import time\n",
    "from langchain_core.documents import Document\n",
    "\n",
    "save_path = r'D:\\nu_QA_data'\n",
    "#save_name = r'TRM_M2354_and_StdDriver_C_Regs_bge_s'\n",
    "#save_name = r'm460_StdDriver_Regs_openai'\n",
    "save_name = r'TRM_NUC100_NUC200_table_0308'\n",
    "\n",
    "table_docs = [\n",
    "    Document(page_content=s, metadata={'source': save_name})\n",
    "    for i, s in enumerate(str_list)\n",
    "]\n",
    "\n",
    "# load embedding model\n",
    "print(\"===== Load the embedding model =====\")\n",
    "embedding=OpenAIEmbeddings()\n",
    "\n",
    "# Create vectors store\n",
    "print(\"===== Build FAISS =====\")\n",
    "\n",
    "# old way\n",
    "vectorstore=FAISS.from_documents(table_docs, embedding)\n",
    "print(\"1 doc done\")\n",
    "\n",
    "\n",
    "index_path = os.path.join(save_path, save_name)\n",
    "print(index_path)\n",
    "vectorstore.save_local(index_path)"
   ]
  },
  {
   "cell_type": "markdown",
   "id": "55825002-7f24-46fc-a6e8-437e929e6d6b",
   "metadata": {},
   "source": [
    "## Calculate the tokens"
   ]
  },
  {
   "cell_type": "code",
   "execution_count": 15,
   "id": "a23be8e8-24b2-4761-871f-2f251ad56f0e",
   "metadata": {
    "tags": []
   },
   "outputs": [
    {
     "ename": "NameError",
     "evalue": "name 'text_doc_1' is not defined",
     "output_type": "error",
     "traceback": [
      "\u001b[1;31m---------------------------------------------------------------------------\u001b[0m",
      "\u001b[1;31mNameError\u001b[0m                                 Traceback (most recent call last)",
      "Cell \u001b[1;32mIn[15], line 10\u001b[0m\n\u001b[0;32m      7\u001b[0m     \u001b[38;5;28;01mreturn\u001b[39;00m num_tokens\n\u001b[0;32m      9\u001b[0m num_tokens \u001b[38;5;241m=\u001b[39m \u001b[38;5;241m0\u001b[39m\n\u001b[1;32m---> 10\u001b[0m \u001b[38;5;28;01mfor\u001b[39;00m text_ele \u001b[38;5;129;01min\u001b[39;00m \u001b[43mtext_doc_1\u001b[49m:\n\u001b[0;32m     11\u001b[0m     num_tokens \u001b[38;5;241m+\u001b[39m\u001b[38;5;241m=\u001b[39m num_tokens_from_string(\u001b[38;5;124m\"\u001b[39m\u001b[38;5;124mtiktoken is great!\u001b[39m\u001b[38;5;124m\"\u001b[39m, \u001b[38;5;124m\"\u001b[39m\u001b[38;5;124mcl100k_base\u001b[39m\u001b[38;5;124m\"\u001b[39m)\n\u001b[0;32m     12\u001b[0m \u001b[38;5;28mprint\u001b[39m(num_tokens) \n",
      "\u001b[1;31mNameError\u001b[0m: name 'text_doc_1' is not defined"
     ]
    }
   ],
   "source": [
    "import tiktoken\n",
    "\n",
    "def num_tokens_from_string(string: str, encoding_name: str) -> int:\n",
    "    \"\"\"Returns the number of tokens in a text string.\"\"\"\n",
    "    encoding = tiktoken.get_encoding(encoding_name)\n",
    "    num_tokens = len(encoding.encode(string))\n",
    "    return num_tokens\n",
    "\n",
    "num_tokens = 0\n",
    "for text_ele in text_doc_1:\n",
    "    num_tokens += num_tokens_from_string(\"tiktoken is great!\", \"cl100k_base\")\n",
    "print(num_tokens) "
   ]
  },
  {
   "cell_type": "markdown",
   "id": "5b412c6f-f1e7-4f94-a8f8-097eeac99dea",
   "metadata": {},
   "source": [
    "## Load the second doc "
   ]
  },
  {
   "cell_type": "code",
   "execution_count": 16,
   "id": "e443bb3b-3023-4567-be7d-105868e7ed72",
   "metadata": {},
   "outputs": [
    {
     "data": {
      "text/plain": [
       "893"
      ]
     },
     "execution_count": 16,
     "metadata": {},
     "output_type": "execute_result"
    }
   ],
   "source": [
    "loader2 = UnstructuredFileLoader(\"./docs/M031AE_v1_svd.txt\")\n",
    "documents2 = loader2.load()\n",
    "#text_splitter=CharacterTextSplitter(separator='\\n', chunk_size=2000, chunk_overlap=200)\n",
    "text_splitter=CharacterTextSplitter(separator='\\n', chunk_size=3000, chunk_overlap=200) # custom separator\n",
    "\n",
    "text_doc2=text_splitter.split_documents(documents2)\n",
    "len(text_doc2)"
   ]
  },
  {
   "cell_type": "code",
   "execution_count": 17,
   "id": "dfe0e1b6-d2f2-4eea-af64-164933a995e8",
   "metadata": {},
   "outputs": [
    {
     "name": "stdout",
     "output_type": "stream",
     "text": [
      "page_content=\"<name>1</name>\\n<description>Clock cycles delay Enabled</description>\\n<value>#1</value>\\n</enumeratedValue>\\n</enumeratedValues>\\n<access>read-write</access>\\n</field>\\n<field>\\n<name>PDWKIEN</name>\\n<description>Power-down Mode Wake-up Interrupt Enable Bit (Write Protect)\\\\nNote 1: The interrupt will occur when both PDWKIF and PDWKIEN are high.\\\\nNote 2: This bit is write protected. Refer to the SYS_REGLCTL register.</description>\\n<bitOffset>5</bitOffset>\\n<bitWidth>1</bitWidth>\\n<enumeratedValues>\\n<enumeratedValue>\\n<name>0</name>\\n<description>Power-down mode wake-up interrupt Disabled</description>\\n<value>#0</value>\\n</enumeratedValue>\\n<enumeratedValue>\\n<name>1</name>\\n<description>Power-down mode wake-up interrupt Enabled</description>\\n<value>#1</value>\\n</enumeratedValue>\\n</enumeratedValues>\\n<access>read-write</access>\\n</field>\\n<field>\\n<name>PDWKIF</name>\\n<description>Power-down Mode Wake-up Interrupt Status\\\\nSet by 'Power-down wake-up event', it indicates that resume from Power-down mode' \\\\nThe flag is set if any wake-up source is occurred. Refer Power Modes and Wake-up Sources chapter.\\\\nNote 1: Write 1 to clear the bit to 0.\\\\nNote 2: This bit works only if PDWKIEN (CLK_PWRCTL[5]) set to 1.</description>\\n<bitOffset>6</bitOffset>\\n<bitWidth>1</bitWidth>\\n<access>read-write</access>\\n</field>\\n<field>\\n<name>PDEN</name>\\n<description>System Power-down Enable (Write Protect)\\\\nWhen this bit is set to 1, Power-down mode is enabled and chip keeps active till the CPU sleep mode is also active and then the chip enters Power-down mode.\\\\nWhen chip wakes up from Power-down mode, this bit is auto cleared. Users need to set this bit again for next Power-down.\\\\nIn Power-down mode, HXT and the HIRC will be disabled in this mode, but LXT and LIRC  are not controlled by Power-down mode. If user disable LIRC before entering power-down mode, this bit should be set after LIRC disabled 50us.\\\\nIn Power-down mode, the PLL and system clock are disabled, and ignored the clock source selection. The clocks of peripheral are not controlled by Power-down mode, if the peripheral clock source is from LXT or LIRC.\\\\nNote: This bit is write protected. Refer to the SYS_REGLCTL register.</description>\\n<bitOffset>7</bitOffset>\\n<bitWidth>1</bitWidth>\\n<enumeratedValues>\\n<enumeratedValue>\\n<name>0</name>\\n<description>Chip operating normally or chip in idle mode because of WFI command</description>\\n<value>#0</value>\\n</enumeratedValue>\\n<enumeratedValue>\\n<name>1</name>\\n<description>Chip enters Power-down mode instant or wait CPU sleep command WFI</description>\\n<value>#1</value>\\n</enumeratedValue>\\n</enumeratedValues>\\n<access>read-write</access>\\n</field>\\n<field>\\n<name>HXTGAIN</name>\" metadata={'source': './docs/M031AE_v1_svd.txt'}\n"
     ]
    }
   ],
   "source": [
    "print(text_doc2[2]) # Check the content"
   ]
  },
  {
   "cell_type": "markdown",
   "id": "b6841a58-c50f-4805-a2fe-550e637ab0d4",
   "metadata": {},
   "source": [
    "### Combine 2 different types"
   ]
  },
  {
   "cell_type": "code",
   "execution_count": 18,
   "id": "38e68f81-e2e3-46ad-9174-ddde3470a7a9",
   "metadata": {
    "tags": []
   },
   "outputs": [],
   "source": [
    "texts = text_doc_1 + text_doc2"
   ]
  },
  {
   "cell_type": "code",
   "execution_count": 19,
   "id": "136304cd-1262-407b-92eb-23860132245e",
   "metadata": {
    "tags": []
   },
   "outputs": [
    {
     "data": {
      "text/plain": [
       "14082"
      ]
     },
     "execution_count": 19,
     "metadata": {},
     "output_type": "execute_result"
    }
   ],
   "source": [
    "len(texts)"
   ]
  },
  {
   "cell_type": "code",
   "execution_count": 17,
   "id": "101d92c1-728b-4759-9c2c-e959ddf79394",
   "metadata": {
    "tags": []
   },
   "outputs": [
    {
     "name": "stdout",
     "output_type": "stream",
     "text": [
      "NuMicro ISP Flow And Command Set\n",
      "Introduction:\n",
      "Most of modern consumer products has the capability to upgrade its firmware code running on internal microcontroller. With this feature, the product is able to continuously support new functions after it is made and released to end customer. Nuvoton provides a ISP (In-System Programming) method to update the flash code of the NuMicro series Flash-memory-based microcontrollers.\n",
      "The NuMicro ISP code is resident in LDROM (Loader ROM), it supports different I/O interfaces, including USB, UART, I2C, SPI, RS485, CAN to program or update the application code into internal APROM (Application ROM). This is a very convenient way for developer or end user to update application code of a NuMicro chip that was mounted on PCB (Printed Circuit Board).\n",
      "This document describes the ISP code flow and the usage of ISP commands.\n",
      "tools, and supporting http://www.nuvoton.com/\n",
      "The relative datasheet, Technical Reference Manual, BSP (Board Support Package) software, -\n",
      "information can be downloaded\n",
      "from Nuvoton Website\n",
      "© 2010 Nuvoton Technology Corporation. All Rights Reserved. 1\n",
      "Table of Contents:\n",
      "2.\n",
      "3.\n",
      "page_content='NuMicro\\uf0e4 ISP Flow And Command Set\\nIntroduction:\\nMost of modern consumer products has the capability to upgrade its firmware code running on internal microcontroller. With this feature, the product is able to continuously support new functions after it is made and released to end customer. Nuvoton provides a ISP (In-System Programming) method to update the flash code of the NuMicro\\uf0e4 series Flash-memory-based microcontrollers.\\nThe NuMicro\\uf0e4 ISP code is resident in LDROM (Loader ROM), it supports different I/O interfaces, including USB, UART, I2C, SPI, RS485, CAN to program or update the application code into internal APROM (Application ROM). This is a very convenient way for developer or end user to update application code of a NuMicro\\uf0e4 chip that was mounted on PCB (Printed Circuit Board).\\nThis document describes the ISP code flow and the usage of ISP commands.\\ntools, and supporting http://www.nuvoton.com/\\nThe relative datasheet, Technical Reference Manual, BSP (Board Support Package) software, -\\ninformation can be downloaded\\nfrom Nuvoton Website\\n© 2010 Nuvoton Technology Corporation. All Rights Reserved. 1\\nTable of Contents:\\n2.\\n3.' metadata={'source': './docs/NuMicro_ISP_Flow_And_Command_Set.pdf'}\n"
     ]
    }
   ],
   "source": [
    "print(texts[7547].page_content)\n",
    "print(texts[7547])"
   ]
  },
  {
   "cell_type": "markdown",
   "id": "ccb27e6f-c4f3-4b2d-9c63-5a0c04ff46a7",
   "metadata": {},
   "source": [
    "## Save the texts into FAISS in disk"
   ]
  },
  {
   "cell_type": "code",
   "execution_count": 18,
   "id": "6c90e299-8341-4570-90ca-6de55705c0bc",
   "metadata": {},
   "outputs": [
    {
     "name": "stdout",
     "output_type": "stream",
     "text": [
      "===== Load the embedding model =====\n",
      "===== Build FAISS =====\n",
      "1 doc done\n",
      "D:\\nu_QA_data\\TRM_M031_M032\n"
     ]
    }
   ],
   "source": [
    "import tqdm\n",
    "import time\n",
    "\n",
    "save_path = r'D:\\nu_QA_data'\n",
    "#save_name = r'TRM_M2354_and_StdDriver_C_Regs_bge_s'\n",
    "save_name = r'TRM_M031_M032'\n",
    "#save_name = r'TRM_NUC100_NUC200_pypdf_0308'\n",
    "\n",
    "# load embedding model\n",
    "print(\"===== Load the embedding model =====\")\n",
    "#embedding = HuggingFaceEmbeddings(model_name='sentence-transformers/all-MiniLM-L6-v2',model_kwargs={'device': 'cpu'})\n",
    "#embedding = HuggingFaceInstructEmbeddings(model_name='BAAI/bge-base-en-v1.5', model_kwargs={'device': 'cpu'})\n",
    "#embedding = HuggingFaceInstructEmbeddings(model_name='BAAI/bge-small-en')\n",
    "embedding=OpenAIEmbeddings()\n",
    "\n",
    "# Create vectors store\n",
    "print(\"===== Build FAISS =====\")\n",
    "\n",
    "# old way\n",
    "vectorstore=FAISS.from_documents(text_doc2, embedding)\n",
    "print(\"1 doc done\")\n",
    "#vectorstore.add_documents(text_doc_1)\n",
    "#print(\"2 doc done\")\n",
    "\n",
    "# new way\n",
    "#def chunks(lst, n):\n",
    "#  \"\"\"Yield successive n-sized chunks from lst.\"\"\"\n",
    "#  for i in range(0, len(lst), n):\n",
    "#    yield lst[i:i + n]\n",
    "#\n",
    "#text_chunks = chunks(texts, 1000) # adjust 20 based on your average character count per line\n",
    "#vectorstore = None\n",
    "#for (index, chunk) in tqdm.tqdm(enumerate(text_chunks)):\n",
    "#  if index == 0:\n",
    "#    vectorstore = FAISS.from_documents(chunk, embedding)\n",
    "#  else:\n",
    "#    time.sleep(60) # wait for a minute to not exceed any rate limits\n",
    "#    vectorstore.add_documents(chunk)\n",
    "\n",
    "\n",
    "index_path = os.path.join(save_path, save_name)\n",
    "print(index_path)\n",
    "vectorstore.save_local(index_path)"
   ]
  },
  {
   "cell_type": "markdown",
   "id": "360e9afc-70e9-4b6b-9bda-70691f9edf32",
   "metadata": {},
   "source": [
    "## Create VB only by chosen files"
   ]
  },
  {
   "cell_type": "code",
   "execution_count": 22,
   "id": "a1487155-4e92-4a31-afb3-57d8a55e6bd8",
   "metadata": {
    "tags": []
   },
   "outputs": [
    {
     "name": "stdout",
     "output_type": "stream",
     "text": [
      "Remove the old ones!\n",
      "['./m251bsp\\\\StdDriver\\\\inc\\\\crc.h', './m251bsp\\\\StdDriver\\\\inc\\\\pdma.h', './m251bsp\\\\StdDriver\\\\inc\\\\scuart.h', './m251bsp\\\\StdDriver\\\\inc\\\\uart.h', './m251bsp\\\\StdDriver\\\\inc\\\\usci_uart.h', './m251bsp\\\\StdDriver\\\\src\\\\crc.c', './m251bsp\\\\StdDriver\\\\src\\\\pdma.c', './m251bsp\\\\StdDriver\\\\src\\\\scuart.c', './m251bsp\\\\StdDriver\\\\src\\\\uart.c', './m251bsp\\\\StdDriver\\\\src\\\\usci_uart.c', './m251bsp\\\\SampleCode\\\\StdDriver\\\\CRC_CCITT', './m251bsp\\\\SampleCode\\\\StdDriver\\\\CRC_CRC32', './m251bsp\\\\SampleCode\\\\StdDriver\\\\CRC_CRC8', './m251bsp\\\\SampleCode\\\\StdDriver\\\\DAC_PDMA_TimerTrigger', './m251bsp\\\\SampleCode\\\\StdDriver\\\\EADC_PDMA_BPWM_Trigger', './m251bsp\\\\SampleCode\\\\StdDriver\\\\EADC_PDMA_PWM_Trigger', './m251bsp\\\\SampleCode\\\\StdDriver\\\\FMC_CRC32', './m251bsp\\\\SampleCode\\\\StdDriver\\\\I2C_PDMA_TRX', './m251bsp\\\\SampleCode\\\\StdDriver\\\\PDMA_BasicMode', './m251bsp\\\\SampleCode\\\\StdDriver\\\\PDMA_ScatterGather', './m251bsp\\\\SampleCode\\\\StdDriver\\\\PDMA_ScatterGather_PingPongBuffer', './m251bsp\\\\SampleCode\\\\StdDriver\\\\PWM_PDMA_Capture', './m251bsp\\\\SampleCode\\\\StdDriver\\\\SCUART_TxRx', './m251bsp\\\\SampleCode\\\\StdDriver\\\\SPII2S_PDMA_Codec', './m251bsp\\\\SampleCode\\\\StdDriver\\\\SPII2S_PDMA_Play', './m251bsp\\\\SampleCode\\\\StdDriver\\\\SPII2S_PDMA_PlayRecord', './m251bsp\\\\SampleCode\\\\StdDriver\\\\SPII2S_PDMA_Record', './m251bsp\\\\SampleCode\\\\StdDriver\\\\SPI_PDMA_LoopTest', './m251bsp\\\\SampleCode\\\\StdDriver\\\\UART_AutoBaudRate', './m251bsp\\\\SampleCode\\\\StdDriver\\\\UART_AutoFlow', './m251bsp\\\\SampleCode\\\\StdDriver\\\\UART_IrDA', './m251bsp\\\\SampleCode\\\\StdDriver\\\\UART_LIN', './m251bsp\\\\SampleCode\\\\StdDriver\\\\UART_PDMA', './m251bsp\\\\SampleCode\\\\StdDriver\\\\UART_PDMA', './m251bsp\\\\SampleCode\\\\StdDriver\\\\UART_RS485', './m251bsp\\\\SampleCode\\\\StdDriver\\\\UART_SingleWire', './m251bsp\\\\SampleCode\\\\StdDriver\\\\UART_TxRxFunction', './m251bsp\\\\SampleCode\\\\StdDriver\\\\UART_Wakeup', './m251bsp\\\\SampleCode\\\\StdDriver\\\\USCI_SPI_PDMA_LoopTest', './m251bsp\\\\SampleCode\\\\StdDriver\\\\USCI_UART_AutoBaudRate', './m251bsp\\\\SampleCode\\\\StdDriver\\\\USCI_UART_Autoflow_Master', './m251bsp\\\\SampleCode\\\\StdDriver\\\\USCI_UART_Autoflow_Slave', './m251bsp\\\\SampleCode\\\\StdDriver\\\\USCI_UART_PDMA', './m251bsp\\\\SampleCode\\\\StdDriver\\\\USCI_UART_PDMA', './m251bsp\\\\SampleCode\\\\StdDriver\\\\USCI_UART_RS485_Master', './m251bsp\\\\SampleCode\\\\StdDriver\\\\USCI_UART_RS485_Slave', './m251bsp\\\\SampleCode\\\\StdDriver\\\\USCI_UART_TxRxFunction', './m251bsp\\\\SampleCode\\\\StdDriver\\\\USCI_UART_Wakeup']\n"
     ]
    }
   ],
   "source": [
    "import re\n",
    "import shutil\n",
    "\n",
    "\n",
    "\n",
    "def find_files_with_pattern(directory, patterns, dst):\n",
    "    matching_path = []\n",
    "    \n",
    "    for root, dirs, files in os.walk(directory):\n",
    "        for file in files:\n",
    "            file_path = os.path.join(root, file)\n",
    "            \n",
    "            for pattern in patterns:\n",
    "                # Check if the file name matches the pattern\n",
    "                if re.search(pattern, file, re.IGNORECASE):\n",
    "                    matching_path.append(file_path)\n",
    "                    shutil.copy(file_path, dst)\n",
    "    \n",
    "    return matching_path\n",
    "\n",
    "def find_folders_with_pattern(directory, patterns, dst):\n",
    "    matching_path = []\n",
    "    \n",
    "    for dirname in os.listdir(directory):\n",
    "        \n",
    "        for pattern in patterns:\n",
    "            # Check if the file name matches the pattern\n",
    "            if re.search(pattern, dirname, re.IGNORECASE):\n",
    "                dir_loc = os.path.join(directory, dirname)\n",
    "                #print(dir_loc, dirname)\n",
    "                matching_path.append(dir_loc)\n",
    "                shutil.copytree(dir_loc, os.path.join(dst, dirname), dirs_exist_ok=True)\n",
    "            \n",
    "    return matching_path\n",
    "\n",
    "# Example usage:\n",
    "directory_path = \"./m251bsp\"\n",
    "#file_pattern = [r\"acmp\", r\"dac\"]\n",
    "file_pattern = [r\"uart\", r\"pdma\", r\"crc\"]\n",
    "dst = r\"D:\\nu_QA_data\\m251bsp_partial_source\"\n",
    "\n",
    "if os.path.isdir(dst):\n",
    "    print(\"Remove the old ones!\")\n",
    "    #os.rmdir(dst)\n",
    "    shutil.rmtree(dst) \n",
    "else:\n",
    "    print(\"First create!\")\n",
    "os.mkdir(dst)    \n",
    "\n",
    "# Find the StdDriver\n",
    "matching_files = find_files_with_pattern(os.path.join(directory_path, 'StdDriver'), file_pattern, dst)\n",
    "\n",
    "# Find the SampleCode\\StdDriver\n",
    "matching_files += find_folders_with_pattern(os.path.join(directory_path, 'SampleCode', 'StdDriver'), file_pattern, dst)\n",
    "\n",
    "\n",
    "print(matching_files)\n"
   ]
  },
  {
   "cell_type": "code",
   "execution_count": 23,
   "id": "6be9313d-bf64-44e0-bc86-4f981552c5b7",
   "metadata": {
    "tags": []
   },
   "outputs": [
    {
     "data": {
      "application/vnd.jupyter.widget-view+json": {
       "model_id": "579f2d9c217a4b65bc1fc3484fba52af",
       "version_major": 2,
       "version_minor": 0
      },
      "text/plain": [
       "  0%|          | 0/50 [00:00<?, ?it/s]"
      ]
     },
     "metadata": {},
     "output_type": "display_data"
    },
    {
     "data": {
      "text/plain": [
       "50"
      ]
     },
     "execution_count": 23,
     "metadata": {},
     "output_type": "execute_result"
    }
   ],
   "source": [
    "\n",
    "loader = GenericLoader.from_filesystem(\n",
    "        dst,\n",
    "        glob=\"**/*\",\n",
    "        suffixes=[\".h\", \".c\"],\n",
    "        parser=LanguageParser(language=Language.C, parser_threshold=10000),\n",
    "        #parser=LanguageParser(),\n",
    "        show_progress=True,\n",
    "    )\n",
    "docs = loader.load()\n",
    "len(docs)"
   ]
  },
  {
   "cell_type": "code",
   "execution_count": 24,
   "id": "6e2eb3e0-4ebb-4643-a3ac-d27adee4c53f",
   "metadata": {
    "tags": []
   },
   "outputs": [
    {
     "name": "stdout",
     "output_type": "stream",
     "text": [
      "{'source': 'D:\\\\nu_QA_data\\\\m251bsp_partial_source\\\\crc.c', 'language': <Language.C: 'c'>}\n",
      "{'source': 'D:\\\\nu_QA_data\\\\m251bsp_partial_source\\\\crc.h', 'language': <Language.C: 'c'>}\n",
      "{'source': 'D:\\\\nu_QA_data\\\\m251bsp_partial_source\\\\pdma.c', 'language': <Language.C: 'c'>}\n",
      "{'source': 'D:\\\\nu_QA_data\\\\m251bsp_partial_source\\\\pdma.h', 'language': <Language.C: 'c'>}\n",
      "{'source': 'D:\\\\nu_QA_data\\\\m251bsp_partial_source\\\\scuart.c', 'language': <Language.C: 'c'>}\n",
      "{'source': 'D:\\\\nu_QA_data\\\\m251bsp_partial_source\\\\scuart.h', 'language': <Language.C: 'c'>}\n",
      "{'source': 'D:\\\\nu_QA_data\\\\m251bsp_partial_source\\\\uart.c', 'language': <Language.C: 'c'>}\n",
      "{'source': 'D:\\\\nu_QA_data\\\\m251bsp_partial_source\\\\uart.h', 'language': <Language.C: 'c'>}\n",
      "{'source': 'D:\\\\nu_QA_data\\\\m251bsp_partial_source\\\\usci_uart.c', 'language': <Language.C: 'c'>}\n",
      "{'source': 'D:\\\\nu_QA_data\\\\m251bsp_partial_source\\\\usci_uart.h', 'language': <Language.C: 'c'>}\n",
      "{'source': 'D:\\\\nu_QA_data\\\\m251bsp_partial_source\\\\CRC_CCITT\\\\main.c', 'language': <Language.C: 'c'>}\n",
      "{'source': 'D:\\\\nu_QA_data\\\\m251bsp_partial_source\\\\CRC_CRC32\\\\main.c', 'language': <Language.C: 'c'>}\n",
      "{'source': 'D:\\\\nu_QA_data\\\\m251bsp_partial_source\\\\CRC_CRC8\\\\main.c', 'language': <Language.C: 'c'>}\n",
      "{'source': 'D:\\\\nu_QA_data\\\\m251bsp_partial_source\\\\DAC_PDMA_TimerTrigger\\\\main.c', 'language': <Language.C: 'c'>}\n",
      "{'source': 'D:\\\\nu_QA_data\\\\m251bsp_partial_source\\\\EADC_PDMA_BPWM_Trigger\\\\main.c', 'language': <Language.C: 'c'>}\n",
      "{'source': 'D:\\\\nu_QA_data\\\\m251bsp_partial_source\\\\EADC_PDMA_PWM_Trigger\\\\main.c', 'language': <Language.C: 'c'>}\n",
      "{'source': 'D:\\\\nu_QA_data\\\\m251bsp_partial_source\\\\FMC_CRC32\\\\main.c', 'language': <Language.C: 'c'>}\n",
      "{'source': 'D:\\\\nu_QA_data\\\\m251bsp_partial_source\\\\I2C_PDMA_TRX\\\\main.c', 'language': <Language.C: 'c'>}\n",
      "{'source': 'D:\\\\nu_QA_data\\\\m251bsp_partial_source\\\\PDMA_BasicMode\\\\main.c', 'language': <Language.C: 'c'>}\n",
      "{'source': 'D:\\\\nu_QA_data\\\\m251bsp_partial_source\\\\PDMA_ScatterGather\\\\main.c', 'language': <Language.C: 'c'>}\n",
      "{'source': 'D:\\\\nu_QA_data\\\\m251bsp_partial_source\\\\PDMA_ScatterGather_PingPongBuffer\\\\main.c', 'language': <Language.C: 'c'>}\n",
      "{'source': 'D:\\\\nu_QA_data\\\\m251bsp_partial_source\\\\PWM_PDMA_Capture\\\\main.c', 'language': <Language.C: 'c'>}\n",
      "{'source': 'D:\\\\nu_QA_data\\\\m251bsp_partial_source\\\\SCUART_TxRx\\\\main.c', 'language': <Language.C: 'c'>}\n",
      "{'source': 'D:\\\\nu_QA_data\\\\m251bsp_partial_source\\\\SPII2S_PDMA_Codec\\\\main.c', 'language': <Language.C: 'c'>}\n",
      "{'source': 'D:\\\\nu_QA_data\\\\m251bsp_partial_source\\\\SPII2S_PDMA_Play\\\\main.c', 'language': <Language.C: 'c'>}\n",
      "{'source': 'D:\\\\nu_QA_data\\\\m251bsp_partial_source\\\\SPII2S_PDMA_PlayRecord\\\\main.c', 'language': <Language.C: 'c'>}\n",
      "{'source': 'D:\\\\nu_QA_data\\\\m251bsp_partial_source\\\\SPII2S_PDMA_Record\\\\main.c', 'language': <Language.C: 'c'>}\n",
      "{'source': 'D:\\\\nu_QA_data\\\\m251bsp_partial_source\\\\SPI_PDMA_LoopTest\\\\main.c', 'language': <Language.C: 'c'>}\n",
      "{'source': 'D:\\\\nu_QA_data\\\\m251bsp_partial_source\\\\UART_AutoBaudRate\\\\main.c', 'language': <Language.C: 'c'>}\n",
      "{'source': 'D:\\\\nu_QA_data\\\\m251bsp_partial_source\\\\UART_AutoFlow\\\\main.c', 'language': <Language.C: 'c'>}\n",
      "{'source': 'D:\\\\nu_QA_data\\\\m251bsp_partial_source\\\\UART_IrDA\\\\main.c', 'language': <Language.C: 'c'>}\n",
      "{'source': 'D:\\\\nu_QA_data\\\\m251bsp_partial_source\\\\UART_LIN\\\\main.c', 'language': <Language.C: 'c'>}\n",
      "{'source': 'D:\\\\nu_QA_data\\\\m251bsp_partial_source\\\\UART_LIN\\\\my_retarget.c', 'language': <Language.C: 'c'>}\n",
      "{'source': 'D:\\\\nu_QA_data\\\\m251bsp_partial_source\\\\UART_LIN\\\\uart_lin.c', 'language': <Language.C: 'c'>}\n",
      "{'source': 'D:\\\\nu_QA_data\\\\m251bsp_partial_source\\\\UART_LIN\\\\uart_lin.h', 'language': <Language.C: 'c'>}\n",
      "{'source': 'D:\\\\nu_QA_data\\\\m251bsp_partial_source\\\\UART_PDMA\\\\main.c', 'language': <Language.C: 'c'>}\n",
      "{'source': 'D:\\\\nu_QA_data\\\\m251bsp_partial_source\\\\UART_RS485\\\\main.c', 'language': <Language.C: 'c'>}\n",
      "{'source': 'D:\\\\nu_QA_data\\\\m251bsp_partial_source\\\\UART_SingleWire\\\\main.c', 'language': <Language.C: 'c'>}\n",
      "{'source': 'D:\\\\nu_QA_data\\\\m251bsp_partial_source\\\\UART_SingleWire\\\\my_retarget.c', 'language': <Language.C: 'c'>}\n",
      "{'source': 'D:\\\\nu_QA_data\\\\m251bsp_partial_source\\\\UART_TxRxFunction\\\\main.c', 'language': <Language.C: 'c'>}\n",
      "{'source': 'D:\\\\nu_QA_data\\\\m251bsp_partial_source\\\\UART_Wakeup\\\\main.c', 'language': <Language.C: 'c'>}\n",
      "{'source': 'D:\\\\nu_QA_data\\\\m251bsp_partial_source\\\\USCI_SPI_PDMA_LoopTest\\\\main.c', 'language': <Language.C: 'c'>}\n",
      "{'source': 'D:\\\\nu_QA_data\\\\m251bsp_partial_source\\\\USCI_UART_AutoBaudRate\\\\main.c', 'language': <Language.C: 'c'>}\n",
      "{'source': 'D:\\\\nu_QA_data\\\\m251bsp_partial_source\\\\USCI_UART_Autoflow_Master\\\\main.c', 'language': <Language.C: 'c'>}\n",
      "{'source': 'D:\\\\nu_QA_data\\\\m251bsp_partial_source\\\\USCI_UART_Autoflow_Slave\\\\main.c', 'language': <Language.C: 'c'>}\n",
      "{'source': 'D:\\\\nu_QA_data\\\\m251bsp_partial_source\\\\USCI_UART_PDMA\\\\main.c', 'language': <Language.C: 'c'>}\n",
      "{'source': 'D:\\\\nu_QA_data\\\\m251bsp_partial_source\\\\USCI_UART_RS485_Master\\\\main.c', 'language': <Language.C: 'c'>}\n",
      "{'source': 'D:\\\\nu_QA_data\\\\m251bsp_partial_source\\\\USCI_UART_RS485_Slave\\\\main.c', 'language': <Language.C: 'c'>}\n",
      "{'source': 'D:\\\\nu_QA_data\\\\m251bsp_partial_source\\\\USCI_UART_TxRxFunction\\\\main.c', 'language': <Language.C: 'c'>}\n",
      "{'source': 'D:\\\\nu_QA_data\\\\m251bsp_partial_source\\\\USCI_UART_Wakeup\\\\main.c', 'language': <Language.C: 'c'>}\n"
     ]
    }
   ],
   "source": [
    "for document in docs:\n",
    "    print(document.metadata)"
   ]
  },
  {
   "cell_type": "code",
   "execution_count": 25,
   "id": "803d9736-5436-46b5-bfab-a2181e1eac79",
   "metadata": {
    "tags": []
   },
   "outputs": [
    {
     "data": {
      "text/plain": [
       "935"
      ]
     },
     "execution_count": 25,
     "metadata": {},
     "output_type": "execute_result"
    }
   ],
   "source": [
    "from langchain.text_splitter import RecursiveCharacterTextSplitter\n",
    "C_splitter = RecursiveCharacterTextSplitter.from_language(language=Language.C, chunk_size=1000, chunk_overlap=100)\n",
    "texts = C_splitter.split_documents(docs)\n",
    "len(texts)"
   ]
  },
  {
   "cell_type": "code",
   "execution_count": 26,
   "id": "a1460b68-20f7-4659-9b94-0b44fa677445",
   "metadata": {
    "tags": []
   },
   "outputs": [
    {
     "name": "stdout",
     "output_type": "stream",
     "text": [
      "===== Load the embedding model =====\n",
      "===== Build FAISS =====\n",
      "D:\\nu_QA_data\\m251bsp_partial\n"
     ]
    }
   ],
   "source": [
    "save_path = r'D:\\nu_QA_data'\n",
    "save_name = r'm251bsp_partial'\n",
    "\n",
    "# load embedding model\n",
    "print(\"===== Load the embedding model =====\")\n",
    "embeddings = HuggingFaceEmbeddings(model_name='sentence-transformers/all-MiniLM-L6-v2',model_kwargs={'device': 'cpu'})\n",
    "\n",
    "# Create vectors store\n",
    "print(\"===== Build FAISS =====\")\n",
    "vectorstore=FAISS.from_documents(texts, embeddings)\n",
    "\n",
    "index_path = os.path.join(save_path, save_name)\n",
    "print(index_path)\n",
    "vectorstore.save_local(index_path)"
   ]
  },
  {
   "cell_type": "markdown",
   "id": "89a196be-3dbd-4e26-a63e-ee51189fa03d",
   "metadata": {},
   "source": [
    "# LanceDB"
   ]
  },
  {
   "cell_type": "code",
   "execution_count": 16,
   "id": "b91a0234-b0b0-4ddc-8159-3ecef7ec7447",
   "metadata": {},
   "outputs": [
    {
     "name": "stdout",
     "output_type": "stream",
     "text": [
      "===== Load the embedding model =====\n",
      "===== Build LanceDB =====\n"
     ]
    }
   ],
   "source": [
    "import lancedb\n",
    "from langchain.vectorstores import LanceDB\n",
    "\n",
    "save_path = r'D:\\nu_QA_data\\lanceDB'\n",
    "#save_name = r'TRM_M2354_and_StdDriver_C_Regs_bge_s'\n",
    "#save_name = r'm460_StdDriver_Regs_openai'\n",
    "save_name = r'TRM_m460_pypdf'\n",
    "\n",
    "# load embedding model\n",
    "print(\"===== Load the embedding model =====\")\n",
    "embedding=OpenAIEmbeddings()\n",
    "\n",
    "# Create vectors store\n",
    "print(\"===== Build LanceDB =====\")\n",
    "\n",
    "db = lancedb.connect(save_path)\n",
    "table = db.create_table(save_name, data=[\n",
    "    {\"vector\": embedding.embed_query(\"Hello World\"), \"text\": \"Hello World\", \"id\": \"1\"}\n",
    "], mode=\"overwrite\")\n",
    "docsearch = LanceDB.from_documents(text_doc, embedding, connection=table)\n"
   ]
  },
  {
   "cell_type": "code",
   "execution_count": null,
   "id": "c08244be-915d-49c8-b24c-ebcfc56d7e30",
   "metadata": {},
   "outputs": [],
   "source": []
  }
 ],
 "metadata": {
  "kernelspec": {
   "display_name": "Python 3 (ipykernel)",
   "language": "python",
   "name": "python3"
  },
  "language_info": {
   "codemirror_mode": {
    "name": "ipython",
    "version": 3
   },
   "file_extension": ".py",
   "mimetype": "text/x-python",
   "name": "python",
   "nbconvert_exporter": "python",
   "pygments_lexer": "ipython3",
   "version": "3.10.13"
  }
 },
 "nbformat": 4,
 "nbformat_minor": 5
}

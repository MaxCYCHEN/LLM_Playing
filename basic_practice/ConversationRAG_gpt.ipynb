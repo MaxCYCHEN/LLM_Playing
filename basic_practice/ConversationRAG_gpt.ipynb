{
 "cells": [
  {
   "cell_type": "code",
   "execution_count": 1,
   "id": "ff15b55d-9e4a-4707-a772-ddfeda129b0d",
   "metadata": {
    "tags": []
   },
   "outputs": [],
   "source": [
    "from langchain.text_splitter import Language\n",
    "from langchain.document_loaders.generic import GenericLoader\n",
    "from langchain.document_loaders.parsers import LanguageParser\n",
    "import os\n",
    "\n",
    "from langchain.vectorstores import FAISS\n",
    "from langchain.document_loaders import PyPDFLoader\n",
    "from langchain.chains.question_answering import load_qa_chain\n",
    "from langchain.prompts import PromptTemplate\n",
    "from langchain.memory import ConversationBufferMemory\n",
    "from langchain.embeddings import HuggingFaceEmbeddings\n",
    "from langchain.chains import RetrievalQA\n",
    "from langchain.document_loaders import UnstructuredFileLoader\n",
    "from langchain.text_splitter import RecursiveCharacterTextSplitter\n",
    "from langchain.chains import RetrievalQAWithSourcesChain\n",
    "from huggingface_hub import notebook_login\n",
    "from transformers import pipeline\n",
    "from transformers import AutoTokenizer, AutoModelForCausalLM\n",
    "from langchain import HuggingFacePipeline\n",
    "from langchain.text_splitter import CharacterTextSplitter\n",
    "import textwrap\n",
    "import sys\n",
    "import torch\n",
    "\n",
    "from transformers import AutoTokenizer, AutoModelForCausalLM, BitsAndBytesConfig\n",
    "from langchain.chains import LLMChain\n",
    "from langchain.llms import OpenAI\n",
    "from langchain.chat_models import ChatOpenAI\n",
    "\n",
    "from langchain.chains import ConversationalRetrievalChain\n",
    "from langchain.memory import ConversationBufferMemory, ConversationSummaryMemory\n",
    "\n",
    "from langchain.embeddings import OpenAIEmbeddings\n",
    "\n",
    "import APIKEY"
   ]
  },
  {
   "cell_type": "markdown",
   "id": "019ed17e-784a-4ad2-a661-da2f0bba7e48",
   "metadata": {},
   "source": [
    "## RetrievalQA & Chat"
   ]
  },
  {
   "cell_type": "code",
   "execution_count": 2,
   "id": "c6bfc213-8a0e-4c1f-b2d3-23eef5dd2ecb",
   "metadata": {
    "tags": []
   },
   "outputs": [],
   "source": [
    "\n",
    "os.environ[\"OPENAI_API_KEY\"] = APIKEY.API_KEY_SERVICE_OPENAI\n",
    "llm = ChatOpenAI(temperature=0, model='gpt-4-1106-preview') # model=\"gpt-3.5-turbo\"\n",
    "embeddings = OpenAIEmbeddings()"
   ]
  },
  {
   "cell_type": "markdown",
   "id": "362274d7-eb75-418a-9dc9-09b4196c4e38",
   "metadata": {},
   "source": [
    "# FAISS"
   ]
  },
  {
   "cell_type": "code",
   "execution_count": 8,
   "id": "abaf1b50-c73d-45d0-91bd-f3c69f44961a",
   "metadata": {
    "tags": []
   },
   "outputs": [
    {
     "name": "stdout",
     "output_type": "stream",
     "text": [
      "===== Load the embedding model =====\n",
      "===== Build FAISS =====\n"
     ]
    }
   ],
   "source": [
    "#input_doc_pth = r'D:\\nu_QA_data\\m460bsp_Library_StdDriver_headers_1000'\n",
    "#input_doc_pth = r'D:\\nu_QA_data\\m460bsp_StdDriver'\n",
    "#input_doc_pth = r'D:\\nu_QA_data\\m2351bsp_1000'\n",
    "#input_doc_pth = r'D:\\nu_QA_data\\m2351bsp_StdDriver_regs_1000'\n",
    "#input_doc_pth = r'D:\\nu_QA_data\\m251bsp_StdDriver_1000'\n",
    "input_doc_pth = r'D:\\nu_QA_data\\TRM_M463_M467_openai_pypdf'\n",
    "# load embedding model\n",
    "print(\"===== Load the embedding model =====\")\n",
    "#embeddings = HuggingFaceEmbeddings(model_name='sentence-transformers/all-MiniLM-L6-v2',model_kwargs={'device': 'cpu'})\n",
    "#embeddings = HuggingFaceInstructEmbeddings(model_name='BAAI/bge-small-en')\n",
    "\n",
    "# Create vectors store\n",
    "print(\"===== Build FAISS =====\")\n",
    "#vectorstore=FAISS.from_documents(texts, embeddings)\n",
    "vectorstore=FAISS.load_local(input_doc_pth, embeddings)"
   ]
  },
  {
   "cell_type": "markdown",
   "id": "a1ef605b-4290-4789-8124-3dfb68d13f09",
   "metadata": {},
   "source": [
    "# LanceDB"
   ]
  },
  {
   "cell_type": "code",
   "execution_count": 3,
   "id": "53897529-d5e6-4f7f-a45b-8079c26ea4ed",
   "metadata": {
    "tags": []
   },
   "outputs": [],
   "source": [
    "import lancedb\n",
    "from langchain.vectorstores import LanceDB\n",
    "\n",
    "save_path = r'D:\\nu_QA_data\\lanceDB'\n",
    "save_name = r'TRM_m460'\n",
    "\n",
    "db = lancedb.connect(save_path)\n",
    "table = db.open_table(save_name)\n",
    "vectorstore = LanceDB(table, embeddings)"
   ]
  },
  {
   "cell_type": "code",
   "execution_count": 4,
   "id": "ee8e65bb-aa25-4e33-92fa-e5eeabc1a530",
   "metadata": {
    "tags": []
   },
   "outputs": [
    {
     "data": {
      "text/plain": [
       "'The M460 microcontroller has a total of 6 UARTs. Each UART has slightly different features and functions. Here is a list of the differences:\\n\\nUART0/UART1:\\n- Supports 16-byte FIFOs with programmable level trigger\\n- Supports auto flow control (nCTS and nRTS)\\n- Supports IrDA (SIR) function\\n- Supports LIN function on UART0 and UART1\\n- Supports RS-485 9-bit mode and direction control\\n- Supports wake-up function\\n- Supports 8-bit receiver FIFO time-out detection function\\n- Supports break error, frame error, parity error, and receive/transmit FIFO overflow detection function\\n- Supports PDMA operation\\n\\nUART2/UART3/UART4/UART5:\\n- Supports 4-byte FIFOs with programmable level trigger\\n- Supports programmable guard time selection (11 ETU ~ 266 ETU)\\n- Supports three sets of ISO-7816-3 compliant smart card interfaces (T=0, T=1)\\n- Supports full-duplex UART function\\n- Supports auto inverse convention function\\n- Supports stop clock level and clock stop (clock keep) function\\n- Supports transmitter and receiver error retry function\\n- Supports hardware activation, deactivation, and warm reset sequence process\\n\\nSC_UART:\\n- Supports low-power UART (LPUART) with baud rate clock from LXT (32.768 kHz) in Power-down mode\\n- Supports LCD frame end interrupt\\n- Supports both type A and type B driving waveforms\\n- Supports auto-baud rate measurement and baud rate compensation function\\n- Supports low power UART (LPUART) with baud rate clock from LXT (32.768 kHz) in Power-down mode\\n- Supports low-power UART (LPUART) with baud rate clock from LXT (32.768 kHz) in Power-down mode\\n\\nUSCI-UART:\\n- Supports 6~13 bits word length\\n- Supports even/odd parity and stick bit\\n- Supports auto-baud rate measurement\\n- Supports 1 or 2 stop bit length\\n\\nPlease note that this information is based on the provided context and may not include all the details of each UART function. For a complete and accurate understanding of the UART features and functions, it is recommended to refer to the official technical reference manual or datasheet of the M460 microcontroller.'"
      ]
     },
     "execution_count": 4,
     "metadata": {},
     "output_type": "execute_result"
    }
   ],
   "source": [
    "qa = RetrievalQA.from_chain_type(llm=llm, chain_type=\"stuff\", retriever=vectorstore.as_retriever())\n",
    "query = \"M460 has how many UART? each functions have any difference? if different, list it.\"\n",
    "qa.run(query)"
   ]
  },
  {
   "cell_type": "code",
   "execution_count": null,
   "id": "5703f40e-c1be-42bc-b9d9-b35aece19dc3",
   "metadata": {},
   "outputs": [],
   "source": []
  },
  {
   "cell_type": "code",
   "execution_count": 4,
   "id": "0c752580-59d1-4400-be59-11f11093cea9",
   "metadata": {
    "tags": []
   },
   "outputs": [],
   "source": [
    "from langchain.chains.question_answering import load_qa_chain\n",
    "from langchain import PromptTemplate \n",
    "from langchain.prompts import SystemMessagePromptTemplate, HumanMessagePromptTemplate, ChatPromptTemplate\n",
    "\n",
    "# Prompt\n",
    "#template=\"\"\"Use the following pieces of context to answer the question at the end.\n",
    "#Please answer with C Code function as complete as possible.\n",
    "#If you don't know the answer or the question has nothing to do with code or programing, don't try to make up an answer.\n",
    "#{context}\n",
    "#Question: {question}\n",
    "#Answer:\"\"\"\n",
    "\n",
    "#template=\"\"\"Use the following pieces of context to answer the question at the end. The context is standard driver C header files of M251 MCU. \n",
    "#Please answer with C Code function as complete as possible.\n",
    "#If you don't know the answer or the question has nothing to do with code or programing, don't try to make up an answer.\n",
    "#{context}\n",
    "#Question: {question}\n",
    "#Answer:\"\"\"\n",
    "\n",
    "#template=\"\"\"Use the following pieces of context to answer the question at the end. The context is standard driver C header files of M251 MCU. \n",
    "#Please use context C functions as much as possible to answer with C code.\n",
    "#If you don't know the answer or the question has nothing to do with code or programing, don't try to make up an answer.\n",
    "#{context}\n",
    "#Question: {question}\n",
    "#Answer:\"\"\"\n",
    "\n",
    "\n",
    "\n",
    "#template=\"\"\"Use the following pieces of context and chat history to answer the question at the end. The context is standard driver C header files of M251 MCU. \n",
    "#Please answer with C Code function as complete as possible.\n",
    "#If you don't know the answer or the question has nothing to do with code or programing, don't try to make up an answer.\n",
    "#{context}\n",
    "#{chat_history}\n",
    "#Question: {question}\n",
    "#Answer:\"\"\"\n",
    "#\n",
    "#QA_CHAIN_PROMPT = PromptTemplate(input_variables=[\"context\", \"question\", \"chat_history\"], template=template)\n",
    "\n",
    "\n",
    "\n",
    "\n",
    "\n",
    "# Define the system message template\n",
    "#system_template = \"\"\"Use the following pieces of context and chat history to answer the question at the end. The context is standard driver C header files of M251 MCU. \n",
    "#Please answer with C Code function as complete as possible.\n",
    "#If you don't know the answer or the question has nothing to do with code or programing, don't try to make up an answer.\n",
    "#----------------\n",
    "#{context}\n",
    "#{chat_history}\"\"\"\n",
    "\n",
    "system_template = \"\"\"Use the following pieces of context and chat history to answer the question at the end. The context is Nuvoton M467 Series Technical Reference Manual.\n",
    "        If you don't know the answer or the question has nothing to do with code or programing, don't try to make up an answer.\n",
    "        ----------------\n",
    "        {context}\n",
    "        {chat_history}\"\"\"\n",
    "\n",
    "# Create the chat prompt templates\n",
    "messages = [\n",
    "SystemMessagePromptTemplate.from_template(system_template),\n",
    "HumanMessagePromptTemplate.from_template(\"{question}\")\n",
    "]\n",
    "\n",
    "qa_prompt = ChatPromptTemplate.from_messages(messages)\n"
   ]
  },
  {
   "cell_type": "markdown",
   "id": "415b4fab-83d4-4ac6-a13d-8d4ebb0f1eec",
   "metadata": {},
   "source": [
    "## RetrievalQA"
   ]
  },
  {
   "cell_type": "code",
   "execution_count": 5,
   "id": "0d5c00d0-e921-460e-af0c-8283d22b0208",
   "metadata": {
    "tags": []
   },
   "outputs": [],
   "source": [
    "retriever_vec=vectorstore.as_retriever(\n",
    "    search_type=\"similarity\", # Also test \"mmr\"\n",
    "    search_kwargs={\"k\": 8})\n",
    "\n",
    "# Normal memory\n",
    "memory = ConversationBufferMemory(memory_key=\"chat_history\", input_key='question', output_key='answer', return_messages=True)\n",
    "#memory = ConversationBufferMemory(memory_key=\"chat_history\", return_messages=True)\n",
    "# Should save the tokens\n",
    "#memory = ConversationSummaryMemory(llm=llm, memory_key=\"chat_history\", return_messages=True)\n",
    "\n",
    "chain = ConversationalRetrievalChain.from_llm(llm, retriever=retriever_vec, memory=memory,\n",
    "                                             return_source_documents=True, \n",
    "                                             combine_docs_chain_kwargs={\"prompt\": qa_prompt}\n",
    "                                             )\n",
    "\n",
    "chat_history = []"
   ]
  },
  {
   "cell_type": "code",
   "execution_count": 6,
   "id": "6b8410b6-8212-4cb1-9124-3321ed8f8861",
   "metadata": {
    "tags": []
   },
   "outputs": [],
   "source": [
    "#query = \"Generate a C source code which initializes I2C0 to access slave ROM with byte write and byte read operation, and check if the read data is equal to the write data.\"\n",
    "#query = \"Generate a C source code which TIMER0 MODE is TIMER_ONESHOT_MODE, TIMER0_FREQ is 1000000, TIMER0_PRESCALE_VALUE is 5, TIMER0_CMP_VALUE is 0x5A5A5A\"\n",
    "#query = \"Generate a C source code which open EBI with bank2, 16BIT width, and fast timing\"\n",
    "#query = \"Generate a C source code to get data from UART, PDMA to memory address 0x20000000, and do CRC32 at 0x20000000\"\n",
    "#query = \"Write a C code of ACMP comparing DAC output with ACMP1_P1\"\n",
    "#query = \"Write a C code to set the BPWM0 channel 0 for capture function\"\n",
    "#query = \"Write a C code to set the BPWM0 channel 0 to output waveform with frequency 240000Hz and duty 50%\"\n",
    "\n",
    "#query = \"Hi my name is Gary\"\n",
    "query = \"M460 has how many UART? each functions have any difference? if different, list it.\"\n",
    "#query = \"If I want to use multibytes write and multibytes read, how should I update this code?\"\n",
    "\n",
    "#result = chain({\"question\": query, \"chat_history\": chat_history})\n",
    "result = chain({\"question\": query})\n",
    "chat_history.extend([(query, result[\"answer\"])])\n",
    "#result = chain(\"Write a C code of ACMP comparing DAC output with ACMP1_P1\")\n"
   ]
  },
  {
   "cell_type": "code",
   "execution_count": 7,
   "id": "092f9ae5-cf28-4fd6-8044-3b1f4e443dd5",
   "metadata": {
    "tags": []
   },
   "outputs": [
    {
     "name": "stdout",
     "output_type": "stream",
     "text": [
      "{'question': 'M460 has how many UART? each functions have any difference? if different, list it.', 'chat_history': [HumanMessage(content='M460 has how many UART? each functions have any difference? if different, list it.'), AIMessage(content='The Nuvoton M2354 Series, as described in the provided context, has six UART interfaces: UART0, UART1, UART2, UART3, UART4, and UART5. Each UART has different functionalities and support for various features. Here is a summary of the differences:\\n\\n1. **UART0/UART1:**\\n   - FIFO: 16 Bytes\\n   - Auto Flow Control (CTS/RTS): Supported\\n   - IrDA: Supported\\n   - LIN: Supported (Only UART0/UART1 with LIN function)\\n   - RS-485 Function Mode: Supported\\n   - nCTS Wake-up: Supported\\n   - Incoming Data Wake-up: Supported\\n   - Received Data threshold Wake-up: FIFO reached\\n   - RS-485 Address Match (AAD mode) Wake-up: Supported\\n   - Auto-Baud Rate Measurement: Supported\\n   - STOP Bit Length: 1, 1.5, 2 bit\\n   - Word Length: 5, 6, 7, 8 bits\\n   - Even/Odd Parity: Supported\\n   - Stick Bit: Supported\\n\\n2. **UART2/UART3/UART4/UART5:**\\n   - FIFO: 16 Bytes\\n   - Auto Flow Control (CTS/RTS): Supported\\n   - IrDA: Supported (except UART5)\\n   - LIN: Not Supported\\n   - RS-485 Function Mode: Supported\\n   - nCTS Wake-up: Supported\\n   - Incoming Data Wake-up: Supported\\n   - Received Data threshold Wake-up: FIFO reached\\n   - RS-485 Address Match (AAD mode) Wake-up: Supported\\n   - Auto-Baud Rate Measurement: Supported\\n   - STOP Bit Length: 1, 1.5, 2 bit (except UART5 which supports 1, 2 bit)\\n   - Word Length: 5, 6, 7, 8 bits\\n   - Even/Odd Parity: Supported\\n   - Stick Bit: Supported (except UART5)\\n\\n3. **SC_UART (Smart Card UART):**\\n   - FIFO: 4 Bytes\\n   - Auto Flow Control (CTS/RTS): Supported\\n   - IrDA: Not Supported\\n   - LIN: Not Supported\\n   - RS-485 Function Mode: Supported\\n   - nCTS Wake-up: Supported\\n   - Incoming Data Wake-up: Supported\\n   - Received Data threshold Wake-up: Not specified\\n   - RS-485 Address Match (AAD mode) Wake-up: Supported\\n   - Auto-Baud Rate Measurement: Supported\\n   - STOP Bit Length: 1, 2 bit\\n   - Word Length: 5, 6, 7, 8 bits\\n   - Even/Odd Parity: Supported\\n   - Stick Bit: Not Supported\\n\\n4. **USCI-UART (Universal Serial Control Interface UART):**\\n   - FIFO: TX: 1 byte, RX: 2 bytes\\n   - Auto Flow Control (CTS/RTS): Supported\\n   - IrDA: Not Supported\\n   - LIN: Not Supported\\n   - RS-485 Function Mode: Supported\\n   - nCTS Wake-up: Supported\\n   - Incoming Data Wake-up: Supported\\n   - Received Data threshold Wake-up: Not specified\\n   - RS-485 Address Match (AAD mode) Wake-up: Supported\\n   - Auto-Baud Rate Measurement: Supported\\n   - STOP Bit Length: 1, 2 bit\\n   - Word Length: 6~13 bits\\n   - Even/Odd Parity: Supported\\n   - Stick Bit: Not Supported\\n\\nPlease note that the context provided is for the M2354 Series, and the question asked about the M460 series. However, the information provided above is based on the context given. If the M460 series has a different UART configuration, please refer to the specific technical reference manual for the M460 series for accurate information.')], 'answer': 'The Nuvoton M2354 Series, as described in the provided context, has six UART interfaces: UART0, UART1, UART2, UART3, UART4, and UART5. Each UART has different functionalities and support for various features. Here is a summary of the differences:\\n\\n1. **UART0/UART1:**\\n   - FIFO: 16 Bytes\\n   - Auto Flow Control (CTS/RTS): Supported\\n   - IrDA: Supported\\n   - LIN: Supported (Only UART0/UART1 with LIN function)\\n   - RS-485 Function Mode: Supported\\n   - nCTS Wake-up: Supported\\n   - Incoming Data Wake-up: Supported\\n   - Received Data threshold Wake-up: FIFO reached\\n   - RS-485 Address Match (AAD mode) Wake-up: Supported\\n   - Auto-Baud Rate Measurement: Supported\\n   - STOP Bit Length: 1, 1.5, 2 bit\\n   - Word Length: 5, 6, 7, 8 bits\\n   - Even/Odd Parity: Supported\\n   - Stick Bit: Supported\\n\\n2. **UART2/UART3/UART4/UART5:**\\n   - FIFO: 16 Bytes\\n   - Auto Flow Control (CTS/RTS): Supported\\n   - IrDA: Supported (except UART5)\\n   - LIN: Not Supported\\n   - RS-485 Function Mode: Supported\\n   - nCTS Wake-up: Supported\\n   - Incoming Data Wake-up: Supported\\n   - Received Data threshold Wake-up: FIFO reached\\n   - RS-485 Address Match (AAD mode) Wake-up: Supported\\n   - Auto-Baud Rate Measurement: Supported\\n   - STOP Bit Length: 1, 1.5, 2 bit (except UART5 which supports 1, 2 bit)\\n   - Word Length: 5, 6, 7, 8 bits\\n   - Even/Odd Parity: Supported\\n   - Stick Bit: Supported (except UART5)\\n\\n3. **SC_UART (Smart Card UART):**\\n   - FIFO: 4 Bytes\\n   - Auto Flow Control (CTS/RTS): Supported\\n   - IrDA: Not Supported\\n   - LIN: Not Supported\\n   - RS-485 Function Mode: Supported\\n   - nCTS Wake-up: Supported\\n   - Incoming Data Wake-up: Supported\\n   - Received Data threshold Wake-up: Not specified\\n   - RS-485 Address Match (AAD mode) Wake-up: Supported\\n   - Auto-Baud Rate Measurement: Supported\\n   - STOP Bit Length: 1, 2 bit\\n   - Word Length: 5, 6, 7, 8 bits\\n   - Even/Odd Parity: Supported\\n   - Stick Bit: Not Supported\\n\\n4. **USCI-UART (Universal Serial Control Interface UART):**\\n   - FIFO: TX: 1 byte, RX: 2 bytes\\n   - Auto Flow Control (CTS/RTS): Supported\\n   - IrDA: Not Supported\\n   - LIN: Not Supported\\n   - RS-485 Function Mode: Supported\\n   - nCTS Wake-up: Supported\\n   - Incoming Data Wake-up: Supported\\n   - Received Data threshold Wake-up: Not specified\\n   - RS-485 Address Match (AAD mode) Wake-up: Supported\\n   - Auto-Baud Rate Measurement: Supported\\n   - STOP Bit Length: 1, 2 bit\\n   - Word Length: 6~13 bits\\n   - Even/Odd Parity: Supported\\n   - Stick Bit: Not Supported\\n\\nPlease note that the context provided is for the M2354 Series, and the question asked about the M460 series. However, the information provided above is based on the context given. If the M460 series has a different UART configuration, please refer to the specific technical reference manual for the M460 series for accurate information.', 'source_documents': [Document(page_content='detection function\\n\\uf06c Fully programmable serial-interface characteristics\\n–\\nProgrammable number of data bit, 5-, 6-, 7-, 8- bit character\\n–\\nProgrammable parity bit, even, odd, no parity or stick parity bit generation and detection\\n–\\nProgrammable stop bit, 1, 1.5, or 2 stop bit generation\\n\\uf06c Supports IrDA SIR function mode\\n–\\nSupports for 3/16 bit duration for normal mode\\n\\uf06c Supports LIN function mode (Only UART0 /UART1 with LIN function)\\n–\\nSupports LIN master/slave mode\\n–\\nSupports programmable break generation function for transmitter\\n–\\nSupports break detection function for receiver\\nM 2 3 5 4 S E R E S T E C H N C A L R E F E R E N C E M A N U A L\\nI\\nI\\n\\uf06c Supports RS-485 function mode\\n–\\nSupports RS-485 9-bit mode\\n–\\nSupports hardware or software enables to program nRTS pin to control RS-485 transmission direction\\n\\uf06c Supports PDMA transfer function\\nSep. 13, 2021\\nPage 997 of 1960\\nRev. 1.01\\nM2354 Series\\n\\uf06c Support Single-wire function mode.\\nUART Feature\\nUART0/ UART1\\nUART2/UART3/ UART4/ UART5\\nSC_UART\\nUSCI-UART\\nFIFO\\n16 Bytes\\n16 Bytes\\n4 Bytes\\nTX: 1byte\\nRX: 2byte\\nAuto Flow Control (CTS/RTS)\\n√\\n√\\n√\\nIrDA\\n√\\n√\\nLIN\\n√\\nRS-485 Function Mode\\n√\\n√\\n√\\nnCTS Wake-up\\n√\\n√\\n√\\nIncoming Data Wake-up\\n√\\n√\\n√\\nReceived Data threshold Wake-up\\nFIFO\\nreached\\n√\\n√\\nRS-485 Address Match (AAD mode) Wake-up\\n√\\n√\\nAuto-Baud Rate Measurement\\n√\\n√\\n√\\nSTOP Bit Length\\n1, 1.5, 2 bit\\n1, 1.5, 2 bit\\n1, 2 bit\\n1, 2 bit\\nWord Length\\n5, 6, 7, 8 bits\\n5, 6, 7, 8 bits\\n5, 6, 7, 8 bits\\n6~13 bits\\nEven / Odd Parity\\n√\\n√\\n√\\n√\\nM 2 3 5 4 S E R E S T E C H N C A L R E F E R E N C E M A N U A L\\nI\\nI\\nStick Bit\\n√\\n√\\nNote: √= Supported\\nTable 6.19-1 NuMicro® M2354 Series UART Features\\n6.19.3 Block Diagram\\nThe UART clock control and block diagram are shown in Figure 6.19-1 and Figure 6.19-2 respectively.\\nNote: The frequency of UARTx_CLK should not be greater than 30 times HCLK.\\nSep. 13, 2021\\nPage 998 of 1960\\nRev. 1.01\\nM2354 Series\\n011010001000\\nUART0DIV (CLK_CLKDIV0[11:8])\\nUART2SEL (CLK_CLKSEL2[26:24])\\n1/(UART4DIV+1)100\\nPCLK1\\nPCLK1\\nPCLK1', metadata={'vector': array([-0.0215742 , -0.00730873, -0.01307151, ...,  0.01203628,\n",
      "       -0.00247593, -0.02222295], dtype=float32), 'id': '2f0ccf0e-2418-4723-a34f-46b9011f4735', '_distance': 0.3796325922012329}), Document(page_content='Supports LCD frame end interrupt\\nLCD keeps display or blinking even if in Power-down mode when LCD clock source is selected as LIRC or LXT\\nSupports both type A and type B driving waveforms\\nAuto-Baud Rate measurement and baud rate compensation function\\nSupports low power UART (LPUART): baud rate clock from LXT(32.768 kHz) with 9600bps in Power-down mode even system clock is stopped\\nLow-power UART\\n\\uf09f\\n16-byte FIFOs with programmable level trigger\\n\\uf09f\\nAuto flow control (nCTS and nRTS)\\n\\uf09f\\nSupports IrDA (SIR) function\\n\\uf09f\\nSupports LIN function on UART0 and UART1\\nSep. 13, 2021\\nPage 38 of 1960\\nRev. 1.01\\nM2354 Series\\n\\uf09f\\nSupports RS-485 9-bit mode and direction control\\n\\uf09f\\nSupports nCTS, incoming data, Received Data FIFO reached threshold and RS-485 Address Match (AAD mode) wake-up function in idle mode\\n\\uf09f\\nSupports hardware or software enables to program nRTS pin to control RS-485 transmission direction\\n\\uf09f\\nSupports wake-up function\\n\\uf09f\\n8-bit receiver FIFO time-out detection function\\n\\uf09f\\nSupports break error, frame error, parity error and receive/transmit FIFO overflow detection function\\n\\uf09f\\nPDMA operation\\n\\uf09f\\n\\uf09f\\nThree sets of ISO-7816-3 which are compliant with ISO- 7816-3 T=0, T=1 Supports full duplex UART function\\n\\uf09f\\n4-byte FIFOs with programmable level trigger\\n\\uf09f\\nProgrammable guard time selection (11 ETU ~ 266 ETU)\\nSmart Card Interface\\n\\uf09f\\n\\uf09f\\nOne 24-bit and two 8 bit time-out counters for Answer to Request (ATR) and waiting times processing\\nAuto inverse convention function\\n\\uf09f\\nStop clock level and clock stop (clock keep) function\\n\\uf09f\\nTransmitter and receiver error retry function\\n\\uf09f\\nSupports hardware activation, deactivation and warm reset sequence process\\nI2C\\n\\uf09f\\n\\uf09f \\uf09f\\n\\uf09f\\n\\uf09f\\n\\uf09f\\n\\uf09f\\n\\uf09f\\n\\uf09f\\n\\uf09f \\uf09f\\nSupports hardware auto deactivation sequence after card removal\\nThree sets of I2C devices with Master/Slave mode Supports Standard mode (100 kbps), Fast mode (400 kbps) and Fast mode plus (1 Mbps)\\nSupports 10 bits mode\\nProgrammable clocks allowing for versatile rate control', metadata={'vector': array([-0.01974688,  0.01680383, -0.01252489, ...,  0.00118586,\n",
      "        0.00349571, -0.02631109], dtype=float32), 'id': '69e9540b-3386-494e-a725-7fc8df235316', '_distance': 0.3937120735645294}), Document(page_content='6.19.5.8\\nUART Function Mode\\nThe UART controller provides UART function (Setting FUNCSEL (UART_FUNCSEL [2:0]) to ‘000‘ to enable UART function mode). The UART baud rate is up to 1 Mbps.\\nThe UART provides full-duplex and asynchronous communications. The transmitter and receiver contain 16 bytes FIFO for payloads. User can program receiver buffer trigger level and receiver buffer time-out detection for receiver. The transmitting data delay time between the last stop and the next start bit can be programed by setting DLY (UART_TOUT [15:8]) register. The UART supports hardware auto-flow control that provides programmable nRTS flow control trigger level. The number of data bytes in RX FIFO is equal to or greater than RTSTRGLV (UART_FIFO[19:16]), the nRTS is de- asserted.\\nUART Line Control Function The UART controller supports fully programmable serial-interface characteristics by setting the UART_LINE register. User can program UART_LINE register for the word length, stop bit and parity bit setting. Table 6.19-10 and Table 6.19-11 list the UART word, stop bit length and the parity bit settings.\\nNSB (UART_LINE[2])\\nWLS (UART_LINE[1:0])\\nWord Length (Bit)\\nStop Length (Bit)\\n0\\n00\\n5\\n1\\n0\\n01\\n6\\n1\\n0\\n10\\n7\\n1\\n0\\n11\\n8\\n1\\n1\\n00\\n5\\n1.5\\n1\\n1\\n1\\nParity Type\\nSPE (UART_LINE[ 5])\\nNo Parity\\nx\\nParity source from UART_DA T\\nx\\nOdd Parity 0\\n01\\n6\\n2\\n10\\n7\\n2\\n11\\n8\\n2\\nTable 6.19-10 UART Line Control of Word and Stop Length Setting\\nEPE (UART_LINE[ 4])\\nPSS (UART_LINE[ 7])\\nPBE (UART_LINE[ 3])\\nDescription\\nx\\nx\\n0\\nNo parity bit output.\\nx\\n1\\n1\\nParity bit is generated and checked by software.\\n0\\n0\\n1\\nOdd Parity is calculated by adding all the ―1‘s‖ in a data stream and adding a parity bit to the total bits, to make the total count an odd number.\\nM 2 3 5 4 S E R E S T E C H N C A L R E F E R E N C E M A N U A L\\nI\\nI\\nEven Parity 0\\n1\\n0\\n1\\nEven Parity is calculated by adding all the ―1‘s‖ in a data stream and adding a parity bit to the total bits, to make the count an even number.\\nForced Mask\\n1\\n0\\n0\\n1\\nParity bit always logic 1.', metadata={'vector': array([-0.01975522, -0.01128773, -0.0135046 , ...,  0.01500963,\n",
      "        0.01564689, -0.03601226], dtype=float32), 'id': 'ec985969-a961-473f-b2bc-8be32c48a207', '_distance': 0.39544567465782166}), Document(page_content='M 2 3 5 4 S E R E S T E C H N C A L R E F E R E N C E M A N U A L\\nI\\nI\\nSep. 13, 2021\\nPage 5 of 1960\\nRev. 1.01\\nM2354 Series\\n6.18.7 Register Description .................................................................................................... 986 6.19 UART Interface Controller (UART) .................................................................... 997\\n6.19.1 Overview ....................................................................................................................... 997 6.19.2 Features ........................................................................................................................ 997 6.19.3 Block Diagram .............................................................................................................. 998 6.19.4 Basic Configuration .................................................................................................... 1001 6.19.5 Functional Description ............................................................................................... 1006 6.19.6 Register Map .............................................................................................................. 1031 6.19.7 Register Description .................................................................................................. 1033 6.20 Smart Card Host Interface (SC) ....................................................................... 1069\\nM 2 3 5 4 S E R E S T E C H N C A L R E F E R E N C E M A N U A L\\nI\\nI\\n6.21', metadata={'vector': array([-0.00429536, -0.01236708,  0.00418951, ..., -0.0081127 ,\n",
      "        0.00470168, -0.03187716], dtype=float32), 'id': '8fb3dd68-6d05-49f0-b3af-29614b7f541b', '_distance': 0.3963371217250824}), Document(page_content='Supports PCM protocols: PCM standard, MSB-justified, and LSB-justified data format\\nPCM protocol supports TDM multi-channel transmission in one audio sample; the number of data channel can be set as 2, 4, 6 or 8\\nPDMA operation\\nTwo sets of USCI, configured as UART, SPI or I2C function Supports single byte TX and RX buffer mode\\nUniversal Serial Control Interface (USCI)\\nUART\\n\\uf09f\\nSupports one transmit buffer and two receive buffers for data payload\\n\\uf09f\\nSupports hardware auto flow control function and\\nSep. 13, 2021\\nPage 40 of 1960\\nRev. 1.01\\nM2354 Series\\nprogrammable flow control trigger level\\n\\uf09f\\n9-bit Data Transfer\\n\\uf09f\\nBaud rate detection by built-in capture event of baud rate generator\\n\\uf09f\\nSupports wake-up function\\n\\uf09f\\nPDMA operation\\nSPI\\n\\uf09f\\nSupports Master or Slave mode operation\\n\\uf09f\\nSupports one transmit buffer and two receive buffer for data payload\\n\\uf09f\\nConfigurable bit length of a transfer word from 4 to 16-bit\\n\\uf09f\\nSupports MSB first or LSB first transfer sequence\\n\\uf09f\\nSupports Word Suspend function\\n\\uf09f\\nSupports 3-wire, no slave select signal, bi-direction interface\\n\\uf09f\\nSupports wake-up function by slave select signal in slave mode\\n\\uf09f\\nSupports one data channel half-duplex transfer\\n\\uf09f\\nPDMA operation\\nI2C\\n\\uf09f\\nSupports master and slave device capability\\n\\uf09f\\nSupports one transmit buffer and two receive buffer for data payload\\nController Area Network (CAN)\\n\\uf09f\\n\\uf09f\\n\\uf09f\\n\\uf09f\\n\\uf09f\\n\\uf09f\\n\\uf09f\\n\\uf09f\\n\\uf09f\\n\\uf09f\\nCommunication in standard mode (100 kbps), fast mode (up to 400 kbps), and Fast mode plus (1 Mbps)\\nSupports 10-bit mode\\nSupports 10-bit bus time out capability\\nSupports bus monitor mode\\nSupports power-down wake-up by data toggle or address match\\nSupports multiple address recognition\\nSupports device address flag\\nProgrammable setup/hold time\\n\\uf09f One set of CAN 2.0B controller \\uf09f\\nEach supports 32 Message Objects; each Message Object has its own identifier mask\\nProgrammable FIFO mode (concatenation of Message Object)\\nDisabled Automatic Re-transmission mode for Time Triggered CAN applications', metadata={'vector': array([-0.01669873,  0.01196098,  0.00401809, ..., -0.00162839,\n",
      "       -0.00255545, -0.03654262], dtype=float32), 'id': 'ec154540-b9aa-42fc-a16d-4102bd2bdffc', '_distance': 0.41290518641471863}), Document(page_content='M 2 3 5 4 S E R E S T E C H N C A L R E F E R E N C E M A N U A L\\nI\\nI\\n6.26.5.4\\nOperating Mode\\nTo operate the UART protocol, the following issues have to be considered:\\nSelect UART Mode The UART protocol can be selected by setting FUNMODE (UUART_CTL[2:0]) to 0x2 and the UART protocol can be enabled by setting PROTEN (UUART_PROTCTL [31]) to 1. Note that the FUNMODE must be set 0 before protocol changing and it is recommended to configure all parameters of the UART before UART protocol is enabled.\\nPin Connections The USCIx_DAT0 pin is used for UART receive data input signal (RX) in UART protocol. The property of input data signal can be configured in UUART_DATIN0. It is suggested to set EDGEDET (UUART_DATIN0[4:3]) as 10B for start bit detection.\\nThe USCIx_DAT1 pin is used for UART transmit data output signal (TX) in UART protocol. The property of output data signal can be configured in UUART_LINECTL.\\nThe USCIx_CTL0 pin is used for UART clear to send signal (nCTS) in UART protocol. The property of input control signal can be configured in UUART_CTLIN0.\\nThe USCIx_CTL1 pin is used for UART request to send signal (nRTS) in UART protocol. The property of output control signal can be configured in UUART_LINECTL.\\nBit Timing Configuration The desired baud rate setting has to be selected, comprising the baud rate generator and the bit timing.\\nSep. 13, 2021\\nPage 1300 of 1960\\nRev. 1.01\\nM2354 Series\\nFrame Format Configuration The word length, the stop bit number, and the parity mode has to be set up according to the application requirements by programming UUART_LINECTL and the UUART_PROTCTL register. If required by the application, the data input and output signals can be inverted. The data transmission order is LSB first by setting LSB (UUART_LINECTL[0]) to 1.\\n6.26.5.5\\nBit Timing', metadata={'vector': array([-0.01519464, -0.01323426, -0.00148216, ...,  0.01554737,\n",
      "        0.01869483, -0.02409436], dtype=float32), 'id': '3204a4a8-7635-4626-9539-4949d4b1ce10', '_distance': 0.41506633162498474}), Document(page_content='I\\nI\\nUART2_TXD\\nPB.1, PC.13, PE.8\\nMFP7\\nPC.1, PC.5\\nMFP8\\nPB.5\\nMFP12\\nUART2_nCTS\\nPD.9, PF.5\\nMFP4\\nSep. 13, 2021\\nPage 1003 of 1960\\nRev. 1.01\\nM2354 Series\\nPC.2\\nMFP8\\nPD.8, PF.4\\nMFP4\\nUART2_nRTS\\nPC.3\\nMFP8\\nThe basic configurations of UART3 are as follows:\\n\\uf06c Clock Source Configuration\\n–\\nSelect the source of UART3 peripheral clock on UART3SEL (CLK_CLKSEL2[30:28]).\\n–\\nSelect the clock divider number of UART3 peripheral clock on UART3DIV (CLK_CLKDIV4[7:4]).\\n–\\nEnable UART3 peripheral clock in UART3CKEN (CLK_APBCLK0[19]).\\n\\uf06c Reset UART3 controller in UART3RST (SYS_IPRST1[19]).\\n\\uf06c Pin Configuration\\nGroup\\nPin Name\\nGPIO\\nMFP\\nPD.0\\nMFP5\\nUART3_RXD\\nPB.14, PC.9, PE.0, PE.11\\nMFP7\\nPC.2\\nMFP11\\nPD.1\\nMFP5\\nUART3_TXD\\nPB.15, PC.10, PE.1, PE.10\\nMFP7\\nUART3\\nPC.3\\nMFP11\\nM 2 3 5 4 S E R E S T E C H N C A L R E F E R E N C E M A N U A L\\nI\\nI\\nPD.2\\nMFP5\\nUART3_nCTS\\nPB.12, PH.9\\nMFP7\\nPD.3\\nMFP5\\nUART3_nRTS\\nPB.13, PH.8\\nMFP7\\nThe basic configurations of UART4 are as follows:\\n\\uf06c Clock Source Configuration\\n–\\nSelect the source of UART4 peripheral clock on UART4SEL (CLK_CLKSEL3[26:24]).\\n–\\nSelect the clock divider number of UART4 peripheral clock on UART4DIV (CLK_CLKDIV4[11:8]).\\n–\\nEnable UART4 peripheral clock in UART4CKEN (CLK_APBCLK0[20]).\\n\\uf06c Reset UART4 controller in UART4RST (SYS_IPRST1[20]).\\n\\uf06c Pin Configuration\\nGroup\\nPin Name\\nGPIO\\nMFP\\nPA.13\\nMFP3\\nUART4\\nUART4_RXD\\nPC.6\\nMFP5\\nSep. 13, 2021\\nPage 1004 of 1960\\nRev. 1.01\\nM2354 Series\\nPB.10, PF.6\\nMFP6\\nPA.2, PH.11\\nMFP7\\nPC.4\\nMFP11\\nPA.12\\nMFP3\\nPC.7\\nMFP5\\nUART4_TXD\\nPB.11, PF.7\\nMFP6\\nPA.3, PH.10\\nMFP7\\nPC.5\\nMFP11\\nPC.8\\nMFP5\\nUART4_nCTS\\nPE.1\\nMFP9\\nPE.13\\nMFP5\\nUART4_nRTS\\nPE.0\\nMFP9\\nThe basic configurations of UART5 are as follows:\\n\\uf06c Clock Source Configuration\\n–\\nSelect the source of UART5 peripheral clock on UART5SEL (CLK_CLKSEL3[30:28]).\\n–\\nSelect the clock divider number of UART5 peripheral clock on UART5DIV (CLK_CLKDIV4[15:12]).\\n–\\nEnable UART5 peripheral clock in UART5CKEN (CLK_ APBCLK0[21]).\\nGroup\\nUART5\\n\\uf06c Reset UART5 controller in UART5RST (SYS_IPRST1[21]).\\n\\uf06c Pin Configuration\\nPin Name\\nGPIO\\nPF.10', metadata={'vector': array([-0.01762164, -0.00543516, -0.02172699, ...,  0.00370982,\n",
      "        0.01661235, -0.03014228], dtype=float32), 'id': '0a0b3793-80be-4341-9711-bb5d72df8ae5', '_distance': 0.42332202196121216}), Document(page_content='MFP4\\nUSCI1_DAT1\\nPD.6, PE.11\\nMFP6\\nPB.3\\nMFP8\\n6.26.5 Functional Description\\n6.26.5.1\\nUSCI Common Functional Description\\nPlease refer to section USCI for detailed information.\\n6.26.5.2\\nSignal Description\\nAn UART connection is characterized by the use of a single connection line between a transmitter and a receiver. The receiver input signal (RXD) is handled by the input stage USCIx_DAT0 and the transmit output (TXD) signal is handled by the output stage of USCIx_DAT1.\\nM 2 3 5 4 S E R E S T E C H N C A L R E F E R E N C E M A N U A L\\nI\\nI\\nFor full-duplex communication, an independent communication line is needed for each transfer direction. Figure 6.26-2 shows an example with a point-to-point full-duplex connection between two communication partners UART module A and UART module B.\\nTransfer Control\\nTX_BUF\\nTX_BUF\\nUART Module A\\nBaud Rate Generator\\nfPCLKUSCIx_DAT0USCIx_DAT1\\nfPCLKUSCIx_DAT0USCIx_DAT1\\nUART Module B\\nRX_BUF\\nRX_BUF\\nRXDTXDTXDRXD\\nTransfer Control\\nBaud Rate Generator\\nFigure 6.26-2 UART Signal Connection for Full-Duplex Communication\\nInput Signal For UART protocol, the number of input signals is shown in Table 6.26-1. Each input signal is handled by an input processor for signal conditioning, such as signal inverse selection control, or a digital input filter. They can be classified according to their meaning for the protocols (see Table 6.26-1).\\nSep. 13, 2021\\nPage 1298 of 1960\\nRev. 1.01\\nM2354 Series\\nSelected Protocol\\nUART\\nUSCIx_CTL0\\nnCTS\\nControl Input\\nUSCIx_CTL1\\nX\\nUSCIx_DAT0\\nRX\\nData Input\\nUSCIx_DAT1\\nX\\nTable 6.26-1 Input Signals for UART Protocol\\nOutput Signals For UART protocol, up to each protocol-related output signals are available. The number of actually used outputs depends on the selected protocol. They can be classified according to their meaning for the protocols.\\nSelected Protocol\\nUART\\nUSCIx_CTL0\\nX\\nControl Output\\nUSCIx_CTL1\\nnRTS\\nUSCIx_DAT0\\nX\\nData Output\\nUSCIx_DAT1\\nTX\\nTable 6.26-2 Output Signals for UART Protocol\\n6.26.5.3\\nFrame Format', metadata={'vector': array([-0.01719281, -0.00525036,  0.01416753, ..., -0.00065039,\n",
      "        0.00821825, -0.05091666], dtype=float32), 'id': 'f708a860-d6fc-4e4b-86e0-c6e2e8352ee7', '_distance': 0.42355018854141235})]}\n"
     ]
    }
   ],
   "source": [
    "print(result)"
   ]
  },
  {
   "cell_type": "code",
   "execution_count": 11,
   "id": "710841f4-361b-42db-ad08-0e4cf71adb06",
   "metadata": {
    "tags": []
   },
   "outputs": [
    {
     "name": "stdout",
     "output_type": "stream",
     "text": [
      "{'vector': array([-0.0215742 , -0.00730873, -0.01307151, ...,  0.01203628,\n",
      "       -0.00247593, -0.02222295], dtype=float32), 'id': '2f0ccf0e-2418-4723-a34f-46b9011f4735', '_distance': 0.3796325922012329}\n"
     ]
    },
    {
     "ename": "KeyError",
     "evalue": "'page'",
     "output_type": "error",
     "traceback": [
      "\u001b[1;31m---------------------------------------------------------------------------\u001b[0m",
      "\u001b[1;31mKeyError\u001b[0m                                  Traceback (most recent call last)",
      "Cell \u001b[1;32mIn[11], line 3\u001b[0m\n\u001b[0;32m      1\u001b[0m \u001b[38;5;28;01mfor\u001b[39;00m i \u001b[38;5;129;01min\u001b[39;00m \u001b[38;5;28mrange\u001b[39m(\u001b[38;5;28mlen\u001b[39m(result[\u001b[38;5;124m'\u001b[39m\u001b[38;5;124msource_documents\u001b[39m\u001b[38;5;124m'\u001b[39m])):\n\u001b[0;32m      2\u001b[0m     \u001b[38;5;28mprint\u001b[39m(result[\u001b[38;5;124m'\u001b[39m\u001b[38;5;124msource_documents\u001b[39m\u001b[38;5;124m'\u001b[39m][i]\u001b[38;5;241m.\u001b[39mmetadata)\n\u001b[1;32m----> 3\u001b[0m     \u001b[38;5;28mprint\u001b[39m(result[\u001b[38;5;124m'\u001b[39m\u001b[38;5;124msource_documents\u001b[39m\u001b[38;5;124m'\u001b[39m][i]\u001b[38;5;241m.\u001b[39mmetadata[\u001b[38;5;124m'\u001b[39m\u001b[38;5;124mpage\u001b[39m\u001b[38;5;124m'\u001b[39m]\u001b[38;5;241m+\u001b[39m\u001b[38;5;241m1\u001b[39m)\n",
      "\u001b[1;31mKeyError\u001b[0m: 'page'"
     ]
    }
   ],
   "source": [
    "for i in range(len(result['source_documents'])):\n",
    "    print(result['source_documents'][i].metadata)\n",
    "    print(result['source_documents'][i].metadata['page']+1)"
   ]
  },
  {
   "cell_type": "code",
   "execution_count": 8,
   "id": "19c2a19a-3d63-4801-88e1-0c257f274c31",
   "metadata": {
    "tags": []
   },
   "outputs": [
    {
     "name": "stdout",
     "output_type": "stream",
     "text": [
      "The Nuvoton M2354 Series, as described in the provided context, has six UART interfaces: UART0, UART1, UART2, UART3, UART4, and UART5. Each UART has different functionalities and support for various features. Here is a summary of the differences:\n",
      "\n",
      "1. **UART0/UART1:**\n",
      "   - FIFO: 16 Bytes\n",
      "   - Auto Flow Control (CTS/RTS): Supported\n",
      "   - IrDA: Supported\n",
      "   - LIN: Supported (Only UART0/UART1 with LIN function)\n",
      "   - RS-485 Function Mode: Supported\n",
      "   - nCTS Wake-up: Supported\n",
      "   - Incoming Data Wake-up: Supported\n",
      "   - Received Data threshold Wake-up: FIFO reached\n",
      "   - RS-485 Address Match (AAD mode) Wake-up: Supported\n",
      "   - Auto-Baud Rate Measurement: Supported\n",
      "   - STOP Bit Length: 1, 1.5, 2 bit\n",
      "   - Word Length: 5, 6, 7, 8 bits\n",
      "   - Even/Odd Parity: Supported\n",
      "   - Stick Bit: Supported\n",
      "\n",
      "2. **UART2/UART3/UART4/UART5:**\n",
      "   - FIFO: 16 Bytes\n",
      "   - Auto Flow Control (CTS/RTS): Supported\n",
      "   - IrDA: Supported (except UART5)\n",
      "   - LIN: Not Supported\n",
      "   - RS-485 Function Mode: Supported\n",
      "   - nCTS Wake-up: Supported\n",
      "   - Incoming Data Wake-up: Supported\n",
      "   - Received Data threshold Wake-up: FIFO reached\n",
      "   - RS-485 Address Match (AAD mode) Wake-up: Supported\n",
      "   - Auto-Baud Rate Measurement: Supported\n",
      "   - STOP Bit Length: 1, 1.5, 2 bit (except UART5 which supports 1, 2 bit)\n",
      "   - Word Length: 5, 6, 7, 8 bits\n",
      "   - Even/Odd Parity: Supported\n",
      "   - Stick Bit: Supported (except UART5)\n",
      "\n",
      "3. **SC_UART (Smart Card UART):**\n",
      "   - FIFO: 4 Bytes\n",
      "   - Auto Flow Control (CTS/RTS): Supported\n",
      "   - IrDA: Not Supported\n",
      "   - LIN: Not Supported\n",
      "   - RS-485 Function Mode: Supported\n",
      "   - nCTS Wake-up: Supported\n",
      "   - Incoming Data Wake-up: Supported\n",
      "   - Received Data threshold Wake-up: Not specified\n",
      "   - RS-485 Address Match (AAD mode) Wake-up: Supported\n",
      "   - Auto-Baud Rate Measurement: Supported\n",
      "   - STOP Bit Length: 1, 2 bit\n",
      "   - Word Length: 5, 6, 7, 8 bits\n",
      "   - Even/Odd Parity: Supported\n",
      "   - Stick Bit: Not Supported\n",
      "\n",
      "4. **USCI-UART (Universal Serial Control Interface UART):**\n",
      "   - FIFO: TX: 1 byte, RX: 2 bytes\n",
      "   - Auto Flow Control (CTS/RTS): Supported\n",
      "   - IrDA: Not Supported\n",
      "   - LIN: Not Supported\n",
      "   - RS-485 Function Mode: Supported\n",
      "   - nCTS Wake-up: Supported\n",
      "   - Incoming Data Wake-up: Supported\n",
      "   - Received Data threshold Wake-up: Not specified\n",
      "   - RS-485 Address Match (AAD mode) Wake-up: Supported\n",
      "   - Auto-Baud Rate Measurement: Supported\n",
      "   - STOP Bit Length: 1, 2 bit\n",
      "   - Word Length: 6~13 bits\n",
      "   - Even/Odd Parity: Supported\n",
      "   - Stick Bit: Not Supported\n",
      "\n",
      "Please note that the context provided is for the M2354 Series, and the question asked about the M460 series. However, the information provided above is based on the context given. If the M460 series has a different UART configuration, please refer to the specific technical reference manual for the M460 series for accurate information.\n"
     ]
    }
   ],
   "source": [
    "print(result['answer'])"
   ]
  },
  {
   "cell_type": "code",
   "execution_count": 90,
   "id": "3bb382a1-cc1d-4cf6-ac69-0a6133c0066f",
   "metadata": {
    "tags": []
   },
   "outputs": [
    {
     "name": "stdout",
     "output_type": "stream",
     "text": [
      "To update the code to use multibyte write and multibyte read operations, you can modify the `I2C_WriteByte` and `I2C_ReadByte` functions to use the `I2C_WriteMultiBytes` and `I2C_ReadMultiBytes` functions respectively. Here's the updated code:\n",
      "\n",
      "```c\n",
      "#include \"M251.h\"\n",
      "\n",
      "#define I2C_PORT I2C0\n",
      "#define SLAVE_ROM_ADDR 0x50\n",
      "\n",
      "void I2C_Init(void)\n",
      "{\n",
      "    // Enable I2C0 clock\n",
      "    CLK_EnableModuleClock(I2C0_MODULE);\n",
      "\n",
      "    // Set I2C0 multi-function pins\n",
      "    SYS->GPA_MFPL &= ~(SYS_GPA_MFPL_PA9MFP_Msk | SYS_GPA_MFPL_PA8MFP_Msk);\n",
      "    SYS->GPA_MFPL |= (SYS_GPA_MFPL_PA9MFP_I2C0_SCL | SYS_GPA_MFPL_PA8MFP_I2C0_SDA);\n",
      "\n",
      "    // Configure I2C0 as master, 100kHz\n",
      "    I2C_Open(I2C_PORT, 100000);\n",
      "\n",
      "    // Enable I2C0 interrupt\n",
      "    I2C_EnableInt(I2C_PORT);\n",
      "    NVIC_EnableIRQ(I2C0_IRQn);\n",
      "}\n",
      "\n",
      "void I2C_WriteMultiBytes(uint8_t data[], uint32_t length)\n",
      "{\n",
      "    // Send start condition, write address, and data\n",
      "    I2C_START(I2C_PORT);\n",
      "    I2C_WAIT_READY(I2C_PORT);\n",
      "    I2C_SET_DATA(I2C_PORT, SLAVE_ROM_ADDR << 1);\n",
      "    I2C_SET_CONTROL_REG(I2C_PORT, I2C_CTL_SI);\n",
      "    I2C_WAIT_READY(I2C_PORT);\n",
      "\n",
      "    for (uint32_t i = 0; i < length; i++)\n",
      "    {\n",
      "        // Write data to I2C data register\n",
      "        I2C_SET_DATA(I2C_PORT, data[i]);\n",
      "\n",
      "        // Send data\n",
      "        I2C_SET_CONTROL_REG(I2C_PORT, I2C_CTL_SI);\n",
      "        I2C_WAIT_READY(I2C_PORT);\n",
      "    }\n",
      "\n",
      "    // Send stop condition\n",
      "    I2C_STOP(I2C_PORT);\n",
      "}\n",
      "\n",
      "void I2C_ReadMultiBytes(uint8_t data[], uint32_t length)\n",
      "{\n",
      "    // Send start condition, write address, and read request\n",
      "    I2C_START(I2C_PORT);\n",
      "    I2C_WAIT_READY(I2C_PORT);\n",
      "    I2C_SET_DATA(I2C_PORT, (SLAVE_ROM_ADDR << 1) | 0x01);\n",
      "    I2C_SET_CONTROL_REG(I2C_PORT, I2C_CTL_SI);\n",
      "    I2C_WAIT_READY(I2C_PORT);\n",
      "\n",
      "    for (uint32_t i = 0; i < length; i++)\n",
      "    {\n",
      "        // Read data from I2C data register\n",
      "        data[i] = I2C_GET_DATA(I2C_PORT);\n",
      "\n",
      "        if (i == length - 1)\n",
      "        {\n",
      "            // Send NACK and stop condition for the last byte\n",
      "            I2C_SET_CONTROL_REG(I2C_PORT, I2C_CTL_SI | I2C_CTL_AA);\n",
      "        }\n",
      "        else\n",
      "        {\n",
      "            // Send ACK for the remaining bytes\n",
      "            I2C_SET_CONTROL_REG(I2C_PORT, I2C_CTL_SI);\n",
      "        }\n",
      "\n",
      "        I2C_WAIT_READY(I2C_PORT);\n",
      "    }\n",
      "}\n",
      "\n",
      "int main(void)\n",
      "{\n",
      "    // Initialize I2C0\n",
      "    I2C_Init();\n",
      "\n",
      "    // Write data to slave ROM\n",
      "    uint8_t writeData[] = {0xAB, 0xCD, 0xEF};\n",
      "    uint32_t writeLength = sizeof(writeData) / sizeof(writeData[0]);\n",
      "    I2C_WriteMultiBytes(writeData, writeLength);\n",
      "\n",
      "    // Read data from slave ROM\n",
      "    uint8_t readData[3];\n",
      "    uint32_t readLength = sizeof(readData) / sizeof(readData[0]);\n",
      "    I2C_ReadMultiBytes(readData, readLength);\n",
      "\n",
      "    // Check if read data is equal to write data\n",
      "    bool dataMatch = true;\n",
      "    for (uint32_t i = 0; i < readLength; i++)\n",
      "    {\n",
      "        if (readData[i] != writeData[i])\n",
      "        {\n",
      "            dataMatch = false;\n",
      "            break;\n",
      "        }\n",
      "    }\n",
      "\n",
      "    if (dataMatch)\n",
      "    {\n",
      "        // Data match\n",
      "        // Add your code here\n",
      "    }\n",
      "    else\n",
      "    {\n",
      "        // Data mismatch\n",
      "        // Add your code here\n",
      "    }\n",
      "\n",
      "    while (1)\n",
      "    {\n",
      "        // Add your code here\n",
      "    }\n",
      "}\n",
      "```\n",
      "\n",
      "In this updated code, the `I2C_WriteByte` function is replaced with `I2C_WriteMultiBytes` function, which takes an array of data and the length of the data as parameters. Similarly, the `I2C_ReadByte` function is replaced with `I2C_ReadMultiBytes` function, which takes an array to store the read data and the length of the data to read as parameters.\n",
      "\n",
      "You can modify the `writeData` and `readData` arrays and their respective lengths according to your requirements.\n"
     ]
    }
   ],
   "source": [
    "print(result['answer'])"
   ]
  },
  {
   "cell_type": "code",
   "execution_count": 58,
   "id": "9c250c48-c3d3-4d90-afb7-e550ab8d52cb",
   "metadata": {},
   "outputs": [
    {
     "data": {
      "text/plain": [
       "ConversationBufferMemory(chat_memory=ChatMessageHistory(messages=[HumanMessage(content='Hi my name is Gary'), AIMessage(content=\"Sorry, but I can't provide the answer you're looking for.\")]), output_key='answer', input_key='question', return_messages=True, memory_key='chat_history')"
      ]
     },
     "execution_count": 58,
     "metadata": {},
     "output_type": "execute_result"
    }
   ],
   "source": [
    "chain.memory"
   ]
  },
  {
   "cell_type": "code",
   "execution_count": 49,
   "id": "8ad3a303-064a-426f-b898-878798886193",
   "metadata": {
    "tags": []
   },
   "outputs": [
    {
     "data": {
      "text/plain": [
       "[('Hi my name is Gary', 'Hello Gary! How can I assist you today?'),\n",
       " ('What is my name', \"I am an AI assistant and I don't have a name.\"),\n",
       " ('Whats my name',\n",
       "  \"I'm sorry, but I am an AI language model and I do not have the capability to know your name.\")]"
      ]
     },
     "execution_count": 49,
     "metadata": {},
     "output_type": "execute_result"
    }
   ],
   "source": [
    "chat_history"
   ]
  },
  {
   "cell_type": "markdown",
   "id": "311265ab-1b08-420c-a31b-78acabb59962",
   "metadata": {},
   "source": [
    "## Another choose load_qa_chain()"
   ]
  },
  {
   "cell_type": "code",
   "execution_count": 5,
   "id": "7c491388-dbee-4bc1-b976-d7ff61768595",
   "metadata": {},
   "outputs": [],
   "source": [
    "\n",
    "# Docs Retriever\n",
    "#retriever=vectorstore.as_retriever(search_type=\"mmr\", # Also test \"similarity\"\n",
    "#                                   search_kwargs={\"k\": 8})\n",
    "retriever=vectorstore.as_retriever(search_type=\"similarity\", # Also test \"similarity\"\n",
    "                                   search_kwargs={\"k\": 8})\n",
    "\n",
    "# question & vector search\n",
    "question = \"Write a C code of ACMP comparing DAC output with ACMP1_P1\"\n",
    "docs = retriever.get_relevant_documents(question)\n",
    "\n",
    "# Chain\n",
    "chain = load_qa_chain(llm, chain_type=\"stuff\", prompt=QA_CHAIN_PROMPT) "
   ]
  },
  {
   "cell_type": "code",
   "execution_count": null,
   "id": "7c722a9f-1700-49de-af4c-fff778ce44e7",
   "metadata": {},
   "outputs": [],
   "source": [
    "result = chain({\"input_documents\": docs, \"question\": question}, return_only_outputs=True)"
   ]
  },
  {
   "cell_type": "code",
   "execution_count": null,
   "id": "d137a6b2-6718-45d3-a06a-472a5f68ec4d",
   "metadata": {},
   "outputs": [],
   "source": [
    "print(len(docs))\n",
    "print(result['output_text'])"
   ]
  },
  {
   "cell_type": "markdown",
   "id": "6d23aabb-6d4a-404f-9d58-48c6898d8e91",
   "metadata": {},
   "source": [
    "## ConversationSummaryMemory"
   ]
  },
  {
   "cell_type": "code",
   "execution_count": null,
   "id": "a53abc44-56e6-4427-b83d-3dec322a5721",
   "metadata": {},
   "outputs": [],
   "source": [
    "from langchain.memory import ConversationSummaryMemory\n",
    "from langchain.chains import ConversationalRetrievalChain\n",
    "\n",
    "memory = ConversationSummaryMemory(llm=llm,memory_key=\"chat_history\",return_messages=True)\n",
    "qa = ConversationalRetrievalChain.from_llm(llm, retriever=vectorstore.as_retriever(), memory=memory)"
   ]
  },
  {
   "cell_type": "code",
   "execution_count": null,
   "id": "9e2be885-d6f7-4ebb-8c68-68a192a37c0f",
   "metadata": {},
   "outputs": [],
   "source": [
    "#query = \"Write a C code of ACMP comparing DAC output with ACMP1_P1\"\n",
    "#query = \"Write a C code of BMC data transfer with PDMA\"\n",
    "#query = \"Write a C code function that reverse a string, input a string in parameter and return the reversed string\"\n",
    "query = \"Give me a C code of configure BMC example\"\n",
    "result = qa(query)"
   ]
  },
  {
   "cell_type": "code",
   "execution_count": null,
   "id": "80ba7747-da00-4b90-922d-43ac0a90f837",
   "metadata": {},
   "outputs": [],
   "source": [
    "print(result['answer'])"
   ]
  },
  {
   "cell_type": "code",
   "execution_count": null,
   "id": "e34fecba-a742-4ace-b180-c6eded23f2fc",
   "metadata": {},
   "outputs": [],
   "source": []
  }
 ],
 "metadata": {
  "kernelspec": {
   "display_name": "Python 3 (ipykernel)",
   "language": "python",
   "name": "python3"
  },
  "language_info": {
   "codemirror_mode": {
    "name": "ipython",
    "version": 3
   },
   "file_extension": ".py",
   "mimetype": "text/x-python",
   "name": "python",
   "nbconvert_exporter": "python",
   "pygments_lexer": "ipython3",
   "version": "3.11.5"
  }
 },
 "nbformat": 4,
 "nbformat_minor": 5
}

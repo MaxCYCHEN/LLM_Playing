{
 "cells": [
  {
   "cell_type": "code",
   "execution_count": 1,
   "id": "c050bde1-4f54-4147-8579-616366ca3bd0",
   "metadata": {
    "tags": []
   },
   "outputs": [],
   "source": [
    "from langchain.text_splitter import Language\n",
    "from langchain.document_loaders.generic import GenericLoader\n",
    "from langchain.document_loaders.parsers import LanguageParser\n",
    "import os\n",
    "\n",
    "from langchain.vectorstores import FAISS\n",
    "from langchain.document_loaders import PyPDFLoader\n",
    "from langchain.chains.question_answering import load_qa_chain\n",
    "from langchain.prompts import PromptTemplate\n",
    "from langchain.memory import ConversationBufferMemory\n",
    "from langchain.embeddings import HuggingFaceEmbeddings\n",
    "from langchain.embeddings import HuggingFaceInstructEmbeddings\n",
    "from langchain.chains import RetrievalQA\n",
    "from langchain.document_loaders import UnstructuredFileLoader\n",
    "from langchain.text_splitter import RecursiveCharacterTextSplitter\n",
    "from langchain.chains import RetrievalQAWithSourcesChain\n",
    "from huggingface_hub import notebook_login\n",
    "#from transformers import pipeline\n",
    "#from transformers import AutoTokenizer, AutoModelForCausalLM\n",
    "from langchain import HuggingFacePipeline\n",
    "from langchain.text_splitter import CharacterTextSplitter\n",
    "import textwrap\n",
    "import sys\n",
    "import torch\n",
    "\n",
    "from langchain.embeddings import OpenAIEmbeddings"
   ]
  },
  {
   "cell_type": "code",
   "execution_count": 2,
   "id": "ba9c093b-237c-4ede-af67-292c5de78b4f",
   "metadata": {
    "tags": []
   },
   "outputs": [],
   "source": [
    "import APIKEY\n",
    "os.environ[\"OPENAI_API_KEY\"] = APIKEY.API_KEY_SERVICE_OPENAI"
   ]
  },
  {
   "cell_type": "markdown",
   "id": "9ba687d8-24a8-43e9-91d7-0c4c9d533a95",
   "metadata": {},
   "source": [
    "## 1. Use unstructured to load pdf table\n",
    "- We only get text here\n",
    "- Alothough this unstructured can get table, but the quilty is not good."
   ]
  },
  {
   "cell_type": "code",
   "execution_count": 3,
   "id": "734daea6-27ec-4f61-982a-37640e97b995",
   "metadata": {},
   "outputs": [],
   "source": [
    "from unstructured.partition.pdf import partition_pdf\n",
    "\n",
    "DOC_FILE_NAME = \"en-us--TRM_M463_M467_Series_EN_Rev1.01.pdf\"\n",
    "DOC_SAVE_NAME = \"TRM_M463_M467\"\n",
    "\n",
    "#partition_pdf(\"layout-parser-paper-fast.pdf\", url=None)"
   ]
  },
  {
   "cell_type": "code",
   "execution_count": 4,
   "id": "5b33cfeb-c58d-46fc-a731-e39a7ac8cb55",
   "metadata": {},
   "outputs": [
    {
     "name": "stderr",
     "output_type": "stream",
     "text": [
      "Some weights of the model checkpoint at microsoft/table-transformer-structure-recognition were not used when initializing TableTransformerForObjectDetection: ['model.backbone.conv_encoder.model.layer2.0.downsample.1.num_batches_tracked', 'model.backbone.conv_encoder.model.layer3.0.downsample.1.num_batches_tracked', 'model.backbone.conv_encoder.model.layer4.0.downsample.1.num_batches_tracked']\n",
      "- This IS expected if you are initializing TableTransformerForObjectDetection from the checkpoint of a model trained on another task or with another architecture (e.g. initializing a BertForSequenceClassification model from a BertForPreTraining model).\n",
      "- This IS NOT expected if you are initializing TableTransformerForObjectDetection from the checkpoint of a model that you expect to be exactly identical (initializing a BertForSequenceClassification model from a BertForSequenceClassification model).\n"
     ]
    }
   ],
   "source": [
    "raw_pdf_elements = partition_pdf(filename=DOC_FILE_NAME,\n",
    "                                 # Unstructured first finds embedded image blocks\n",
    "                                 extract_images_in_pdf=False,\n",
    "                                 # Use layout model (YOLOX) to get bounding boxes (for tables) and find titles\n",
    "                                 # Titles are any sub-section of the document\n",
    "                                 infer_table_structure=True,\n",
    "                                 # Post processing to aggregate text once we have the title\n",
    "                                 chunking_strategy=\"by_title\",\n",
    "                                 # Chunking params to aggregate text blocks\n",
    "                                 # Attempt to create a new chunk 3800 chars\n",
    "                                 # Attempt to keep chunks > 2000 chars\n",
    "                                 max_characters=4000,\n",
    "                                 new_after_n_chars=3800,\n",
    "                                 combine_text_under_n_chars=2000)"
   ]
  },
  {
   "cell_type": "code",
   "execution_count": 5,
   "id": "fdfb7388-8dff-480f-b380-0fd538d97ed9",
   "metadata": {},
   "outputs": [
    {
     "data": {
      "text/plain": [
       "{\"<class 'unstructured.documents.elements.CompositeElement'>\": 2779,\n",
       " \"<class 'unstructured.documents.elements.Table'>\": 3700,\n",
       " \"<class 'unstructured.documents.elements.TableChunk'>\": 98}"
      ]
     },
     "execution_count": 5,
     "metadata": {},
     "output_type": "execute_result"
    }
   ],
   "source": [
    "# Create a dictionary to store counts of each type\n",
    "category_counts = {}\n",
    "\n",
    "for element in raw_pdf_elements:\n",
    "    category = str(type(element))\n",
    "    if category in category_counts:\n",
    "        category_counts[category] += 1\n",
    "    else:\n",
    "        category_counts[category] = 1\n",
    "\n",
    "# Unique_categories will have unique elements\n",
    "unique_categories = set(category_counts.keys())\n",
    "category_counts"
   ]
  },
  {
   "cell_type": "code",
   "execution_count": 6,
   "id": "64a428fc-391f-4462-88e2-808122fb0de8",
   "metadata": {},
   "outputs": [
    {
     "name": "stdout",
     "output_type": "stream",
     "text": [
      "2779\n"
     ]
    }
   ],
   "source": [
    "from pydantic import BaseModel\n",
    "from typing import Any, Optional\n",
    "\n",
    "class Element(BaseModel):\n",
    "    type: str\n",
    "    text: Any\n",
    "\n",
    "# Categorize by type\n",
    "categorized_elements = []\n",
    "for element in raw_pdf_elements:\n",
    "    if \"unstructured.documents.elements.CompositeElement\" in str(type(element)):\n",
    "        categorized_elements.append(Element(type=\"text\", text=str(element)))\n",
    "    #elif \"unstructured.documents.elements.Table\" in str(type(element)):\n",
    "    #    categorized_elements.append(Element(type=\"text\", text=str(element)))\n",
    "\n",
    "# Tables\n",
    "#table_elements = [e for e in categorized_elements if e.type == \"table\"]\n",
    "#print(len(table_elements))\n",
    "\n",
    "# Text\n",
    "text_elements = [e for e in categorized_elements if e.type == \"text\"]\n",
    "print(len(text_elements))"
   ]
  },
  {
   "cell_type": "code",
   "execution_count": 7,
   "id": "de8c3c37-7986-4136-a048-2fe112416796",
   "metadata": {},
   "outputs": [
    {
     "name": "stdout",
     "output_type": "stream",
     "text": [
      "<class '__main__.Element'>\n",
      "type='text' text='NuMicro® Family\\n\\nArm® Cortex® -M4-based Microcontroller\\n\\nM463/M467 Series Technical Reference Manual\\n\\nThe information described in this document is the exclusive intellectual property of Nuvoton Technology Corporation and shall not be reproduced without permission from Nuvoton.\\n\\nNuvoton is providing this document only for reference purposes of NuMicro® microcontroller and microprocessor based system design. Nuvoton assumes no responsibility for errors or omissions.\\n\\nAll data and specifications are subject to change without notice.\\n\\nFor additional information or questions, please contact: Nuvoton Technology Corporation.\\n\\nwww.nuvoton.com\\n\\nAug. 24, 2023\\n\\nPage 1 of 2380\\n\\nRev 1.01\\n\\nM 4 6 3 M 4 6 7 S E R E S T E C H N C A L R E F E R E N C E M A N U A L\\n\\n/\\n\\nI\\n\\nI\\n\\nTABLE OF CONTENTS\\n\\nM 4 6 3 M 4 6 7 S E R E S T E C H N C A L R E F E R E N C E M A N U A L\\n\\n/\\n\\nI\\n\\nI'\n"
     ]
    }
   ],
   "source": [
    "print(type(text_elements[0]))\n",
    "print(text_elements[0])"
   ]
  },
  {
   "cell_type": "markdown",
   "id": "39bf83af-cfda-461d-9be9-222a662d00bc",
   "metadata": {},
   "source": [
    "## 2. Use tabula to load pdf table"
   ]
  },
  {
   "cell_type": "code",
   "execution_count": 8,
   "id": "862e3f75-2868-4426-979c-32a6e8aa4264",
   "metadata": {},
   "outputs": [
    {
     "name": "stderr",
     "output_type": "stream",
     "text": [
      "Error importing jpype dependencies. Fallback to subprocess.\n",
      "No module named 'jpype'\n",
      "Got stderr: 一月 31, 2024 2:05:29 下午 org.apache.fontbox.ttf.CmapSubtable processSubtype14\n",
      "警告: Format 14 cmap table is not supported and will be ignored\n",
      "一月 31, 2024 2:05:29 下午 org.apache.fontbox.ttf.CmapSubtable processSubtype14\n",
      "警告: Format 14 cmap table is not supported and will be ignored\n",
      "一月 31, 2024 2:05:30 下午 org.apache.fontbox.ttf.CmapSubtable processSubtype14\n",
      "警告: Format 14 cmap table is not supported and will be ignored\n",
      "一月 31, 2024 2:05:30 下午 org.apache.fontbox.ttf.CmapSubtable processSubtype14\n",
      "警告: Format 14 cmap table is not supported and will be ignored\n",
      "一月 31, 2024 2:05:34 下午 org.apache.fontbox.ttf.CmapSubtable processSubtype14\n",
      "警告: Format 14 cmap table is not supported and will be ignored\n",
      "一月 31, 2024 2:05:37 下午 org.apache.fontbox.ttf.CmapSubtable processSubtype14\n",
      "警告: Format 14 cmap table is not supported and will be ignored\n",
      "一月 31, 2024 2:05:51 下午 org.apache.fontbox.ttf.CmapSubtable processSubtype14\n",
      "警告: Format 14 cmap table is not supported and will be ignored\n",
      "一月 31, 2024 2:05:51 下午 org.apache.fontbox.ttf.CmapSubtable processSubtype14\n",
      "警告: Format 14 cmap table is not supported and will be ignored\n",
      "一月 31, 2024 2:05:51 下午 org.apache.fontbox.ttf.CmapSubtable processSubtype14\n",
      "警告: Format 14 cmap table is not supported and will be ignored\n",
      "一月 31, 2024 2:05:51 下午 org.apache.fontbox.ttf.CmapSubtable processSubtype14\n",
      "警告: Format 14 cmap table is not supported and will be ignored\n",
      "一月 31, 2024 2:05:51 下午 org.apache.fontbox.ttf.CmapSubtable processSubtype14\n",
      "警告: Format 14 cmap table is not supported and will be ignored\n",
      "一月 31, 2024 2:05:52 下午 org.apache.fontbox.ttf.CmapSubtable processSubtype14\n",
      "警告: Format 14 cmap table is not supported and will be ignored\n",
      "一月 31, 2024 2:05:52 下午 org.apache.fontbox.ttf.CmapSubtable processSubtype14\n",
      "警告: Format 14 cmap table is not supported and will be ignored\n",
      "一月 31, 2024 2:05:53 下午 org.apache.fontbox.ttf.CmapSubtable processSubtype14\n",
      "警告: Format 14 cmap table is not supported and will be ignored\n",
      "一月 31, 2024 2:05:53 下午 org.apache.fontbox.ttf.CmapSubtable processSubtype14\n",
      "警告: Format 14 cmap table is not supported and will be ignored\n",
      "一月 31, 2024 2:05:53 下午 org.apache.fontbox.ttf.CmapSubtable processSubtype14\n",
      "警告: Format 14 cmap table is not supported and will be ignored\n",
      "一月 31, 2024 2:05:53 下午 org.apache.fontbox.ttf.CmapSubtable processSubtype14\n",
      "警告: Format 14 cmap table is not supported and will be ignored\n",
      "一月 31, 2024 2:05:54 下午 org.apache.fontbox.ttf.CmapSubtable processSubtype14\n",
      "警告: Format 14 cmap table is not supported and will be ignored\n",
      "一月 31, 2024 2:05:54 下午 org.apache.fontbox.ttf.CmapSubtable processSubtype14\n",
      "警告: Format 14 cmap table is not supported and will be ignored\n",
      "一月 31, 2024 2:05:54 下午 org.apache.fontbox.ttf.CmapSubtable processSubtype14\n",
      "警告: Format 14 cmap table is not supported and will be ignored\n",
      "一月 31, 2024 2:05:55 下午 org.apache.fontbox.ttf.CmapSubtable processSubtype14\n",
      "警告: Format 14 cmap table is not supported and will be ignored\n",
      "一月 31, 2024 2:05:55 下午 org.apache.fontbox.ttf.CmapSubtable processSubtype14\n",
      "警告: Format 14 cmap table is not supported and will be ignored\n",
      "一月 31, 2024 2:05:55 下午 org.apache.fontbox.ttf.CmapSubtable processSubtype14\n",
      "警告: Format 14 cmap table is not supported and will be ignored\n",
      "一月 31, 2024 2:06:32 下午 org.apache.fontbox.ttf.CmapSubtable processSubtype14\n",
      "警告: Format 14 cmap table is not supported and will be ignored\n",
      "一月 31, 2024 2:06:32 下午 org.apache.fontbox.ttf.CmapSubtable processSubtype14\n",
      "警告: Format 14 cmap table is not supported and will be ignored\n",
      "一月 31, 2024 2:06:32 下午 org.apache.fontbox.ttf.CmapSubtable processSubtype14\n",
      "警告: Format 14 cmap table is not supported and will be ignored\n",
      "一月 31, 2024 2:06:32 下午 org.apache.fontbox.ttf.CmapSubtable processSubtype14\n",
      "警告: Format 14 cmap table is not supported and will be ignored\n",
      "一月 31, 2024 2:06:32 下午 org.apache.fontbox.ttf.CmapSubtable processSubtype14\n",
      "警告: Format 14 cmap table is not supported and will be ignored\n",
      "一月 31, 2024 2:06:32 下午 org.apache.fontbox.ttf.CmapSubtable processSubtype14\n",
      "警告: Format 14 cmap table is not supported and will be ignored\n",
      "一月 31, 2024 2:07:38 下午 org.apache.fontbox.ttf.CmapSubtable processSubtype14\n",
      "警告: Format 14 cmap table is not supported and will be ignored\n",
      "\n"
     ]
    },
    {
     "name": "stdout",
     "output_type": "stream",
     "text": [
      "4004\n"
     ]
    }
   ],
   "source": [
    "import tabula\n",
    "from tabula import read_pdf\n",
    "from tabulate import tabulate\n",
    "\n",
    "\n",
    "# convert PDF into CSV\n",
    "#tabula.convert_into(\"en-us--DS_NAU8822A_DataSheet_EN_Rev3.5.pdf\", \"NAU8822A_table.json\", output_format=\"json\", pages='3')\n",
    "dfs = read_pdf(DOC_FILE_NAME, pages='36-2376', stream=True)\n",
    "print(len(dfs))\n",
    " \n"
   ]
  },
  {
   "cell_type": "code",
   "execution_count": 9,
   "id": "d4f527cf-bcfb-440d-922e-8d78514ce16f",
   "metadata": {},
   "outputs": [],
   "source": [
    "# Transfer to str elements list\n",
    "str_list = [df.to_csv(path_or_buf=None, index=False) for df in dfs]\n",
    "#print(len(str_list))\n",
    "#print(str_list[4])\n",
    "\n",
    "table_elements = []\n",
    "for str_df in str_list:    \n",
    "    table_elements.append(Element(type=\"table\", text=str(str_df)))\n"
   ]
  },
  {
   "cell_type": "code",
   "execution_count": 10,
   "id": "663699d4-4177-44d7-bed7-1bbc82b1f145",
   "metadata": {},
   "outputs": [
    {
     "name": "stdout",
     "output_type": "stream",
     "text": [
      "type='table' text='Unnamed: 0,Unnamed: 1,Unnamed: 2,M463,Unnamed: 3\\r\\nPART NUMBER,,,,\\r\\n,KGCAE,SGCAE,,LGCAE YGCAE\\r\\nSystem Frequency (MHz),,,200,\\r\\nFlash (KB),,,256,\\r\\nSRAM (KB),,,128,\\r\\nLDROM (KB),,,8,\\r\\nXOM (regions),,,4,\\r\\nPDMA,,,16-ch,\\r\\nI/O,100,44,,33 33\\r\\nRTC (VBAT),,,√,\\r\\n32-bit Timer,,,4,\\r\\n16-bit EPWM,,,12,\\r\\n16-bit BPWM,,,12,\\r\\nUART,,,8,\\r\\nQSPI,,,2,\\r\\nSPI/I2S,,,4,\\r\\nI2C,,,5,\\r\\nCAN FD,,,2,\\r\\nPSIO,,,1,\\r\\nUSCI,,,1,\\r\\nSD Host,,,1,\\r\\nISO-7816-3,,,1,\\r\\nUSB High Speed OTG with PHY,,,√,\\r\\nLCD Parallel Data Bus,,,,\\r\\n,,,√,\\r\\n(External Bus Interface),,,,\\r\\nEQEI,,,2,\\r\\nECAP,,,2,\\r\\n,,,,M463/M467 SERIES TECHNICAL REFERENCE MANUAL\\r\\nKPI,,,6x8,\\r\\n12-bit ADC,16,16,,12 12\\r\\nAnalog Comparator,,,2,\\r\\nCrypto,,,AES-256,\\r\\nTRNG,,,√,\\r\\nOperating Temperature,,,-40°C ~ 105°C,\\r\\n,LQFP 128,LQFP 64,,LQFP 48 QFN 48\\r\\nPackage,,,,\\r\\n,(14x14mm),(7x7mm),,(7x7mm) (5x5mm)\\r\\n'\n",
      "<class '__main__.Element'>\n"
     ]
    }
   ],
   "source": [
    "print(table_elements[4])\n",
    "print(type(table_elements[0]))"
   ]
  },
  {
   "cell_type": "markdown",
   "id": "d6feb992-3218-48fa-9abc-b414490113f1",
   "metadata": {},
   "source": [
    "## 3. Check the table & text elements"
   ]
  },
  {
   "cell_type": "code",
   "execution_count": 11,
   "id": "822b39f2-0b05-4907-b4ef-091d0e5a8121",
   "metadata": {},
   "outputs": [
    {
     "name": "stdout",
     "output_type": "stream",
     "text": [
      "text element: 2779\n",
      "table elements: 4004\n"
     ]
    }
   ],
   "source": [
    "print(\"text element: {}\".format(len(text_elements)))\n",
    "print(\"table elements: {}\".format(len(table_elements)))"
   ]
  },
  {
   "cell_type": "code",
   "execution_count": 42,
   "id": "97cf53aa-1698-4c6c-9452-e9fe0879763d",
   "metadata": {},
   "outputs": [],
   "source": [
    "#text_elements_test = text_elements[0:3]\n",
    "#table_elements_test = table_elements[0:5]"
   ]
  },
  {
   "cell_type": "markdown",
   "id": "2e842740-9b25-4903-aba0-f30414cb6fd2",
   "metadata": {},
   "source": [
    "## 4. Create summaries\n",
    "- Need LLM to crete each element's summary"
   ]
  },
  {
   "cell_type": "code",
   "execution_count": 12,
   "id": "6c6c952e-3e9e-4270-86a3-d4819d38609d",
   "metadata": {},
   "outputs": [],
   "source": [
    "from langchain_core.output_parsers import StrOutputParser\n",
    "from langchain_core.prompts import ChatPromptTemplate\n",
    "from langchain_community.chat_models import ChatOpenAI"
   ]
  },
  {
   "cell_type": "code",
   "execution_count": 13,
   "id": "12c57e30-0860-4a15-b718-25293363cc51",
   "metadata": {},
   "outputs": [
    {
     "name": "stderr",
     "output_type": "stream",
     "text": [
      "C:\\ProgramData\\miniforge3\\envs\\LC_gradio\\lib\\site-packages\\langchain_core\\_api\\deprecation.py:117: LangChainDeprecationWarning: The class `langchain_community.chat_models.openai.ChatOpenAI` was deprecated in langchain-community 0.0.10 and will be removed in 0.2.0. An updated version of the class exists in the langchain-openai package and should be used instead. To use it run `pip install -U langchain-openai` and import as `from langchain_openai import ChatOpenAI`.\n",
      "  warn_deprecated(\n"
     ]
    }
   ],
   "source": [
    "# Prompt\n",
    "prompt_text = \"\"\"You are an assistant tasked with summarizing tables and text. \\ \n",
    "Give a concise summary of the table or text. Table or text chunk: {element} \"\"\"\n",
    "prompt = ChatPromptTemplate.from_template(prompt_text)\n",
    "\n",
    "# Summary chain\n",
    "model = ChatOpenAI(temperature=0, model=\"gpt-4-0125-preview\")\n",
    "summarize_chain = {\"element\": lambda x: x} | prompt | model | StrOutputParser()"
   ]
  },
  {
   "cell_type": "markdown",
   "id": "41ac6e07-5666-440e-9ce2-16c604c2ac48",
   "metadata": {},
   "source": [
    "- Create tables summaries"
   ]
  },
  {
   "cell_type": "code",
   "execution_count": 14,
   "id": "ffdc0aa9-c8f2-4ace-8669-43b195713b53",
   "metadata": {},
   "outputs": [],
   "source": [
    "from tqdm.notebook import tqdm\n",
    "# Apply to tables\n",
    "#tables = [i.text for i in table_elements]\n",
    "#table_summaries = summarize_chain.batch(tables, {\"max_concurrency\": 5})\n",
    "\n",
    "# In this way to save temp lists\n",
    "tables = [i.text for i in table_elements]\n",
    "table_summaries = []\n",
    "split = 50\n",
    "for i in tqdm(range(0, len(tables), split)):\n",
    "    if (i+split) <= len(tables):\n",
    "        buf_list = summarize_chain.batch(tables[i:i+split], {\"max_concurrency\": 5})\n",
    "    else: \n",
    "        buf_list = summarize_chain.batch(tables[i:len(texts)], {\"max_concurrency\": 5})\n",
    "    table_summaries.append(buf_list)"
   ]
  },
  {
   "cell_type": "code",
   "execution_count": 15,
   "id": "df834707-1e95-4a45-89f1-271dd0523c83",
   "metadata": {},
   "outputs": [],
   "source": [
    "import pickle\n",
    "from itertools import chain\n",
    "\n",
    "table_summaries = list(chain.from_iterable(table_summaries))\n",
    "print(len(table_summaries))\n",
    "\n",
    "with open(\"save_summary_tables_buf.pickle\", \"wb\") as f:\n",
    "    pickle.dump(table_summaries, f)"
   ]
  },
  {
   "cell_type": "markdown",
   "id": "cc8183a5-01cb-47d0-8bd8-94c2b6a26fb6",
   "metadata": {},
   "source": [
    "- Create texts summaries"
   ]
  },
  {
   "cell_type": "code",
   "execution_count": 22,
   "id": "ce9adc49-79eb-41da-9d43-aba1876f8760",
   "metadata": {},
   "outputs": [
    {
     "data": {
      "application/vnd.jupyter.widget-view+json": {
       "model_id": "5366468eea6d404ca6b0993544203169",
       "version_major": 2,
       "version_minor": 0
      },
      "text/plain": [
       "  0%|          | 0/56 [00:00<?, ?it/s]"
      ]
     },
     "metadata": {},
     "output_type": "display_data"
    }
   ],
   "source": [
    "# Apply to texts\n",
    "#texts = [i.text for i in text_elements]\n",
    "#text_summaries = summarize_chain.batch(texts, {\"max_concurrency\": 5})\n",
    "\n",
    "# In this way to save temp lists\n",
    "texts = [i.text for i in text_elements]\n",
    "text_summaries = []\n",
    "split = 50\n",
    "for i in tqdm(range(0, len(texts), split)):\n",
    "    if (i+split) <= len(texts):\n",
    "        buf_list = summarize_chain.batch(texts[i:i+split], {\"max_concurrency\": 5})\n",
    "    else: \n",
    "        buf_list = summarize_chain.batch(texts[i:len(texts)], {\"max_concurrency\": 5})\n",
    "    text_summaries.append(buf_list)"
   ]
  },
  {
   "cell_type": "code",
   "execution_count": 32,
   "id": "61c25b11-7c60-428f-a929-003227aa12ad",
   "metadata": {},
   "outputs": [
    {
     "name": "stdout",
     "output_type": "stream",
     "text": [
      "2779\n"
     ]
    }
   ],
   "source": [
    "text_summaries = list(chain.from_iterable(text_summaries))\n",
    "print(len(text_summaries))\n",
    "\n",
    "with open(\"save_summary_texts_buf.pickle\", \"wb\") as f:\n",
    "    pickle.dump(text_summaries, f)"
   ]
  },
  {
   "cell_type": "markdown",
   "id": "5c903fc1-3d82-4069-bec9-67e0bc1d137d",
   "metadata": {},
   "source": [
    "## 5. Save the text&table elements\n",
    "- Because we want to load these elements & summaries again without wasting time & money."
   ]
  },
  {
   "cell_type": "code",
   "execution_count": 33,
   "id": "fa039f5c-55c8-4aba-83b4-f018885f42e1",
   "metadata": {},
   "outputs": [],
   "source": [
    "import pickle\n",
    "import uuid\n",
    "\n",
    "PIK = DOC_SAVE_NAME + r\".pickle\"\n",
    "\n",
    "# encode the ids with text/table source. the ids[] will be used latter\n",
    "doc_ids = [str(uuid.uuid4()) for _ in texts]\n",
    "texts_list = list(zip(doc_ids, texts))\n",
    "\n",
    "table_ids = [str(uuid.uuid4()) for _ in tables]\n",
    "table_list = list(zip(table_ids, tables))\n",
    "\n",
    "SUM_list = [texts_list, table_list]\n",
    "\n",
    "# This will be used\n",
    "with open(PIK, \"wb\") as f:\n",
    "    pickle.dump(SUM_list, f)\n",
    "\n",
    "# The summaries is only for backup\n",
    "summaries_list = [text_summaries, table_summaries]\n",
    "with open(DOC_SAVE_NAME + r\"_summary.pickle\", \"wb\") as f:\n",
    "    pickle.dump(summaries_list, f)"
   ]
  },
  {
   "cell_type": "code",
   "execution_count": 34,
   "id": "bd098089-3484-4166-894c-71f372499857",
   "metadata": {},
   "outputs": [],
   "source": [
    "with open(PIK, \"rb\") as f:\n",
    "    SUM_list = pickle.load(f)"
   ]
  },
  {
   "cell_type": "code",
   "execution_count": 35,
   "id": "d3eac6f1-f02d-44f8-a2b6-57a0320e77a9",
   "metadata": {},
   "outputs": [
    {
     "name": "stdout",
     "output_type": "stream",
     "text": [
      "2\n",
      "2779\n",
      "4004\n",
      "('a13df53a-fcd1-47bd-8d3c-b620d2f2bb72', 'Unnamed: 0,Unnamed: 1,Unnamed: 2,M463,Unnamed: 3\\r\\nPART NUMBER,,,,\\r\\n,KGCAE,SGCAE,,LGCAE YGCAE\\r\\nSystem Frequency (MHz),,,200,\\r\\nFlash (KB),,,256,\\r\\nSRAM (KB),,,128,\\r\\nLDROM (KB),,,8,\\r\\nXOM (regions),,,4,\\r\\nPDMA,,,16-ch,\\r\\nI/O,100,44,,33 33\\r\\nRTC (VBAT),,,√,\\r\\n32-bit Timer,,,4,\\r\\n16-bit EPWM,,,12,\\r\\n16-bit BPWM,,,12,\\r\\nUART,,,8,\\r\\nQSPI,,,2,\\r\\nSPI/I2S,,,4,\\r\\nI2C,,,5,\\r\\nCAN FD,,,2,\\r\\nPSIO,,,1,\\r\\nUSCI,,,1,\\r\\nSD Host,,,1,\\r\\nISO-7816-3,,,1,\\r\\nUSB High Speed OTG with PHY,,,√,\\r\\nLCD Parallel Data Bus,,,,\\r\\n,,,√,\\r\\n(External Bus Interface),,,,\\r\\nEQEI,,,2,\\r\\nECAP,,,2,\\r\\n,,,,M463/M467 SERIES TECHNICAL REFERENCE MANUAL\\r\\nKPI,,,6x8,\\r\\n12-bit ADC,16,16,,12 12\\r\\nAnalog Comparator,,,2,\\r\\nCrypto,,,AES-256,\\r\\nTRNG,,,√,\\r\\nOperating Temperature,,,-40°C ~ 105°C,\\r\\n,LQFP 128,LQFP 64,,LQFP 48 QFN 48\\r\\nPackage,,,,\\r\\n,(14x14mm),(7x7mm),,(7x7mm) (5x5mm)\\r\\n')\n"
     ]
    }
   ],
   "source": [
    "print(len(SUM_list))\n",
    "print(len(SUM_list[0]))\n",
    "print(len(SUM_list[1]))\n",
    "print(SUM_list[1][4])"
   ]
  },
  {
   "cell_type": "code",
   "execution_count": 36,
   "id": "571100de-74ee-4e60-951a-a1acb6dc689c",
   "metadata": {},
   "outputs": [],
   "source": [
    "texts_list = SUM_list[0]\n",
    "table_list = SUM_list[1]"
   ]
  },
  {
   "cell_type": "markdown",
   "id": "ecbbb343-2440-4caf-806e-b5b60b146065",
   "metadata": {},
   "source": [
    "## 6. Add to vectorstore and save vectorstore\n",
    "- vectorstore: save summary_texts\n",
    "- InMemoryStore: save original texts & tables load from pickles"
   ]
  },
  {
   "cell_type": "code",
   "execution_count": 37,
   "id": "55f352d8-d81f-4af1-883b-3b9f5d403f37",
   "metadata": {},
   "outputs": [
    {
     "name": "stderr",
     "output_type": "stream",
     "text": [
      "C:\\ProgramData\\miniforge3\\envs\\LC_gradio\\lib\\site-packages\\langchain_core\\_api\\deprecation.py:117: LangChainDeprecationWarning: The class `langchain_community.embeddings.openai.OpenAIEmbeddings` was deprecated in langchain-community 0.1.0 and will be removed in 0.2.0. An updated version of the class exists in the langchain-openai package and should be used instead. To use it run `pip install -U langchain-openai` and import as `from langchain_openai import OpenAIEmbeddings`.\n",
      "  warn_deprecated(\n"
     ]
    }
   ],
   "source": [
    "from langchain.storage import InMemoryStore\n",
    "import uuid\n",
    "from langchain.retrievers.multi_vector import MultiVectorRetriever\n",
    "from langchain_core.documents import Document\n",
    "\n",
    "# The storage layer for the parent documents\n",
    "store = InMemoryStore()\n",
    "id_key = \"doc_id\"\n",
    "\n",
    "embedding=OpenAIEmbeddings()\n",
    "#vectorstore=FAISS.from_texts(Document(page_content='test', metadata={id_key: '1111-1111'}), embedding)\n",
    "vectorstore=FAISS.from_texts(' ', embedding, ids='1')"
   ]
  },
  {
   "cell_type": "code",
   "execution_count": 38,
   "id": "3fdc2953-675a-4805-8e71-dfd4b9afedfb",
   "metadata": {},
   "outputs": [],
   "source": [
    "# The vectorstore to use to index the child chunks\n",
    "#vectorstore = Chroma(collection_name=\"summaries\", embedding_function=OpenAIEmbeddings())\n",
    "\n",
    "# The retriever (empty to start)\n",
    "retriever = MultiVectorRetriever(\n",
    "    vectorstore=vectorstore,\n",
    "    docstore=store,\n",
    "    id_key=id_key,\n",
    ")\n",
    "\n",
    "# Add texts\n",
    "summary_texts = [\n",
    "    Document(page_content=s, metadata={id_key: doc_ids[i]})\n",
    "    for i, s in enumerate(text_summaries)\n",
    "]\n",
    "retriever.vectorstore.add_documents(summary_texts)\n",
    "retriever.docstore.mset(texts_list)\n",
    "\n",
    "# Add tables\n",
    "summary_tables = [\n",
    "    Document(page_content=s, metadata={id_key: table_ids[i]})\n",
    "    for i, s in enumerate(table_summaries)\n",
    "]\n",
    "retriever.vectorstore.add_documents(summary_tables)\n",
    "retriever.docstore.mset(table_list)"
   ]
  },
  {
   "cell_type": "code",
   "execution_count": null,
   "id": "c80477f4-9416-4f96-a6a4-d2247f2ab237",
   "metadata": {},
   "outputs": [],
   "source": [
    "# delete the initial vector\n",
    "vectorstore.delete('1')\n",
    "#print(vectorstore.index_to_docstore_id)"
   ]
  },
  {
   "cell_type": "code",
   "execution_count": 40,
   "id": "0b043e65-c6ae-4bcd-af38-fe1770a4038a",
   "metadata": {},
   "outputs": [],
   "source": [
    "vectorstore.save_local(DOC_SAVE_NAME)"
   ]
  },
  {
   "cell_type": "code",
   "execution_count": null,
   "id": "a1928d05-b87f-4166-8b46-63fd2c235373",
   "metadata": {},
   "outputs": [],
   "source": []
  }
 ],
 "metadata": {
  "kernelspec": {
   "display_name": "Python 3 (ipykernel)",
   "language": "python",
   "name": "python3"
  },
  "language_info": {
   "codemirror_mode": {
    "name": "ipython",
    "version": 3
   },
   "file_extension": ".py",
   "mimetype": "text/x-python",
   "name": "python",
   "nbconvert_exporter": "python",
   "pygments_lexer": "ipython3",
   "version": "3.10.13"
  }
 },
 "nbformat": 4,
 "nbformat_minor": 5
}

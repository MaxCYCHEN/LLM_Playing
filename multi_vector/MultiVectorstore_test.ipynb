{
 "cells": [
  {
   "cell_type": "code",
   "execution_count": 1,
   "id": "c288a491-4f27-4c08-8555-40adc6a9097e",
   "metadata": {},
   "outputs": [],
   "source": [
    "import os\n",
    "from langchain.storage import InMemoryStore\n",
    "import uuid\n",
    "from langchain.retrievers.multi_vector import MultiVectorRetriever\n",
    "from langchain_core.documents import Document\n",
    "from langchain_core.output_parsers import StrOutputParser\n",
    "from langchain_core.prompts import ChatPromptTemplate, MessagesPlaceholder\n",
    "from langchain_community.chat_models import ChatOpenAI\n",
    "from langchain.embeddings import OpenAIEmbeddings\n",
    "from langchain.vectorstores import FAISS\n",
    "import pickle\n",
    "import time\n",
    "from langchain_core.messages import AIMessage, HumanMessage\n",
    "\n",
    "import APIKEY\n",
    "os.environ[\"OPENAI_API_KEY\"] = APIKEY.API_KEY_SERVICE_OPENAI"
   ]
  },
  {
   "cell_type": "code",
   "execution_count": 2,
   "id": "b4c89cb4-1b4a-4346-a63d-bcd6896d67ca",
   "metadata": {},
   "outputs": [
    {
     "name": "stdout",
     "output_type": "stream",
     "text": [
      "96 75\n"
     ]
    }
   ],
   "source": [
    "DOC_SAVE_NAME = r\"doc_faiss_multi\\DS_NAU8822A_DataSheet_3.5\"\n",
    "\n",
    "# Load summaries pickle\n",
    "SUM_list = []\n",
    "with open(DOC_SAVE_NAME + r\".pickle\", \"rb\") as f:\n",
    "    SUM_list = pickle.load(f)\n",
    "texts_list = SUM_list[0]\n",
    "tables_list = SUM_list[1]\n",
    "print(len(texts_list), len(tables_list))"
   ]
  },
  {
   "cell_type": "code",
   "execution_count": 3,
   "id": "6fa6bbb6-5e80-457b-ae2d-082da86fee5a",
   "metadata": {},
   "outputs": [
    {
     "name": "stderr",
     "output_type": "stream",
     "text": [
      "C:\\ProgramData\\miniforge3\\envs\\LC_gradio\\lib\\site-packages\\langchain_core\\_api\\deprecation.py:117: LangChainDeprecationWarning: The class `langchain_community.embeddings.openai.OpenAIEmbeddings` was deprecated in langchain-community 0.1.0 and will be removed in 0.2.0. An updated version of the class exists in the langchain-openai package and should be used instead. To use it run `pip install -U langchain-openai` and import as `from langchain_openai import OpenAIEmbeddings`.\n",
      "  warn_deprecated(\n"
     ]
    }
   ],
   "source": [
    "# Load faiss vectorsore\n",
    "embedding=OpenAIEmbeddings()\n",
    "vectorstore=FAISS.load_local(DOC_SAVE_NAME, embedding)"
   ]
  },
  {
   "cell_type": "code",
   "execution_count": 4,
   "id": "566ee7ac-d02b-46c8-b231-ad3439c2db6e",
   "metadata": {},
   "outputs": [],
   "source": [
    "# The storage layer for the parent documents\n",
    "store = InMemoryStore()\n",
    "id_key = \"doc_id\"\n",
    "\n",
    "# The retriever (empty to start)\n",
    "retriever = MultiVectorRetriever(\n",
    "    vectorstore=vectorstore,\n",
    "    docstore=store,\n",
    "    id_key=id_key,\n",
    ")\n",
    "\n",
    "# Add texts\n",
    "retriever.docstore.mset(texts_list)\n",
    "\n",
    "# Add tables\n",
    "retriever.docstore.mset(tables_list)"
   ]
  },
  {
   "cell_type": "markdown",
   "id": "f5a6a9ae-1571-4304-8b79-85f69068fe0f",
   "metadata": {},
   "source": [
    "## RAG"
   ]
  },
  {
   "cell_type": "code",
   "execution_count": 13,
   "id": "aa64bafe-e40f-4715-80a9-eccbc49f4549",
   "metadata": {},
   "outputs": [
    {
     "name": "stderr",
     "output_type": "stream",
     "text": [
      "C:\\ProgramData\\miniforge3\\envs\\LC_gradio\\lib\\site-packages\\langchain_core\\_api\\deprecation.py:117: LangChainDeprecationWarning: The class `langchain_community.chat_models.openai.ChatOpenAI` was deprecated in langchain-community 0.0.10 and will be removed in 0.2.0. An updated version of the class exists in the langchain-openai package and should be used instead. To use it run `pip install -U langchain-openai` and import as `from langchain_openai import ChatOpenAI`.\n",
      "  warn_deprecated(\n"
     ]
    }
   ],
   "source": [
    "\n",
    "\n",
    "# Prompt template\n",
    "template = \"\"\"Answer the question based only on the following NAU8822A CODEC context, which can include text and tables:\n",
    "{context}\n",
    "Question: {question}\n",
    "\"\"\"\n",
    "prompt = ChatPromptTemplate.from_template(template)\n",
    "\n",
    "# LLM\n",
    "model = ChatOpenAI(temperature=0, model=\"gpt-4-1106-preview\")\n",
    "\n",
    "# RAG pipeline\n",
    "chain = (\n",
    "    {\"context\": retriever, \"question\": RunnablePassthrough()}\n",
    "    | prompt\n",
    "    | model\n",
    "    | StrOutputParser()\n",
    ")"
   ]
  },
  {
   "cell_type": "code",
   "execution_count": 49,
   "id": "60e2ed17-4ffb-435b-ad1c-9b0947abaf08",
   "metadata": {},
   "outputs": [],
   "source": [
    "from langchain_core.runnables import RunnablePassthrough\n",
    "from langchain_core.runnables import RunnableParallel\n",
    "\n",
    "# LLM\n",
    "model = ChatOpenAI(temperature=0, model=\"gpt-4-1106-preview\")\n",
    "\n",
    "# Contextualizing the question\n",
    "contextualize_q_system_prompt = \"\"\"Given a chat history and the latest user question \\\n",
    "which might reference context in the chat history, formulate a standalone question \\\n",
    "which can be understood without the chat history. Do NOT answer the question, \\\n",
    "just reformulate it if needed and otherwise return it as is.\"\"\"\n",
    "contextualize_q_prompt = ChatPromptTemplate.from_messages(\n",
    "    [\n",
    "        (\"system\", contextualize_q_system_prompt),\n",
    "        MessagesPlaceholder(variable_name=\"chat_history\"),\n",
    "        (\"human\", \"{question}\"),\n",
    "    ]\n",
    ")\n",
    "contextualize_q_chain = contextualize_q_prompt | model | StrOutputParser()\n",
    "\n",
    "# Prompt template\n",
    "qa_system_prompt = \"\"\"Answer the question based only on the following NAU8822A CODEC context, which can include text and tables:\n",
    "{context}\n",
    "\"\"\"\n",
    "prompt = ChatPromptTemplate.from_messages(\n",
    "    [\n",
    "        (\"system\", qa_system_prompt),\n",
    "        MessagesPlaceholder(variable_name=\"chat_history\"),\n",
    "        (\"human\", \"{question}\"),\n",
    "    ]\n",
    ")\n",
    "\n",
    "# RAG pipeline\n",
    "def format_docs(docs):\n",
    "    return \"\\n**\\n\".join(doc for doc in docs)\n",
    "    \n",
    "def contextualized_question(input: dict):\n",
    "    if input.get(\"chat_history\"):\n",
    "        return contextualize_q_chain\n",
    "    else:\n",
    "        return input[\"question\"]\n",
    "    \n",
    "rag_chain = (\n",
    "    #RunnablePassthrough.assign(context=(lambda x: format_docs(x[\"context\"])))\n",
    "    RunnablePassthrough.assign(\n",
    "        context=contextualized_question | retriever | format_docs\n",
    "    )\n",
    "    | prompt\n",
    "    | model\n",
    ")\n",
    "\n",
    "#rag_chain_with_source = RunnableParallel(\n",
    "#    {\"context\": retriever, \"question\": RunnablePassthrough()}\n",
    "#).assign(answer=rag_chain)\n",
    "\n",
    "#rag_chain = (\n",
    "#    {\"context\": retriever|format_docs, \"question\": contextualized_question}\n",
    "#    | prompt\n",
    "#    | model\n",
    "#)\n",
    "\n",
    "\n",
    "#rag_chain_from_docs = (\n",
    "#    RunnablePassthrough.assign(context=contextualized_question | retriever | (lambda x: format_docs(x[\"context\"]))\n",
    "#    | prompt\n",
    "#    | model\n",
    "#    | StrOutputParser()\n",
    "#)\n",
    "\n",
    "#rag_chain_from_docs = (\n",
    "#    RunnablePassthrough.assign(context=(lambda x: format_docs(x[\"context\"])))\n",
    "#    | prompt\n",
    "#    | model\n",
    "#    | StrOutputParser()\n",
    "#)\n",
    "#\n",
    "#rag_chain_with_source = RunnableParallel(\n",
    "#    {\"context\": retriever, \"question\": RunnablePassthrough()}\n",
    "#).assign(answer=rag_chain_from_docs)\n",
    "\n"
   ]
  },
  {
   "cell_type": "code",
   "execution_count": 50,
   "id": "a2c334ba-3f7f-4f90-9c29-c03734801bcd",
   "metadata": {},
   "outputs": [],
   "source": [
    "chat_history = []\n",
    "\n",
    "question = \"what is the support sample rate of NAU8822A?\"\n",
    "ai_msg = rag_chain.invoke({\"question\": question, \"chat_history\": chat_history})\n",
    "chat_history.extend([HumanMessage(content=question), ai_msg])\n",
    "\n",
    "\n",
    "\n",
    "#chat_history = []\n",
    "#question = \"What is the support sample rate?\"\n",
    "#result = rag_chain_with_source.invoke({\"question\": question, \"chat_history\": chat_history})"
   ]
  },
  {
   "cell_type": "code",
   "execution_count": 51,
   "id": "98aea024-2ddd-489e-bd0d-c980935c894f",
   "metadata": {},
   "outputs": [
    {
     "name": "stdout",
     "output_type": "stream",
     "text": [
      "[HumanMessage(content='what is the support sample rate of NAU8822A?'), AIMessage(content='The NAU8822A supports any sample rate from 8kHz to 48kHz.')]\n"
     ]
    }
   ],
   "source": [
    "print(chat_history)"
   ]
  },
  {
   "cell_type": "code",
   "execution_count": 52,
   "id": "4d74b38d-d38c-459b-97be-1fea89a902c8",
   "metadata": {},
   "outputs": [],
   "source": [
    "second_question = \"List all the sample rate and the registers?\"\n",
    "ai_msg = rag_chain.invoke({\"question\": second_question, \"chat_history\": chat_history})\n",
    "chat_history.extend([HumanMessage(content=second_question), ai_msg])"
   ]
  },
  {
   "cell_type": "code",
   "execution_count": 54,
   "id": "ddce3054-4c68-408c-bec7-1d7389480fba",
   "metadata": {},
   "outputs": [
    {
     "name": "stdout",
     "output_type": "stream",
     "text": [
      "content='The NAU8822A CODEC supports any sample rate from 8kHz to 48kHz, but the specific sample rates are not listed in the provided context. Additionally, there are no registers provided that directly correspond to setting specific sample rates. Sample rates are typically determined by the system clock and the settings of the PLL (Phase Locked Loop) and other clock-dividing registers.\\n\\nTo configure the sample rate, you would typically use the PLL N, PLL K1, PLL K2, and PLL K3 registers (registers 36 to 39) to set up the PLL to generate the required system clock that corresponds to the desired sample rate. The actual sample rate would be a function of the system clock frequency and the settings of these registers.\\n\\nHere are the relevant registers for the PLL configuration:\\n\\n- Register 36 (0x24): PLL N\\n- Register 37 (0x25): PLL K1\\n- Register 38 (0x26): PLL K2\\n- Register 39 (0x27): PLL K3\\n\\nThese registers are used to configure the PLL to generate a specific clock frequency that will be used to derive the sample rates for the ADC and DAC. The exact values to be written to these registers depend on the desired sample rate and the frequency of the external clock source.\\n\\nFor precise sample rate configuration, you would need to refer to the detailed programming guide or datasheet for the NAU8822A, which would provide the formulas and examples on how to calculate and set the PLL registers for a specific sample rate. The provided context does not include this level of detail.'\n"
     ]
    }
   ],
   "source": [
    "print(ai_msg)"
   ]
  },
  {
   "cell_type": "code",
   "execution_count": 23,
   "id": "4a781b5a-d5c0-483b-ba0e-33ca2d786ab4",
   "metadata": {},
   "outputs": [
    {
     "name": "stdout",
     "output_type": "stream",
     "text": [
      "[HumanMessage(content='Hi my name is Gary, what is the support sample rate of NAU8822A?'), AIMessage(content='Hello Gary, the NAU8822A CODEC supports any sample rate from 8kHz to 48kHz.'), HumanMessage(content='What is my name?'), AIMessage(content='Your name is Gary.')]\n"
     ]
    }
   ],
   "source": [
    "print(chat_history)"
   ]
  },
  {
   "cell_type": "code",
   "execution_count": 27,
   "id": "2d0932c2-d3b0-42b9-a14c-13219356f796",
   "metadata": {},
   "outputs": [
    {
     "data": {
      "text/plain": [
       "[ChatPromptTemplate(input_variables=['chat_history', 'context', 'question'], input_types={'chat_history': typing.List[typing.Union[langchain_core.messages.ai.AIMessage, langchain_core.messages.human.HumanMessage, langchain_core.messages.chat.ChatMessage, langchain_core.messages.system.SystemMessage, langchain_core.messages.function.FunctionMessage, langchain_core.messages.tool.ToolMessage]]}, messages=[SystemMessagePromptTemplate(prompt=PromptTemplate(input_variables=['context'], template='Answer the question based only on the following NAU8822A CODEC context, which can include text and tables:\\n{context}\\n')), MessagesPlaceholder(variable_name='chat_history'), HumanMessagePromptTemplate(prompt=PromptTemplate(input_variables=['question'], template='{question}'))])]"
      ]
     },
     "execution_count": 27,
     "metadata": {},
     "output_type": "execute_result"
    }
   ],
   "source": [
    "rag_chain.get_prompts()"
   ]
  },
  {
   "cell_type": "code",
   "execution_count": 23,
   "id": "d5251504-d489-4df9-ab5e-098daad07a12",
   "metadata": {},
   "outputs": [
    {
     "name": "stdout",
     "output_type": "stream",
     "text": [
      "The supported sample rates for the NAU8822A CODEC, as indicated in the provided context, are 8 kHz, 11.025 kHz, 12 kHz, 16 kHz, 22.05 kHz, 24 kHz, 32 kHz, 44.1 kHz, and 48 kHz. These sample rates are derived from the internal Master Clock (IMCLK) frequency, which is 128 times the base audio sample rate for the ADC. The DAC's desired sample rate in the provided PLL design example is 48.000 kHz.\n",
      "['Register,Unnamed: 0,Sample Rate in kHz (FS),Unnamed: 1\\r\\n\"14, bits 4 to\",R7(SMPLR) = 101or  100,R7(SMPLR) = 011 or 010,R7(SMPLR) = 001 or 000\\r\\n6,,,\\r\\n(HPF),8 11.025 12,16 22.05 24,32 44.1 48\\r\\n000,82 113 122,82 113 122,82 113 122\\r\\n001,102 141 153,102 141 153,102 141 153\\r\\n010,131 180 156,131 180 156,131 180 156\\r\\n011,163 225 245,163 225 245,163 225 245\\r\\n100,204 281 306,204 281 306,204 281 306\\r\\n101,261 360 392,261 360 392,261 360 392\\r\\n110,327 450 490,327 450 490,327 450 490\\r\\n111,408 563 612,408 563 612,408 563 612\\r\\n', 'The frequency of the system clock provided as the PLL reference frequency may be any stable frequency in the range between 8MHz and 33MHz. Because the fractional-N multiplication factor is a very high precision 24-bit value, any desired sample rate supported by the NAU8822A can be generated with very high accuracy, typically limited by the accuracy of the external reference frequency. Reference clocks and sample rates outside of these ranges are also possible, but may involve performance tradeoffs and increased design verification.\\n\\nOct 30, 2023\\n\\nPage 12 of 92', 'Page 39 of 92\\n\\nRev 3.5\\n\\n8.1.1 Phase Locked Loop (PLL) Design Example In an example application, a desired sample rate for the DAC is known to be 48.000kHz. Therefore, it is also known that the IMCLK rate will be 256fs, or 12.288MHz. Because there is a fixed divide-by-four scaler on the PLL output, then the desired PLL oscillator output frequency will be 49.152MHz.\\n\\nIn this example system design, there is already an available 12.000MHz clock from the USB subsystem. To reduce system cost, this clock will also be used for audio. Therefore, to use the 12MHz clock for audio, the desired fractional multiplier ratio would be R = 49.152/12.000 = 4.096. This value, however, does not meet the requirement that the “xy” whole number portion of the multiplier be in the inclusive range between 6 and 12. To meet the requirement, the Master Clock Prescaler can be set for an additional divide-by-two factor. This now makes the PLL required oscillator frequency 98.304 MHz, and the improved multiplier value is now R = 98.304/12.000 = 8.192.\\n\\nTo complete this portion of the design example, the integer portion of the multiplier is truncated to the value, 8. The fractional portion is multiplied by 224, as to create the needed 24-bit binary fractional value. The calculation for this is: (224)(0.192) = 3221225.472. It is best to round this value to the nearest whole value of 3221225, or hexadecimal 0x3126E9. Thus, the values to be programmed to set the PLL multiplier whole number integer and fraction are:\\n\\nR36 0xnm8 ; integer portion of fraction,(nm represents other settings in R36) R37 0x00C ; highest order 6-bits of 24-bit fraction R38 0x093 ; middle 9-bits of 24-bit fraction R39 0x0E9 ; lowest order 9-bits of 24-bit fraction\\n\\nBelow are additional examples of results for this calculation applied to commonly available clock frequencies and desired IMCLK 256fs sample rates.', '4.1 Sampling / Oversampling Rate, Polarity Control, Digital Passthrough\\n\\nThe audio sample rate of the ADC is determined entirely by the IMCLK internal Master Clock frequency, which is 128 times the base audio sample rate. A technique known as oversampling is used to improve noise and distortion performance of the ADC, but this does not affect the final audio sample rate. The default oversampling rate of the ADC is 64X (64 times the audio sample rate), but this can be changed to 128X for greatly improved audio performance. The higher rate increases power consumption by only approximately three milliwatts per channel, so for most applications, the improved quality is a good choice. There is almost zero increased power to also run the DACs at 128X oversampling, and the best overall quality will be achieved when both the DACs and ADCs are operated at the same oversampling rate.\\n\\nThe polarity of either ADC output signal can be changed independently on either ADC logic output as a feature sometimes useful in management of the audio phase. This feature can help minimize any audio processing that may be otherwise required as the data are passed to other stages in the system.\\n\\nDigital audio passthrough allows the output of the ADCs to be directly sent to the DACs as the input signal to the DAC for DAC output. In this mode of operation, the output data from the ADCs are still available on the ADCOUT logic pin. However, any external input signal for the DAC will be ignored. The passthrough function is useful for many test and application purposes, and the DAC output may be utilized in any way that is normally supported for the DAC analog output signals.\\n\\nOct 30, 2023\\n\\nPage 26 of 92\\n\\nRev 3.5\\n\\n4.2 ADC Digital Volume Control and Update Bit Functionality\\n\\nThe effective output audio volume of each ADC can be changed using the digital volume control feature. This processes the output of the ADC to scale the output by the amount indicated in the volume register setting. Included is a “digital mute” value which will completely mute the signal output of the ADC. The digital volume setting can range from 0dB through -127dB in 0.5dB steps.\\n\\nImportant: The R15 and R16 update bits are write-only bits. The primary intended purpose of the update bit is to enable simultaneous changes to both the left and right ADC volume values, even though these values must be written sequentially. When there is a write operation to either R15 or R16 volume settings, but the update bit is not set (value = 0), the new volume setting is stored as pending for the future, but does not go into effect. When there is a write operation to either R15 or R16 and the update bit is set (value = 1), then the new value in the register being written is immediately put into effect, and any pending value in the other ADC volume register is put into effect at the same time.']\n"
     ]
    }
   ],
   "source": [
    "print(result['answer'])\n",
    "print(result['context'])"
   ]
  },
  {
   "cell_type": "code",
   "execution_count": null,
   "id": "f6a67add-5827-4ea0-9736-15ba16885252",
   "metadata": {},
   "outputs": [],
   "source": []
  }
 ],
 "metadata": {
  "kernelspec": {
   "display_name": "Python 3 (ipykernel)",
   "language": "python",
   "name": "python3"
  },
  "language_info": {
   "codemirror_mode": {
    "name": "ipython",
    "version": 3
   },
   "file_extension": ".py",
   "mimetype": "text/x-python",
   "name": "python",
   "nbconvert_exporter": "python",
   "pygments_lexer": "ipython3",
   "version": "3.10.13"
  }
 },
 "nbformat": 4,
 "nbformat_minor": 5
}

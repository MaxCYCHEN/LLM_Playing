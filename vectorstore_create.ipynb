{
 "cells": [
  {
   "cell_type": "code",
   "execution_count": 1,
   "id": "c050bde1-4f54-4147-8579-616366ca3bd0",
   "metadata": {
    "tags": []
   },
   "outputs": [],
   "source": [
    "from langchain.text_splitter import Language\n",
    "from langchain.document_loaders.generic import GenericLoader\n",
    "from langchain.document_loaders.parsers import LanguageParser\n",
    "import os\n",
    "\n",
    "from langchain.vectorstores import FAISS\n",
    "from langchain.document_loaders import PyPDFLoader\n",
    "from langchain.chains.question_answering import load_qa_chain\n",
    "from langchain.prompts import PromptTemplate\n",
    "from langchain.memory import ConversationBufferMemory\n",
    "from langchain.embeddings import HuggingFaceEmbeddings\n",
    "from langchain.chains import RetrievalQA\n",
    "from langchain.document_loaders import UnstructuredFileLoader\n",
    "from langchain.text_splitter import RecursiveCharacterTextSplitter\n",
    "from langchain.chains import RetrievalQAWithSourcesChain\n",
    "from huggingface_hub import notebook_login\n",
    "from transformers import pipeline\n",
    "from transformers import AutoTokenizer, AutoModelForCausalLM\n",
    "from langchain import HuggingFacePipeline\n",
    "from langchain.text_splitter import CharacterTextSplitter\n",
    "import textwrap\n",
    "import sys\n",
    "import torch"
   ]
  },
  {
   "cell_type": "code",
   "execution_count": 4,
   "id": "88c01dd7-d94b-4ef4-bbc0-b2cbd392c934",
   "metadata": {},
   "outputs": [
    {
     "data": {
      "application/vnd.jupyter.widget-view+json": {
       "model_id": "6637d1f1dff3425ca4e97160d938053a",
       "version_major": 2,
       "version_minor": 0
      },
      "text/plain": [
       "  0%|          | 0/93 [00:00<?, ?it/s]"
      ]
     },
     "metadata": {},
     "output_type": "display_data"
    },
    {
     "data": {
      "text/plain": [
       "93"
      ]
     },
     "execution_count": 4,
     "metadata": {},
     "output_type": "execute_result"
    }
   ],
   "source": [
    "\n",
    "loader = GenericLoader.from_filesystem(\n",
    "        \"./m460bsp_Library_StdDriver_registers\",\n",
    "        glob=\"**/*\",\n",
    "        suffixes=[\".h\", \".c\"],\n",
    "        parser=LanguageParser(language=Language.C, parser_threshold=10000),\n",
    "        #parser=LanguageParser(),\n",
    "        show_progress=True,\n",
    "    )\n",
    "docs = loader.load()\n",
    "len(docs)"
   ]
  },
  {
   "cell_type": "code",
   "execution_count": 5,
   "id": "ae0fa507-46d9-4dec-b30c-030d284f21bf",
   "metadata": {
    "tags": []
   },
   "outputs": [
    {
     "name": "stdout",
     "output_type": "stream",
     "text": [
      "{'source': 'm460bsp_Library_StdDriver_registers\\\\Nuvoton\\\\m460\\\\Include\\\\acmp_reg.h', 'language': <Language.C: 'c'>}\n",
      "{'source': 'm460bsp_Library_StdDriver_registers\\\\Nuvoton\\\\m460\\\\Include\\\\bmc_reg.h', 'language': <Language.C: 'c'>}\n",
      "{'source': 'm460bsp_Library_StdDriver_registers\\\\Nuvoton\\\\m460\\\\Include\\\\bpwm_reg.h', 'language': <Language.C: 'c'>}\n",
      "{'source': 'm460bsp_Library_StdDriver_registers\\\\Nuvoton\\\\m460\\\\Include\\\\canfd_reg.h', 'language': <Language.C: 'c'>}\n",
      "{'source': 'm460bsp_Library_StdDriver_registers\\\\Nuvoton\\\\m460\\\\Include\\\\ccap_reg.h', 'language': <Language.C: 'c'>}\n",
      "{'source': 'm460bsp_Library_StdDriver_registers\\\\Nuvoton\\\\m460\\\\Include\\\\clk_reg.h', 'language': <Language.C: 'c'>}\n",
      "{'source': 'm460bsp_Library_StdDriver_registers\\\\Nuvoton\\\\m460\\\\Include\\\\crc_reg.h', 'language': <Language.C: 'c'>}\n",
      "{'source': 'm460bsp_Library_StdDriver_registers\\\\Nuvoton\\\\m460\\\\Include\\\\crypto_reg.h', 'language': <Language.C: 'c'>}\n",
      "{'source': 'm460bsp_Library_StdDriver_registers\\\\Nuvoton\\\\m460\\\\Include\\\\dac_reg.h', 'language': <Language.C: 'c'>}\n",
      "{'source': 'm460bsp_Library_StdDriver_registers\\\\Nuvoton\\\\m460\\\\Include\\\\eadc_reg.h', 'language': <Language.C: 'c'>}\n",
      "{'source': 'm460bsp_Library_StdDriver_registers\\\\Nuvoton\\\\m460\\\\Include\\\\ebi_reg.h', 'language': <Language.C: 'c'>}\n",
      "{'source': 'm460bsp_Library_StdDriver_registers\\\\Nuvoton\\\\m460\\\\Include\\\\ecap_reg.h', 'language': <Language.C: 'c'>}\n",
      "{'source': 'm460bsp_Library_StdDriver_registers\\\\Nuvoton\\\\m460\\\\Include\\\\emac_reg.h', 'language': <Language.C: 'c'>}\n",
      "{'source': 'm460bsp_Library_StdDriver_registers\\\\Nuvoton\\\\m460\\\\Include\\\\epwm_reg.h', 'language': <Language.C: 'c'>}\n",
      "{'source': 'm460bsp_Library_StdDriver_registers\\\\Nuvoton\\\\m460\\\\Include\\\\eqei_reg.h', 'language': <Language.C: 'c'>}\n",
      "{'source': 'm460bsp_Library_StdDriver_registers\\\\Nuvoton\\\\m460\\\\Include\\\\fmc_reg.h', 'language': <Language.C: 'c'>}\n",
      "{'source': 'm460bsp_Library_StdDriver_registers\\\\Nuvoton\\\\m460\\\\Include\\\\gpio_reg.h', 'language': <Language.C: 'c'>}\n",
      "{'source': 'm460bsp_Library_StdDriver_registers\\\\Nuvoton\\\\m460\\\\Include\\\\hbi_reg.h', 'language': <Language.C: 'c'>}\n",
      "{'source': 'm460bsp_Library_StdDriver_registers\\\\Nuvoton\\\\m460\\\\Include\\\\hsotg_reg.h', 'language': <Language.C: 'c'>}\n",
      "{'source': 'm460bsp_Library_StdDriver_registers\\\\Nuvoton\\\\m460\\\\Include\\\\hsusbd_reg.h', 'language': <Language.C: 'c'>}\n",
      "{'source': 'm460bsp_Library_StdDriver_registers\\\\Nuvoton\\\\m460\\\\Include\\\\hsusbh_reg.h', 'language': <Language.C: 'c'>}\n",
      "{'source': 'm460bsp_Library_StdDriver_registers\\\\Nuvoton\\\\m460\\\\Include\\\\i2c_reg.h', 'language': <Language.C: 'c'>}\n",
      "{'source': 'm460bsp_Library_StdDriver_registers\\\\Nuvoton\\\\m460\\\\Include\\\\i2s_reg.h', 'language': <Language.C: 'c'>}\n",
      "{'source': 'm460bsp_Library_StdDriver_registers\\\\Nuvoton\\\\m460\\\\Include\\\\keystore_reg.h', 'language': <Language.C: 'c'>}\n",
      "{'source': 'm460bsp_Library_StdDriver_registers\\\\Nuvoton\\\\m460\\\\Include\\\\kpi_reg.h', 'language': <Language.C: 'c'>}\n",
      "{'source': 'm460bsp_Library_StdDriver_registers\\\\Nuvoton\\\\m460\\\\Include\\\\m460.h', 'language': <Language.C: 'c'>}\n",
      "{'source': 'm460bsp_Library_StdDriver_registers\\\\Nuvoton\\\\m460\\\\Include\\\\NuMicro.h', 'language': <Language.C: 'c'>}\n",
      "{'source': 'm460bsp_Library_StdDriver_registers\\\\Nuvoton\\\\m460\\\\Include\\\\otg_reg.h', 'language': <Language.C: 'c'>}\n",
      "{'source': 'm460bsp_Library_StdDriver_registers\\\\Nuvoton\\\\m460\\\\Include\\\\pdma_reg.h', 'language': <Language.C: 'c'>}\n",
      "{'source': 'm460bsp_Library_StdDriver_registers\\\\Nuvoton\\\\m460\\\\Include\\\\psio_reg.h', 'language': <Language.C: 'c'>}\n",
      "{'source': 'm460bsp_Library_StdDriver_registers\\\\Nuvoton\\\\m460\\\\Include\\\\qspi_reg.h', 'language': <Language.C: 'c'>}\n",
      "{'source': 'm460bsp_Library_StdDriver_registers\\\\Nuvoton\\\\m460\\\\Include\\\\rtc_reg.h', 'language': <Language.C: 'c'>}\n",
      "{'source': 'm460bsp_Library_StdDriver_registers\\\\Nuvoton\\\\m460\\\\Include\\\\sc_reg.h', 'language': <Language.C: 'c'>}\n",
      "{'source': 'm460bsp_Library_StdDriver_registers\\\\Nuvoton\\\\m460\\\\Include\\\\sdh_reg.h', 'language': <Language.C: 'c'>}\n",
      "{'source': 'm460bsp_Library_StdDriver_registers\\\\Nuvoton\\\\m460\\\\Include\\\\spim_reg.h', 'language': <Language.C: 'c'>}\n",
      "{'source': 'm460bsp_Library_StdDriver_registers\\\\Nuvoton\\\\m460\\\\Include\\\\spi_reg.h', 'language': <Language.C: 'c'>}\n",
      "{'source': 'm460bsp_Library_StdDriver_registers\\\\Nuvoton\\\\m460\\\\Include\\\\system_m460.h', 'language': <Language.C: 'c'>}\n",
      "{'source': 'm460bsp_Library_StdDriver_registers\\\\Nuvoton\\\\m460\\\\Include\\\\sys_reg.h', 'language': <Language.C: 'c'>}\n",
      "{'source': 'm460bsp_Library_StdDriver_registers\\\\Nuvoton\\\\m460\\\\Include\\\\timer_reg.h', 'language': <Language.C: 'c'>}\n",
      "{'source': 'm460bsp_Library_StdDriver_registers\\\\Nuvoton\\\\m460\\\\Include\\\\trng_reg.h', 'language': <Language.C: 'c'>}\n",
      "{'source': 'm460bsp_Library_StdDriver_registers\\\\Nuvoton\\\\m460\\\\Include\\\\uart_reg.h', 'language': <Language.C: 'c'>}\n",
      "{'source': 'm460bsp_Library_StdDriver_registers\\\\Nuvoton\\\\m460\\\\Include\\\\ui2c_reg.h', 'language': <Language.C: 'c'>}\n",
      "{'source': 'm460bsp_Library_StdDriver_registers\\\\Nuvoton\\\\m460\\\\Include\\\\usbd_reg.h', 'language': <Language.C: 'c'>}\n",
      "{'source': 'm460bsp_Library_StdDriver_registers\\\\Nuvoton\\\\m460\\\\Include\\\\usbh_reg.h', 'language': <Language.C: 'c'>}\n",
      "{'source': 'm460bsp_Library_StdDriver_registers\\\\Nuvoton\\\\m460\\\\Include\\\\uspi_reg.h', 'language': <Language.C: 'c'>}\n",
      "{'source': 'm460bsp_Library_StdDriver_registers\\\\Nuvoton\\\\m460\\\\Include\\\\uuart_reg.h', 'language': <Language.C: 'c'>}\n",
      "{'source': 'm460bsp_Library_StdDriver_registers\\\\Nuvoton\\\\m460\\\\Include\\\\wdt_reg.h', 'language': <Language.C: 'c'>}\n",
      "{'source': 'm460bsp_Library_StdDriver_registers\\\\Nuvoton\\\\m460\\\\Include\\\\wwdt_reg.h', 'language': <Language.C: 'c'>}\n",
      "{'source': 'm460bsp_Library_StdDriver_registers\\\\StdDriver\\\\inc\\\\acmp.h', 'language': <Language.C: 'c'>}\n",
      "{'source': 'm460bsp_Library_StdDriver_registers\\\\StdDriver\\\\inc\\\\bmc.h', 'language': <Language.C: 'c'>}\n",
      "{'source': 'm460bsp_Library_StdDriver_registers\\\\StdDriver\\\\inc\\\\bpwm.h', 'language': <Language.C: 'c'>}\n",
      "{'source': 'm460bsp_Library_StdDriver_registers\\\\StdDriver\\\\inc\\\\canfd.h', 'language': <Language.C: 'c'>}\n",
      "{'source': 'm460bsp_Library_StdDriver_registers\\\\StdDriver\\\\inc\\\\ccap.h', 'language': <Language.C: 'c'>}\n",
      "{'source': 'm460bsp_Library_StdDriver_registers\\\\StdDriver\\\\inc\\\\clk.h', 'language': <Language.C: 'c'>}\n",
      "{'source': 'm460bsp_Library_StdDriver_registers\\\\StdDriver\\\\inc\\\\crc.h', 'language': <Language.C: 'c'>}\n",
      "{'source': 'm460bsp_Library_StdDriver_registers\\\\StdDriver\\\\inc\\\\crypto.h', 'language': <Language.C: 'c'>}\n",
      "{'source': 'm460bsp_Library_StdDriver_registers\\\\StdDriver\\\\inc\\\\dac.h', 'language': <Language.C: 'c'>}\n",
      "{'source': 'm460bsp_Library_StdDriver_registers\\\\StdDriver\\\\inc\\\\eadc.h', 'language': <Language.C: 'c'>}\n",
      "{'source': 'm460bsp_Library_StdDriver_registers\\\\StdDriver\\\\inc\\\\ebi.h', 'language': <Language.C: 'c'>}\n",
      "{'source': 'm460bsp_Library_StdDriver_registers\\\\StdDriver\\\\inc\\\\ecap.h', 'language': <Language.C: 'c'>}\n",
      "{'source': 'm460bsp_Library_StdDriver_registers\\\\StdDriver\\\\inc\\\\epwm.h', 'language': <Language.C: 'c'>}\n",
      "{'source': 'm460bsp_Library_StdDriver_registers\\\\StdDriver\\\\inc\\\\eqei.h', 'language': <Language.C: 'c'>}\n",
      "{'source': 'm460bsp_Library_StdDriver_registers\\\\StdDriver\\\\inc\\\\fmc.h', 'language': <Language.C: 'c'>}\n",
      "{'source': 'm460bsp_Library_StdDriver_registers\\\\StdDriver\\\\inc\\\\gpio.h', 'language': <Language.C: 'c'>}\n",
      "{'source': 'm460bsp_Library_StdDriver_registers\\\\StdDriver\\\\inc\\\\hbi.h', 'language': <Language.C: 'c'>}\n",
      "{'source': 'm460bsp_Library_StdDriver_registers\\\\StdDriver\\\\inc\\\\hsotg.h', 'language': <Language.C: 'c'>}\n",
      "{'source': 'm460bsp_Library_StdDriver_registers\\\\StdDriver\\\\inc\\\\hsusbd.h', 'language': <Language.C: 'c'>}\n",
      "{'source': 'm460bsp_Library_StdDriver_registers\\\\StdDriver\\\\inc\\\\i2c.h', 'language': <Language.C: 'c'>}\n",
      "{'source': 'm460bsp_Library_StdDriver_registers\\\\StdDriver\\\\inc\\\\i2s.h', 'language': <Language.C: 'c'>}\n",
      "{'source': 'm460bsp_Library_StdDriver_registers\\\\StdDriver\\\\inc\\\\keystore.h', 'language': <Language.C: 'c'>}\n",
      "{'source': 'm460bsp_Library_StdDriver_registers\\\\StdDriver\\\\inc\\\\kpi.h', 'language': <Language.C: 'c'>}\n",
      "{'source': 'm460bsp_Library_StdDriver_registers\\\\StdDriver\\\\inc\\\\otg.h', 'language': <Language.C: 'c'>}\n",
      "{'source': 'm460bsp_Library_StdDriver_registers\\\\StdDriver\\\\inc\\\\pdma.h', 'language': <Language.C: 'c'>}\n",
      "{'source': 'm460bsp_Library_StdDriver_registers\\\\StdDriver\\\\inc\\\\psio.h', 'language': <Language.C: 'c'>}\n",
      "{'source': 'm460bsp_Library_StdDriver_registers\\\\StdDriver\\\\inc\\\\qspi.h', 'language': <Language.C: 'c'>}\n",
      "{'source': 'm460bsp_Library_StdDriver_registers\\\\StdDriver\\\\inc\\\\rng.h', 'language': <Language.C: 'c'>}\n",
      "{'source': 'm460bsp_Library_StdDriver_registers\\\\StdDriver\\\\inc\\\\rtc.h', 'language': <Language.C: 'c'>}\n",
      "{'source': 'm460bsp_Library_StdDriver_registers\\\\StdDriver\\\\inc\\\\sc.h', 'language': <Language.C: 'c'>}\n",
      "{'source': 'm460bsp_Library_StdDriver_registers\\\\StdDriver\\\\inc\\\\scuart.h', 'language': <Language.C: 'c'>}\n",
      "{'source': 'm460bsp_Library_StdDriver_registers\\\\StdDriver\\\\inc\\\\sdh.h', 'language': <Language.C: 'c'>}\n",
      "{'source': 'm460bsp_Library_StdDriver_registers\\\\StdDriver\\\\inc\\\\spi.h', 'language': <Language.C: 'c'>}\n",
      "{'source': 'm460bsp_Library_StdDriver_registers\\\\StdDriver\\\\inc\\\\spim.h', 'language': <Language.C: 'c'>}\n",
      "{'source': 'm460bsp_Library_StdDriver_registers\\\\StdDriver\\\\inc\\\\sys.h', 'language': <Language.C: 'c'>}\n",
      "{'source': 'm460bsp_Library_StdDriver_registers\\\\StdDriver\\\\inc\\\\timer.h', 'language': <Language.C: 'c'>}\n",
      "{'source': 'm460bsp_Library_StdDriver_registers\\\\StdDriver\\\\inc\\\\timer_pwm.h', 'language': <Language.C: 'c'>}\n",
      "{'source': 'm460bsp_Library_StdDriver_registers\\\\StdDriver\\\\inc\\\\trng.h', 'language': <Language.C: 'c'>}\n",
      "{'source': 'm460bsp_Library_StdDriver_registers\\\\StdDriver\\\\inc\\\\uart.h', 'language': <Language.C: 'c'>}\n",
      "{'source': 'm460bsp_Library_StdDriver_registers\\\\StdDriver\\\\inc\\\\usbd.h', 'language': <Language.C: 'c'>}\n",
      "{'source': 'm460bsp_Library_StdDriver_registers\\\\StdDriver\\\\inc\\\\usci_i2c.h', 'language': <Language.C: 'c'>}\n",
      "{'source': 'm460bsp_Library_StdDriver_registers\\\\StdDriver\\\\inc\\\\usci_spi.h', 'language': <Language.C: 'c'>}\n",
      "{'source': 'm460bsp_Library_StdDriver_registers\\\\StdDriver\\\\inc\\\\usci_uart.h', 'language': <Language.C: 'c'>}\n",
      "{'source': 'm460bsp_Library_StdDriver_registers\\\\StdDriver\\\\inc\\\\wdt.h', 'language': <Language.C: 'c'>}\n",
      "{'source': 'm460bsp_Library_StdDriver_registers\\\\StdDriver\\\\inc\\\\wwdt.h', 'language': <Language.C: 'c'>}\n"
     ]
    }
   ],
   "source": [
    "for document in docs:\n",
    "    print(document.metadata)\n",
    "#print(\"\\n\\n--8<--\\n\\n\".join([document.page_content for document in docs]))  "
   ]
  },
  {
   "cell_type": "code",
   "execution_count": 6,
   "id": "d895744b-ab56-46dc-b707-30f1e812803d",
   "metadata": {},
   "outputs": [
    {
     "data": {
      "text/plain": [
       "7547"
      ]
     },
     "execution_count": 6,
     "metadata": {},
     "output_type": "execute_result"
    }
   ],
   "source": [
    "from langchain.text_splitter import RecursiveCharacterTextSplitter\n",
    "C_splitter = RecursiveCharacterTextSplitter.from_language(language=Language.C, chunk_size=1000, chunk_overlap=200)\n",
    "texts = C_splitter.split_documents(docs)\n",
    "len(texts)"
   ]
  },
  {
   "cell_type": "code",
   "execution_count": 17,
   "id": "4cc78b5a-2b1c-447f-90a6-935d5f6549ee",
   "metadata": {
    "tags": []
   },
   "outputs": [
    {
     "name": "stdout",
     "output_type": "stream",
     "text": [
      "void BPWM_EnableZeroInt(BPWM_T *bpwm, uint32_t u32ChannelNum);\n",
      "void BPWM_DisableZeroInt(BPWM_T *bpwm, uint32_t u32ChannelNum);\n",
      "void BPWM_ClearZeroIntFlag(BPWM_T *bpwm, uint32_t u32ChannelNum);\n",
      "uint32_t BPWM_GetZeroIntFlag(BPWM_T *bpwm, uint32_t u32ChannelNum);\n",
      "void BPWM_EnableLoadMode(BPWM_T *bpwm, uint32_t u32ChannelNum, uint32_t u32LoadMode);\n",
      "void BPWM_DisableLoadMode(BPWM_T *bpwm, uint32_t u32ChannelNum, uint32_t u32LoadMode);\n",
      "void BPWM_SetClockSource(BPWM_T *bpwm, uint32_t u32ChannelNum, uint32_t u32ClkSrcSel);\n",
      "uint32_t BPWM_GetWrapAroundFlag(BPWM_T *bpwm, uint32_t u32ChannelNum);\n",
      "void BPWM_ClearWrapAroundFlag(BPWM_T *bpwm, uint32_t u32ChannelNum);\n",
      "\n",
      "\n",
      "/** @} end of group BPWM_EXPORTED_FUNCTIONS */\n",
      "\n",
      "/** @} end of group BPWM_Driver */\n",
      "\n",
      "/** @} end of group Standard_Driver */\n",
      "\n",
      "#ifdef __cplusplus\n",
      "}\n",
      "#endif\n",
      "\n",
      "#endif /* __BPWM_H__ */\n",
      "\n",
      "/*** (C) COPYRIGHT 2019 Nuvoton Technology Corp. ***/\n"
     ]
    }
   ],
   "source": [
    "print(texts[56].page_content)"
   ]
  },
  {
   "cell_type": "code",
   "execution_count": null,
   "id": "b96db620-8079-4eaa-ba3c-e3f4a116c5f7",
   "metadata": {},
   "outputs": [],
   "source": [
    "for document in texts:\n",
    "    print(document.metadata)\n",
    "#print(\"\\n\\n--8<--\\n\\n\".join([document.page_content for document in texts]))  "
   ]
  },
  {
   "cell_type": "markdown",
   "id": "ccb27e6f-c4f3-4b2d-9c63-5a0c04ff46a7",
   "metadata": {},
   "source": [
    "## Save the texts into FAISS in disk"
   ]
  },
  {
   "cell_type": "code",
   "execution_count": 7,
   "id": "6c90e299-8341-4570-90ca-6de55705c0bc",
   "metadata": {},
   "outputs": [
    {
     "name": "stdout",
     "output_type": "stream",
     "text": [
      "===== Load the embedding model =====\n",
      "===== Build FAISS =====\n",
      "D:\\nu_QA_data\\m460bsp_Lib_StdDriver_Regs\n"
     ]
    }
   ],
   "source": [
    "save_path = r'D:\\nu_QA_data'\n",
    "save_name = r'm460bsp_Lib_StdDriver_Regs'\n",
    "\n",
    "# load embedding model\n",
    "print(\"===== Load the embedding model =====\")\n",
    "embeddings = HuggingFaceEmbeddings(model_name='sentence-transformers/all-MiniLM-L6-v2',model_kwargs={'device': 'cpu'})\n",
    "\n",
    "# Create vectors store\n",
    "print(\"===== Build FAISS =====\")\n",
    "vectorstore=FAISS.from_documents(texts, embeddings)\n",
    "\n",
    "index_path = os.path.join(save_path, save_name)\n",
    "print(index_path)\n",
    "vectorstore.save_local(index_path)"
   ]
  },
  {
   "cell_type": "markdown",
   "id": "360e9afc-70e9-4b6b-9bda-70691f9edf32",
   "metadata": {},
   "source": [
    "## Create VB only by chosen files"
   ]
  },
  {
   "cell_type": "code",
   "execution_count": 22,
   "id": "a1487155-4e92-4a31-afb3-57d8a55e6bd8",
   "metadata": {
    "tags": []
   },
   "outputs": [
    {
     "name": "stdout",
     "output_type": "stream",
     "text": [
      "Remove the old ones!\n",
      "['./m251bsp\\\\StdDriver\\\\inc\\\\crc.h', './m251bsp\\\\StdDriver\\\\inc\\\\pdma.h', './m251bsp\\\\StdDriver\\\\inc\\\\scuart.h', './m251bsp\\\\StdDriver\\\\inc\\\\uart.h', './m251bsp\\\\StdDriver\\\\inc\\\\usci_uart.h', './m251bsp\\\\StdDriver\\\\src\\\\crc.c', './m251bsp\\\\StdDriver\\\\src\\\\pdma.c', './m251bsp\\\\StdDriver\\\\src\\\\scuart.c', './m251bsp\\\\StdDriver\\\\src\\\\uart.c', './m251bsp\\\\StdDriver\\\\src\\\\usci_uart.c', './m251bsp\\\\SampleCode\\\\StdDriver\\\\CRC_CCITT', './m251bsp\\\\SampleCode\\\\StdDriver\\\\CRC_CRC32', './m251bsp\\\\SampleCode\\\\StdDriver\\\\CRC_CRC8', './m251bsp\\\\SampleCode\\\\StdDriver\\\\DAC_PDMA_TimerTrigger', './m251bsp\\\\SampleCode\\\\StdDriver\\\\EADC_PDMA_BPWM_Trigger', './m251bsp\\\\SampleCode\\\\StdDriver\\\\EADC_PDMA_PWM_Trigger', './m251bsp\\\\SampleCode\\\\StdDriver\\\\FMC_CRC32', './m251bsp\\\\SampleCode\\\\StdDriver\\\\I2C_PDMA_TRX', './m251bsp\\\\SampleCode\\\\StdDriver\\\\PDMA_BasicMode', './m251bsp\\\\SampleCode\\\\StdDriver\\\\PDMA_ScatterGather', './m251bsp\\\\SampleCode\\\\StdDriver\\\\PDMA_ScatterGather_PingPongBuffer', './m251bsp\\\\SampleCode\\\\StdDriver\\\\PWM_PDMA_Capture', './m251bsp\\\\SampleCode\\\\StdDriver\\\\SCUART_TxRx', './m251bsp\\\\SampleCode\\\\StdDriver\\\\SPII2S_PDMA_Codec', './m251bsp\\\\SampleCode\\\\StdDriver\\\\SPII2S_PDMA_Play', './m251bsp\\\\SampleCode\\\\StdDriver\\\\SPII2S_PDMA_PlayRecord', './m251bsp\\\\SampleCode\\\\StdDriver\\\\SPII2S_PDMA_Record', './m251bsp\\\\SampleCode\\\\StdDriver\\\\SPI_PDMA_LoopTest', './m251bsp\\\\SampleCode\\\\StdDriver\\\\UART_AutoBaudRate', './m251bsp\\\\SampleCode\\\\StdDriver\\\\UART_AutoFlow', './m251bsp\\\\SampleCode\\\\StdDriver\\\\UART_IrDA', './m251bsp\\\\SampleCode\\\\StdDriver\\\\UART_LIN', './m251bsp\\\\SampleCode\\\\StdDriver\\\\UART_PDMA', './m251bsp\\\\SampleCode\\\\StdDriver\\\\UART_PDMA', './m251bsp\\\\SampleCode\\\\StdDriver\\\\UART_RS485', './m251bsp\\\\SampleCode\\\\StdDriver\\\\UART_SingleWire', './m251bsp\\\\SampleCode\\\\StdDriver\\\\UART_TxRxFunction', './m251bsp\\\\SampleCode\\\\StdDriver\\\\UART_Wakeup', './m251bsp\\\\SampleCode\\\\StdDriver\\\\USCI_SPI_PDMA_LoopTest', './m251bsp\\\\SampleCode\\\\StdDriver\\\\USCI_UART_AutoBaudRate', './m251bsp\\\\SampleCode\\\\StdDriver\\\\USCI_UART_Autoflow_Master', './m251bsp\\\\SampleCode\\\\StdDriver\\\\USCI_UART_Autoflow_Slave', './m251bsp\\\\SampleCode\\\\StdDriver\\\\USCI_UART_PDMA', './m251bsp\\\\SampleCode\\\\StdDriver\\\\USCI_UART_PDMA', './m251bsp\\\\SampleCode\\\\StdDriver\\\\USCI_UART_RS485_Master', './m251bsp\\\\SampleCode\\\\StdDriver\\\\USCI_UART_RS485_Slave', './m251bsp\\\\SampleCode\\\\StdDriver\\\\USCI_UART_TxRxFunction', './m251bsp\\\\SampleCode\\\\StdDriver\\\\USCI_UART_Wakeup']\n"
     ]
    }
   ],
   "source": [
    "import re\n",
    "import shutil\n",
    "\n",
    "\n",
    "\n",
    "def find_files_with_pattern(directory, patterns, dst):\n",
    "    matching_path = []\n",
    "    \n",
    "    for root, dirs, files in os.walk(directory):\n",
    "        for file in files:\n",
    "            file_path = os.path.join(root, file)\n",
    "            \n",
    "            for pattern in patterns:\n",
    "                # Check if the file name matches the pattern\n",
    "                if re.search(pattern, file, re.IGNORECASE):\n",
    "                    matching_path.append(file_path)\n",
    "                    shutil.copy(file_path, dst)\n",
    "    \n",
    "    return matching_path\n",
    "\n",
    "def find_folders_with_pattern(directory, patterns, dst):\n",
    "    matching_path = []\n",
    "    \n",
    "    for dirname in os.listdir(directory):\n",
    "        \n",
    "        for pattern in patterns:\n",
    "            # Check if the file name matches the pattern\n",
    "            if re.search(pattern, dirname, re.IGNORECASE):\n",
    "                dir_loc = os.path.join(directory, dirname)\n",
    "                #print(dir_loc, dirname)\n",
    "                matching_path.append(dir_loc)\n",
    "                shutil.copytree(dir_loc, os.path.join(dst, dirname), dirs_exist_ok=True)\n",
    "            \n",
    "    return matching_path\n",
    "\n",
    "# Example usage:\n",
    "directory_path = \"./m251bsp\"\n",
    "#file_pattern = [r\"acmp\", r\"dac\"]\n",
    "file_pattern = [r\"uart\", r\"pdma\", r\"crc\"]\n",
    "dst = r\"D:\\nu_QA_data\\m251bsp_partial_source\"\n",
    "\n",
    "if os.path.isdir(dst):\n",
    "    print(\"Remove the old ones!\")\n",
    "    #os.rmdir(dst)\n",
    "    shutil.rmtree(dst) \n",
    "else:\n",
    "    print(\"First create!\")\n",
    "os.mkdir(dst)    \n",
    "\n",
    "# Find the StdDriver\n",
    "matching_files = find_files_with_pattern(os.path.join(directory_path, 'StdDriver'), file_pattern, dst)\n",
    "\n",
    "# Find the SampleCode\\StdDriver\n",
    "matching_files += find_folders_with_pattern(os.path.join(directory_path, 'SampleCode', 'StdDriver'), file_pattern, dst)\n",
    "\n",
    "\n",
    "print(matching_files)\n"
   ]
  },
  {
   "cell_type": "code",
   "execution_count": 23,
   "id": "6be9313d-bf64-44e0-bc86-4f981552c5b7",
   "metadata": {
    "tags": []
   },
   "outputs": [
    {
     "data": {
      "application/vnd.jupyter.widget-view+json": {
       "model_id": "579f2d9c217a4b65bc1fc3484fba52af",
       "version_major": 2,
       "version_minor": 0
      },
      "text/plain": [
       "  0%|          | 0/50 [00:00<?, ?it/s]"
      ]
     },
     "metadata": {},
     "output_type": "display_data"
    },
    {
     "data": {
      "text/plain": [
       "50"
      ]
     },
     "execution_count": 23,
     "metadata": {},
     "output_type": "execute_result"
    }
   ],
   "source": [
    "\n",
    "loader = GenericLoader.from_filesystem(\n",
    "        dst,\n",
    "        glob=\"**/*\",\n",
    "        suffixes=[\".h\", \".c\"],\n",
    "        parser=LanguageParser(language=Language.C, parser_threshold=10000),\n",
    "        #parser=LanguageParser(),\n",
    "        show_progress=True,\n",
    "    )\n",
    "docs = loader.load()\n",
    "len(docs)"
   ]
  },
  {
   "cell_type": "code",
   "execution_count": 24,
   "id": "6e2eb3e0-4ebb-4643-a3ac-d27adee4c53f",
   "metadata": {
    "tags": []
   },
   "outputs": [
    {
     "name": "stdout",
     "output_type": "stream",
     "text": [
      "{'source': 'D:\\\\nu_QA_data\\\\m251bsp_partial_source\\\\crc.c', 'language': <Language.C: 'c'>}\n",
      "{'source': 'D:\\\\nu_QA_data\\\\m251bsp_partial_source\\\\crc.h', 'language': <Language.C: 'c'>}\n",
      "{'source': 'D:\\\\nu_QA_data\\\\m251bsp_partial_source\\\\pdma.c', 'language': <Language.C: 'c'>}\n",
      "{'source': 'D:\\\\nu_QA_data\\\\m251bsp_partial_source\\\\pdma.h', 'language': <Language.C: 'c'>}\n",
      "{'source': 'D:\\\\nu_QA_data\\\\m251bsp_partial_source\\\\scuart.c', 'language': <Language.C: 'c'>}\n",
      "{'source': 'D:\\\\nu_QA_data\\\\m251bsp_partial_source\\\\scuart.h', 'language': <Language.C: 'c'>}\n",
      "{'source': 'D:\\\\nu_QA_data\\\\m251bsp_partial_source\\\\uart.c', 'language': <Language.C: 'c'>}\n",
      "{'source': 'D:\\\\nu_QA_data\\\\m251bsp_partial_source\\\\uart.h', 'language': <Language.C: 'c'>}\n",
      "{'source': 'D:\\\\nu_QA_data\\\\m251bsp_partial_source\\\\usci_uart.c', 'language': <Language.C: 'c'>}\n",
      "{'source': 'D:\\\\nu_QA_data\\\\m251bsp_partial_source\\\\usci_uart.h', 'language': <Language.C: 'c'>}\n",
      "{'source': 'D:\\\\nu_QA_data\\\\m251bsp_partial_source\\\\CRC_CCITT\\\\main.c', 'language': <Language.C: 'c'>}\n",
      "{'source': 'D:\\\\nu_QA_data\\\\m251bsp_partial_source\\\\CRC_CRC32\\\\main.c', 'language': <Language.C: 'c'>}\n",
      "{'source': 'D:\\\\nu_QA_data\\\\m251bsp_partial_source\\\\CRC_CRC8\\\\main.c', 'language': <Language.C: 'c'>}\n",
      "{'source': 'D:\\\\nu_QA_data\\\\m251bsp_partial_source\\\\DAC_PDMA_TimerTrigger\\\\main.c', 'language': <Language.C: 'c'>}\n",
      "{'source': 'D:\\\\nu_QA_data\\\\m251bsp_partial_source\\\\EADC_PDMA_BPWM_Trigger\\\\main.c', 'language': <Language.C: 'c'>}\n",
      "{'source': 'D:\\\\nu_QA_data\\\\m251bsp_partial_source\\\\EADC_PDMA_PWM_Trigger\\\\main.c', 'language': <Language.C: 'c'>}\n",
      "{'source': 'D:\\\\nu_QA_data\\\\m251bsp_partial_source\\\\FMC_CRC32\\\\main.c', 'language': <Language.C: 'c'>}\n",
      "{'source': 'D:\\\\nu_QA_data\\\\m251bsp_partial_source\\\\I2C_PDMA_TRX\\\\main.c', 'language': <Language.C: 'c'>}\n",
      "{'source': 'D:\\\\nu_QA_data\\\\m251bsp_partial_source\\\\PDMA_BasicMode\\\\main.c', 'language': <Language.C: 'c'>}\n",
      "{'source': 'D:\\\\nu_QA_data\\\\m251bsp_partial_source\\\\PDMA_ScatterGather\\\\main.c', 'language': <Language.C: 'c'>}\n",
      "{'source': 'D:\\\\nu_QA_data\\\\m251bsp_partial_source\\\\PDMA_ScatterGather_PingPongBuffer\\\\main.c', 'language': <Language.C: 'c'>}\n",
      "{'source': 'D:\\\\nu_QA_data\\\\m251bsp_partial_source\\\\PWM_PDMA_Capture\\\\main.c', 'language': <Language.C: 'c'>}\n",
      "{'source': 'D:\\\\nu_QA_data\\\\m251bsp_partial_source\\\\SCUART_TxRx\\\\main.c', 'language': <Language.C: 'c'>}\n",
      "{'source': 'D:\\\\nu_QA_data\\\\m251bsp_partial_source\\\\SPII2S_PDMA_Codec\\\\main.c', 'language': <Language.C: 'c'>}\n",
      "{'source': 'D:\\\\nu_QA_data\\\\m251bsp_partial_source\\\\SPII2S_PDMA_Play\\\\main.c', 'language': <Language.C: 'c'>}\n",
      "{'source': 'D:\\\\nu_QA_data\\\\m251bsp_partial_source\\\\SPII2S_PDMA_PlayRecord\\\\main.c', 'language': <Language.C: 'c'>}\n",
      "{'source': 'D:\\\\nu_QA_data\\\\m251bsp_partial_source\\\\SPII2S_PDMA_Record\\\\main.c', 'language': <Language.C: 'c'>}\n",
      "{'source': 'D:\\\\nu_QA_data\\\\m251bsp_partial_source\\\\SPI_PDMA_LoopTest\\\\main.c', 'language': <Language.C: 'c'>}\n",
      "{'source': 'D:\\\\nu_QA_data\\\\m251bsp_partial_source\\\\UART_AutoBaudRate\\\\main.c', 'language': <Language.C: 'c'>}\n",
      "{'source': 'D:\\\\nu_QA_data\\\\m251bsp_partial_source\\\\UART_AutoFlow\\\\main.c', 'language': <Language.C: 'c'>}\n",
      "{'source': 'D:\\\\nu_QA_data\\\\m251bsp_partial_source\\\\UART_IrDA\\\\main.c', 'language': <Language.C: 'c'>}\n",
      "{'source': 'D:\\\\nu_QA_data\\\\m251bsp_partial_source\\\\UART_LIN\\\\main.c', 'language': <Language.C: 'c'>}\n",
      "{'source': 'D:\\\\nu_QA_data\\\\m251bsp_partial_source\\\\UART_LIN\\\\my_retarget.c', 'language': <Language.C: 'c'>}\n",
      "{'source': 'D:\\\\nu_QA_data\\\\m251bsp_partial_source\\\\UART_LIN\\\\uart_lin.c', 'language': <Language.C: 'c'>}\n",
      "{'source': 'D:\\\\nu_QA_data\\\\m251bsp_partial_source\\\\UART_LIN\\\\uart_lin.h', 'language': <Language.C: 'c'>}\n",
      "{'source': 'D:\\\\nu_QA_data\\\\m251bsp_partial_source\\\\UART_PDMA\\\\main.c', 'language': <Language.C: 'c'>}\n",
      "{'source': 'D:\\\\nu_QA_data\\\\m251bsp_partial_source\\\\UART_RS485\\\\main.c', 'language': <Language.C: 'c'>}\n",
      "{'source': 'D:\\\\nu_QA_data\\\\m251bsp_partial_source\\\\UART_SingleWire\\\\main.c', 'language': <Language.C: 'c'>}\n",
      "{'source': 'D:\\\\nu_QA_data\\\\m251bsp_partial_source\\\\UART_SingleWire\\\\my_retarget.c', 'language': <Language.C: 'c'>}\n",
      "{'source': 'D:\\\\nu_QA_data\\\\m251bsp_partial_source\\\\UART_TxRxFunction\\\\main.c', 'language': <Language.C: 'c'>}\n",
      "{'source': 'D:\\\\nu_QA_data\\\\m251bsp_partial_source\\\\UART_Wakeup\\\\main.c', 'language': <Language.C: 'c'>}\n",
      "{'source': 'D:\\\\nu_QA_data\\\\m251bsp_partial_source\\\\USCI_SPI_PDMA_LoopTest\\\\main.c', 'language': <Language.C: 'c'>}\n",
      "{'source': 'D:\\\\nu_QA_data\\\\m251bsp_partial_source\\\\USCI_UART_AutoBaudRate\\\\main.c', 'language': <Language.C: 'c'>}\n",
      "{'source': 'D:\\\\nu_QA_data\\\\m251bsp_partial_source\\\\USCI_UART_Autoflow_Master\\\\main.c', 'language': <Language.C: 'c'>}\n",
      "{'source': 'D:\\\\nu_QA_data\\\\m251bsp_partial_source\\\\USCI_UART_Autoflow_Slave\\\\main.c', 'language': <Language.C: 'c'>}\n",
      "{'source': 'D:\\\\nu_QA_data\\\\m251bsp_partial_source\\\\USCI_UART_PDMA\\\\main.c', 'language': <Language.C: 'c'>}\n",
      "{'source': 'D:\\\\nu_QA_data\\\\m251bsp_partial_source\\\\USCI_UART_RS485_Master\\\\main.c', 'language': <Language.C: 'c'>}\n",
      "{'source': 'D:\\\\nu_QA_data\\\\m251bsp_partial_source\\\\USCI_UART_RS485_Slave\\\\main.c', 'language': <Language.C: 'c'>}\n",
      "{'source': 'D:\\\\nu_QA_data\\\\m251bsp_partial_source\\\\USCI_UART_TxRxFunction\\\\main.c', 'language': <Language.C: 'c'>}\n",
      "{'source': 'D:\\\\nu_QA_data\\\\m251bsp_partial_source\\\\USCI_UART_Wakeup\\\\main.c', 'language': <Language.C: 'c'>}\n"
     ]
    }
   ],
   "source": [
    "for document in docs:\n",
    "    print(document.metadata)"
   ]
  },
  {
   "cell_type": "code",
   "execution_count": 25,
   "id": "803d9736-5436-46b5-bfab-a2181e1eac79",
   "metadata": {
    "tags": []
   },
   "outputs": [
    {
     "data": {
      "text/plain": [
       "935"
      ]
     },
     "execution_count": 25,
     "metadata": {},
     "output_type": "execute_result"
    }
   ],
   "source": [
    "from langchain.text_splitter import RecursiveCharacterTextSplitter\n",
    "C_splitter = RecursiveCharacterTextSplitter.from_language(language=Language.C, chunk_size=1000, chunk_overlap=100)\n",
    "texts = C_splitter.split_documents(docs)\n",
    "len(texts)"
   ]
  },
  {
   "cell_type": "code",
   "execution_count": 26,
   "id": "a1460b68-20f7-4659-9b94-0b44fa677445",
   "metadata": {
    "tags": []
   },
   "outputs": [
    {
     "name": "stdout",
     "output_type": "stream",
     "text": [
      "===== Load the embedding model =====\n",
      "===== Build FAISS =====\n",
      "D:\\nu_QA_data\\m251bsp_partial\n"
     ]
    }
   ],
   "source": [
    "save_path = r'D:\\nu_QA_data'\n",
    "save_name = r'm251bsp_partial'\n",
    "\n",
    "# load embedding model\n",
    "print(\"===== Load the embedding model =====\")\n",
    "embeddings = HuggingFaceEmbeddings(model_name='sentence-transformers/all-MiniLM-L6-v2',model_kwargs={'device': 'cpu'})\n",
    "\n",
    "# Create vectors store\n",
    "print(\"===== Build FAISS =====\")\n",
    "vectorstore=FAISS.from_documents(texts, embeddings)\n",
    "\n",
    "index_path = os.path.join(save_path, save_name)\n",
    "print(index_path)\n",
    "vectorstore.save_local(index_path)"
   ]
  },
  {
   "cell_type": "code",
   "execution_count": null,
   "id": "c43f0571-96e9-4a7a-98db-8b1272977be0",
   "metadata": {},
   "outputs": [],
   "source": []
  }
 ],
 "metadata": {
  "kernelspec": {
   "display_name": "Python 3 (ipykernel)",
   "language": "python",
   "name": "python3"
  },
  "language_info": {
   "codemirror_mode": {
    "name": "ipython",
    "version": 3
   },
   "file_extension": ".py",
   "mimetype": "text/x-python",
   "name": "python",
   "nbconvert_exporter": "python",
   "pygments_lexer": "ipython3",
   "version": "3.11.5"
  }
 },
 "nbformat": 4,
 "nbformat_minor": 5
}

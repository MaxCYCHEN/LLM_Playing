{
 "cells": [
  {
   "cell_type": "code",
   "execution_count": 1,
   "id": "ff15b55d-9e4a-4707-a772-ddfeda129b0d",
   "metadata": {
    "tags": []
   },
   "outputs": [],
   "source": [
    "from langchain.text_splitter import Language\n",
    "from langchain.document_loaders.generic import GenericLoader\n",
    "from langchain.document_loaders.parsers import LanguageParser\n",
    "import os\n",
    "\n",
    "from langchain.vectorstores import FAISS\n",
    "from langchain.document_loaders import PyPDFLoader\n",
    "from langchain.chains.question_answering import load_qa_chain\n",
    "from langchain.prompts import PromptTemplate\n",
    "from langchain.memory import ConversationBufferMemory\n",
    "from langchain.embeddings import HuggingFaceEmbeddings\n",
    "from langchain.chains import RetrievalQA\n",
    "from langchain.document_loaders import UnstructuredFileLoader\n",
    "from langchain.text_splitter import RecursiveCharacterTextSplitter\n",
    "from langchain.chains import RetrievalQAWithSourcesChain\n",
    "from huggingface_hub import notebook_login\n",
    "from transformers import pipeline\n",
    "from transformers import AutoTokenizer, AutoModelForCausalLM\n",
    "from langchain import HuggingFacePipeline\n",
    "from langchain.text_splitter import CharacterTextSplitter\n",
    "import textwrap\n",
    "import sys\n",
    "import torch\n",
    "\n",
    "from transformers import AutoTokenizer, AutoModelForCausalLM, BitsAndBytesConfig\n",
    "from langchain.chains import LLMChain\n",
    "from langchain.llms import OpenAI\n",
    "from langchain.chat_models import ChatOpenAI\n",
    "\n",
    "from langchain.chains import ConversationalRetrievalChain\n",
    "from langchain.memory import ConversationBufferMemory, ConversationSummaryMemory\n",
    "\n",
    "import APIKEY"
   ]
  },
  {
   "cell_type": "markdown",
   "id": "019ed17e-784a-4ad2-a661-da2f0bba7e48",
   "metadata": {},
   "source": [
    "## RetrievalQA & Chat"
   ]
  },
  {
   "cell_type": "code",
   "execution_count": 2,
   "id": "abaf1b50-c73d-45d0-91bd-f3c69f44961a",
   "metadata": {
    "tags": []
   },
   "outputs": [
    {
     "name": "stdout",
     "output_type": "stream",
     "text": [
      "===== Load the embedding model =====\n",
      "===== Build FAISS =====\n"
     ]
    }
   ],
   "source": [
    "#input_doc_pth = r'D:\\nu_QA_data\\m460bsp_Library_StdDriver_headers_1000'\n",
    "#input_doc_pth = r'D:\\nu_QA_data\\m460bsp_StdDriver'\n",
    "#input_doc_pth = r'D:\\nu_QA_data\\m2351bsp_1000'\n",
    "#input_doc_pth = r'D:\\nu_QA_data\\m2351bsp_StdDriver_regs_1000'\n",
    "#input_doc_pth = r'D:\\nu_QA_data\\m251bsp_StdDriver_1000'\n",
    "input_doc_pth = r'D:\\nu_QA_data\\m251bsp_headers_1000'\n",
    "# load embedding model\n",
    "print(\"===== Load the embedding model =====\")\n",
    "embeddings = HuggingFaceEmbeddings(model_name='sentence-transformers/all-MiniLM-L6-v2',model_kwargs={'device': 'cpu'})\n",
    "\n",
    "# Create vectors store\n",
    "print(\"===== Build FAISS =====\")\n",
    "#vectorstore=FAISS.from_documents(texts, embeddings)\n",
    "vectorstore=FAISS.load_local(input_doc_pth, embeddings)"
   ]
  },
  {
   "cell_type": "code",
   "execution_count": 3,
   "id": "c6bfc213-8a0e-4c1f-b2d3-23eef5dd2ecb",
   "metadata": {
    "tags": []
   },
   "outputs": [],
   "source": [
    "\n",
    "os.environ[\"OPENAI_API_KEY\"] = APIKEY.API_KEY_SERVICE_OPENAI\n",
    "llm = ChatOpenAI(temperature=0, model=\"gpt-3.5-turbo\")"
   ]
  },
  {
   "cell_type": "markdown",
   "id": "e04ff4e2-1a10-41ee-8a5f-20ae24e4edc6",
   "metadata": {},
   "source": []
  },
  {
   "cell_type": "code",
   "execution_count": 76,
   "id": "0c752580-59d1-4400-be59-11f11093cea9",
   "metadata": {
    "tags": []
   },
   "outputs": [],
   "source": [
    "from langchain.chains.question_answering import load_qa_chain\n",
    "from langchain import PromptTemplate \n",
    "from langchain.prompts import SystemMessagePromptTemplate, HumanMessagePromptTemplate, ChatPromptTemplate\n",
    "\n",
    "# Prompt\n",
    "#template=\"\"\"Use the following pieces of context to answer the question at the end.\n",
    "#Please answer with C Code function as complete as possible.\n",
    "#If you don't know the answer or the question has nothing to do with code or programing, don't try to make up an answer.\n",
    "#{context}\n",
    "#Question: {question}\n",
    "#Answer:\"\"\"\n",
    "\n",
    "#template=\"\"\"Use the following pieces of context to answer the question at the end. The context is standard driver C header files of M251 MCU. \n",
    "#Please answer with C Code function as complete as possible.\n",
    "#If you don't know the answer or the question has nothing to do with code or programing, don't try to make up an answer.\n",
    "#{context}\n",
    "#Question: {question}\n",
    "#Answer:\"\"\"\n",
    "\n",
    "#template=\"\"\"Use the following pieces of context to answer the question at the end. The context is standard driver C header files of M251 MCU. \n",
    "#Please use context C functions as much as possible to answer with C code.\n",
    "#If you don't know the answer or the question has nothing to do with code or programing, don't try to make up an answer.\n",
    "#{context}\n",
    "#Question: {question}\n",
    "#Answer:\"\"\"\n",
    "\n",
    "\n",
    "\n",
    "#template=\"\"\"Use the following pieces of context and chat history to answer the question at the end. The context is standard driver C header files of M251 MCU. \n",
    "#Please answer with C Code function as complete as possible.\n",
    "#If you don't know the answer or the question has nothing to do with code or programing, don't try to make up an answer.\n",
    "#{context}\n",
    "#{chat_history}\n",
    "#Question: {question}\n",
    "#Answer:\"\"\"\n",
    "#\n",
    "#QA_CHAIN_PROMPT = PromptTemplate(input_variables=[\"context\", \"question\", \"chat_history\"], template=template)\n",
    "\n",
    "\n",
    "\n",
    "\n",
    "\n",
    "# Define the system message template\n",
    "system_template = \"\"\"Use the following pieces of context and chat history to answer the question at the end. The context is standard driver C header files of M251 MCU. \n",
    "Please answer with C Code function as complete as possible.\n",
    "If you don't know the answer or the question has nothing to do with code or programing, don't try to make up an answer.\n",
    "----------------\n",
    "{context}\n",
    "{chat_history}\"\"\"\n",
    "\n",
    "# Create the chat prompt templates\n",
    "messages = [\n",
    "SystemMessagePromptTemplate.from_template(system_template),\n",
    "HumanMessagePromptTemplate.from_template(\"{question}\")\n",
    "]\n",
    "\n",
    "qa_prompt = ChatPromptTemplate.from_messages(messages)\n"
   ]
  },
  {
   "cell_type": "markdown",
   "id": "415b4fab-83d4-4ac6-a13d-8d4ebb0f1eec",
   "metadata": {},
   "source": [
    "## RetrievalQA"
   ]
  },
  {
   "cell_type": "code",
   "execution_count": 82,
   "id": "0d5c00d0-e921-460e-af0c-8283d22b0208",
   "metadata": {
    "tags": []
   },
   "outputs": [],
   "source": [
    "retriever_vec=vectorstore.as_retriever(\n",
    "    search_type=\"mmr\", # Also test \"similarity\"\n",
    "    search_kwargs={\"k\": 8})\n",
    "\n",
    "# Normal memory\n",
    "memory = ConversationBufferMemory(memory_key=\"chat_history\", input_key='question', output_key='answer', return_messages=True)\n",
    "#memory = ConversationBufferMemory(memory_key=\"chat_history\", return_messages=True)\n",
    "# Should save the tokens\n",
    "#memory = ConversationSummaryMemory(llm=llm, memory_key=\"chat_history\", return_messages=True)\n",
    "\n",
    "chain = ConversationalRetrievalChain.from_llm(llm, retriever=retriever_vec, memory=memory,\n",
    "                                             return_source_documents=True, \n",
    "                                             combine_docs_chain_kwargs={\"prompt\": qa_prompt}\n",
    "                                             )\n",
    "\n",
    "chat_history = []"
   ]
  },
  {
   "cell_type": "code",
   "execution_count": 89,
   "id": "6b8410b6-8212-4cb1-9124-3321ed8f8861",
   "metadata": {
    "tags": []
   },
   "outputs": [],
   "source": [
    "#query = \"Generate a C source code which initializes I2C0 to access slave ROM with byte write and byte read operation, and check if the read data is equal to the write data.\"\n",
    "#query = \"Generate a C source code which TIMER0 MODE is TIMER_ONESHOT_MODE, TIMER0_FREQ is 1000000, TIMER0_PRESCALE_VALUE is 5, TIMER0_CMP_VALUE is 0x5A5A5A\"\n",
    "#query = \"Generate a C source code which open EBI with bank2, 16BIT width, and fast timing\"\n",
    "#query = \"Generate a C source code to get data from UART, PDMA to memory address 0x20000000, and do CRC32 at 0x20000000\"\n",
    "#query = \"Write a C code of ACMP comparing DAC output with ACMP1_P1\"\n",
    "#query = \"Write a C code to set the BPWM0 channel 0 for capture function\"\n",
    "#query = \"Write a C code to set the BPWM0 channel 0 to output waveform with frequency 240000Hz and duty 50%\"\n",
    "\n",
    "#query = \"Hi my name is Gary\"\n",
    "#query = \"Whats my name\"\n",
    "query = \"If I want to use multibytes write and multibytes read, how should I update this code?\"\n",
    "\n",
    "#result = chain({\"question\": query, \"chat_history\": chat_history})\n",
    "result = chain({\"question\": query})\n",
    "chat_history.extend([(query, result[\"answer\"])])\n",
    "#result = chain(\"Write a C code of ACMP comparing DAC output with ACMP1_P1\")\n"
   ]
  },
  {
   "cell_type": "code",
   "execution_count": 74,
   "id": "710841f4-361b-42db-ad08-0e4cf71adb06",
   "metadata": {
    "tags": []
   },
   "outputs": [
    {
     "name": "stdout",
     "output_type": "stream",
     "text": [
      "{'source': 'm251bsp_StdDriver\\\\StdDriver\\\\inc\\\\i2c.h', 'language': <Language.C: 'c'>}\n",
      "{'source': 'm251bsp_StdDriver\\\\StdDriver\\\\inc\\\\i2c.h', 'language': <Language.C: 'c'>}\n",
      "{'source': 'm251bsp_StdDriver\\\\StdDriver\\\\inc\\\\spi.h', 'language': <Language.C: 'c'>}\n",
      "{'source': 'm251bsp_StdDriver\\\\StdDriver\\\\inc\\\\dac.h', 'language': <Language.C: 'c'>}\n",
      "{'source': 'm251bsp_StdDriver\\\\StdDriver\\\\inc\\\\i2c.h', 'language': <Language.C: 'c'>}\n",
      "{'source': 'm251bsp_StdDriver\\\\StdDriver\\\\inc\\\\i2c.h', 'language': <Language.C: 'c'>}\n",
      "{'source': 'm251bsp_StdDriver\\\\StdDriver\\\\inc\\\\i2c.h', 'language': <Language.C: 'c'>}\n",
      "{'source': 'm251bsp_StdDriver\\\\StdDriver\\\\inc\\\\i2c.h', 'language': <Language.C: 'c'>}\n"
     ]
    }
   ],
   "source": [
    "for i in range(len(result['source_documents'])):\n",
    "    print(result['source_documents'][i].metadata)"
   ]
  },
  {
   "cell_type": "code",
   "execution_count": 88,
   "id": "19c2a19a-3d63-4801-88e1-0c257f274c31",
   "metadata": {
    "tags": []
   },
   "outputs": [
    {
     "name": "stdout",
     "output_type": "stream",
     "text": [
      "Sure! Here's an example of C source code that initializes I2C0 to access a slave ROM with byte write and byte read operations, and checks if the read data is equal to the write data:\n",
      "\n",
      "```c\n",
      "#include \"M251.h\"\n",
      "\n",
      "#define I2C_PORT I2C0\n",
      "#define SLAVE_ROM_ADDR 0x50\n",
      "\n",
      "void I2C_Init(void)\n",
      "{\n",
      "    // Enable I2C0 clock\n",
      "    CLK_EnableModuleClock(I2C0_MODULE);\n",
      "\n",
      "    // Set I2C0 multi-function pins\n",
      "    SYS->GPA_MFPL &= ~(SYS_GPA_MFPL_PA9MFP_Msk | SYS_GPA_MFPL_PA8MFP_Msk);\n",
      "    SYS->GPA_MFPL |= (SYS_GPA_MFPL_PA9MFP_I2C0_SCL | SYS_GPA_MFPL_PA8MFP_I2C0_SDA);\n",
      "\n",
      "    // Configure I2C0 as master, 100kHz\n",
      "    I2C_Open(I2C_PORT, 100000);\n",
      "\n",
      "    // Enable I2C0 interrupt\n",
      "    I2C_EnableInt(I2C_PORT);\n",
      "    NVIC_EnableIRQ(I2C0_IRQn);\n",
      "}\n",
      "\n",
      "void I2C_WriteByte(uint8_t data)\n",
      "{\n",
      "    // Write data to I2C data register\n",
      "    I2C_SET_DATA(I2C_PORT, data);\n",
      "\n",
      "    // Send start condition, write address, and data\n",
      "    I2C_START(I2C_PORT);\n",
      "    I2C_WAIT_READY(I2C_PORT);\n",
      "    I2C_SET_DATA(I2C_PORT, SLAVE_ROM_ADDR << 1);\n",
      "    I2C_SET_CONTROL_REG(I2C_PORT, I2C_CTL_SI);\n",
      "    I2C_WAIT_READY(I2C_PORT);\n",
      "    I2C_SET_CONTROL_REG(I2C_PORT, I2C_CTL_SI);\n",
      "    I2C_WAIT_READY(I2C_PORT);\n",
      "    I2C_SET_CONTROL_REG(I2C_PORT, I2C_CTL_SI);\n",
      "    I2C_WAIT_READY(I2C_PORT);\n",
      "\n",
      "    // Send stop condition\n",
      "    I2C_STOP(I2C_PORT);\n",
      "}\n",
      "\n",
      "uint8_t I2C_ReadByte(void)\n",
      "{\n",
      "    // Send start condition, write address, and read request\n",
      "    I2C_START(I2C_PORT);\n",
      "    I2C_WAIT_READY(I2C_PORT);\n",
      "    I2C_SET_DATA(I2C_PORT, (SLAVE_ROM_ADDR << 1) | 0x01);\n",
      "    I2C_SET_CONTROL_REG(I2C_PORT, I2C_CTL_SI);\n",
      "    I2C_WAIT_READY(I2C_PORT);\n",
      "\n",
      "    // Read data from I2C data register\n",
      "    uint8_t data = I2C_GET_DATA(I2C_PORT);\n",
      "\n",
      "    // Send stop condition\n",
      "    I2C_STOP(I2C_PORT);\n",
      "\n",
      "    return data;\n",
      "}\n",
      "\n",
      "int main(void)\n",
      "{\n",
      "    // Initialize I2C0\n",
      "    I2C_Init();\n",
      "\n",
      "    // Write data to slave ROM\n",
      "    uint8_t writeData = 0xAB;\n",
      "    I2C_WriteByte(writeData);\n",
      "\n",
      "    // Read data from slave ROM\n",
      "    uint8_t readData = I2C_ReadByte();\n",
      "\n",
      "    // Check if read data is equal to write data\n",
      "    if (readData == writeData)\n",
      "    {\n",
      "        // Data match\n",
      "        // Add your code here\n",
      "    }\n",
      "    else\n",
      "    {\n",
      "        // Data mismatch\n",
      "        // Add your code here\n",
      "    }\n",
      "\n",
      "    while (1)\n",
      "    {\n",
      "        // Add your code here\n",
      "    }\n",
      "}\n",
      "```\n",
      "\n",
      "Please note that this code assumes that you have already configured the necessary clock and pin settings for I2C0. You may need to modify the code accordingly based on your specific hardware setup.\n"
     ]
    }
   ],
   "source": [
    "print(result['answer'])"
   ]
  },
  {
   "cell_type": "code",
   "execution_count": 90,
   "id": "3bb382a1-cc1d-4cf6-ac69-0a6133c0066f",
   "metadata": {
    "tags": []
   },
   "outputs": [
    {
     "name": "stdout",
     "output_type": "stream",
     "text": [
      "To update the code to use multibyte write and multibyte read operations, you can modify the `I2C_WriteByte` and `I2C_ReadByte` functions to use the `I2C_WriteMultiBytes` and `I2C_ReadMultiBytes` functions respectively. Here's the updated code:\n",
      "\n",
      "```c\n",
      "#include \"M251.h\"\n",
      "\n",
      "#define I2C_PORT I2C0\n",
      "#define SLAVE_ROM_ADDR 0x50\n",
      "\n",
      "void I2C_Init(void)\n",
      "{\n",
      "    // Enable I2C0 clock\n",
      "    CLK_EnableModuleClock(I2C0_MODULE);\n",
      "\n",
      "    // Set I2C0 multi-function pins\n",
      "    SYS->GPA_MFPL &= ~(SYS_GPA_MFPL_PA9MFP_Msk | SYS_GPA_MFPL_PA8MFP_Msk);\n",
      "    SYS->GPA_MFPL |= (SYS_GPA_MFPL_PA9MFP_I2C0_SCL | SYS_GPA_MFPL_PA8MFP_I2C0_SDA);\n",
      "\n",
      "    // Configure I2C0 as master, 100kHz\n",
      "    I2C_Open(I2C_PORT, 100000);\n",
      "\n",
      "    // Enable I2C0 interrupt\n",
      "    I2C_EnableInt(I2C_PORT);\n",
      "    NVIC_EnableIRQ(I2C0_IRQn);\n",
      "}\n",
      "\n",
      "void I2C_WriteMultiBytes(uint8_t data[], uint32_t length)\n",
      "{\n",
      "    // Send start condition, write address, and data\n",
      "    I2C_START(I2C_PORT);\n",
      "    I2C_WAIT_READY(I2C_PORT);\n",
      "    I2C_SET_DATA(I2C_PORT, SLAVE_ROM_ADDR << 1);\n",
      "    I2C_SET_CONTROL_REG(I2C_PORT, I2C_CTL_SI);\n",
      "    I2C_WAIT_READY(I2C_PORT);\n",
      "\n",
      "    for (uint32_t i = 0; i < length; i++)\n",
      "    {\n",
      "        // Write data to I2C data register\n",
      "        I2C_SET_DATA(I2C_PORT, data[i]);\n",
      "\n",
      "        // Send data\n",
      "        I2C_SET_CONTROL_REG(I2C_PORT, I2C_CTL_SI);\n",
      "        I2C_WAIT_READY(I2C_PORT);\n",
      "    }\n",
      "\n",
      "    // Send stop condition\n",
      "    I2C_STOP(I2C_PORT);\n",
      "}\n",
      "\n",
      "void I2C_ReadMultiBytes(uint8_t data[], uint32_t length)\n",
      "{\n",
      "    // Send start condition, write address, and read request\n",
      "    I2C_START(I2C_PORT);\n",
      "    I2C_WAIT_READY(I2C_PORT);\n",
      "    I2C_SET_DATA(I2C_PORT, (SLAVE_ROM_ADDR << 1) | 0x01);\n",
      "    I2C_SET_CONTROL_REG(I2C_PORT, I2C_CTL_SI);\n",
      "    I2C_WAIT_READY(I2C_PORT);\n",
      "\n",
      "    for (uint32_t i = 0; i < length; i++)\n",
      "    {\n",
      "        // Read data from I2C data register\n",
      "        data[i] = I2C_GET_DATA(I2C_PORT);\n",
      "\n",
      "        if (i == length - 1)\n",
      "        {\n",
      "            // Send NACK and stop condition for the last byte\n",
      "            I2C_SET_CONTROL_REG(I2C_PORT, I2C_CTL_SI | I2C_CTL_AA);\n",
      "        }\n",
      "        else\n",
      "        {\n",
      "            // Send ACK for the remaining bytes\n",
      "            I2C_SET_CONTROL_REG(I2C_PORT, I2C_CTL_SI);\n",
      "        }\n",
      "\n",
      "        I2C_WAIT_READY(I2C_PORT);\n",
      "    }\n",
      "}\n",
      "\n",
      "int main(void)\n",
      "{\n",
      "    // Initialize I2C0\n",
      "    I2C_Init();\n",
      "\n",
      "    // Write data to slave ROM\n",
      "    uint8_t writeData[] = {0xAB, 0xCD, 0xEF};\n",
      "    uint32_t writeLength = sizeof(writeData) / sizeof(writeData[0]);\n",
      "    I2C_WriteMultiBytes(writeData, writeLength);\n",
      "\n",
      "    // Read data from slave ROM\n",
      "    uint8_t readData[3];\n",
      "    uint32_t readLength = sizeof(readData) / sizeof(readData[0]);\n",
      "    I2C_ReadMultiBytes(readData, readLength);\n",
      "\n",
      "    // Check if read data is equal to write data\n",
      "    bool dataMatch = true;\n",
      "    for (uint32_t i = 0; i < readLength; i++)\n",
      "    {\n",
      "        if (readData[i] != writeData[i])\n",
      "        {\n",
      "            dataMatch = false;\n",
      "            break;\n",
      "        }\n",
      "    }\n",
      "\n",
      "    if (dataMatch)\n",
      "    {\n",
      "        // Data match\n",
      "        // Add your code here\n",
      "    }\n",
      "    else\n",
      "    {\n",
      "        // Data mismatch\n",
      "        // Add your code here\n",
      "    }\n",
      "\n",
      "    while (1)\n",
      "    {\n",
      "        // Add your code here\n",
      "    }\n",
      "}\n",
      "```\n",
      "\n",
      "In this updated code, the `I2C_WriteByte` function is replaced with `I2C_WriteMultiBytes` function, which takes an array of data and the length of the data as parameters. Similarly, the `I2C_ReadByte` function is replaced with `I2C_ReadMultiBytes` function, which takes an array to store the read data and the length of the data to read as parameters.\n",
      "\n",
      "You can modify the `writeData` and `readData` arrays and their respective lengths according to your requirements.\n"
     ]
    }
   ],
   "source": [
    "print(result['answer'])"
   ]
  },
  {
   "cell_type": "code",
   "execution_count": 58,
   "id": "9c250c48-c3d3-4d90-afb7-e550ab8d52cb",
   "metadata": {},
   "outputs": [
    {
     "data": {
      "text/plain": [
       "ConversationBufferMemory(chat_memory=ChatMessageHistory(messages=[HumanMessage(content='Hi my name is Gary'), AIMessage(content=\"Sorry, but I can't provide the answer you're looking for.\")]), output_key='answer', input_key='question', return_messages=True, memory_key='chat_history')"
      ]
     },
     "execution_count": 58,
     "metadata": {},
     "output_type": "execute_result"
    }
   ],
   "source": [
    "chain.memory"
   ]
  },
  {
   "cell_type": "code",
   "execution_count": 49,
   "id": "8ad3a303-064a-426f-b898-878798886193",
   "metadata": {
    "tags": []
   },
   "outputs": [
    {
     "data": {
      "text/plain": [
       "[('Hi my name is Gary', 'Hello Gary! How can I assist you today?'),\n",
       " ('What is my name', \"I am an AI assistant and I don't have a name.\"),\n",
       " ('Whats my name',\n",
       "  \"I'm sorry, but I am an AI language model and I do not have the capability to know your name.\")]"
      ]
     },
     "execution_count": 49,
     "metadata": {},
     "output_type": "execute_result"
    }
   ],
   "source": [
    "chat_history"
   ]
  },
  {
   "cell_type": "markdown",
   "id": "311265ab-1b08-420c-a31b-78acabb59962",
   "metadata": {},
   "source": [
    "## Another choose load_qa_chain()"
   ]
  },
  {
   "cell_type": "code",
   "execution_count": 5,
   "id": "7c491388-dbee-4bc1-b976-d7ff61768595",
   "metadata": {},
   "outputs": [],
   "source": [
    "\n",
    "# Docs Retriever\n",
    "#retriever=vectorstore.as_retriever(search_type=\"mmr\", # Also test \"similarity\"\n",
    "#                                   search_kwargs={\"k\": 8})\n",
    "retriever=vectorstore.as_retriever(search_type=\"similarity\", # Also test \"similarity\"\n",
    "                                   search_kwargs={\"k\": 8})\n",
    "\n",
    "# question & vector search\n",
    "question = \"Write a C code of ACMP comparing DAC output with ACMP1_P1\"\n",
    "docs = retriever.get_relevant_documents(question)\n",
    "\n",
    "# Chain\n",
    "chain = load_qa_chain(llm, chain_type=\"stuff\", prompt=QA_CHAIN_PROMPT) "
   ]
  },
  {
   "cell_type": "code",
   "execution_count": null,
   "id": "7c722a9f-1700-49de-af4c-fff778ce44e7",
   "metadata": {},
   "outputs": [],
   "source": [
    "result = chain({\"input_documents\": docs, \"question\": question}, return_only_outputs=True)"
   ]
  },
  {
   "cell_type": "code",
   "execution_count": null,
   "id": "d137a6b2-6718-45d3-a06a-472a5f68ec4d",
   "metadata": {},
   "outputs": [],
   "source": [
    "print(len(docs))\n",
    "print(result['output_text'])"
   ]
  },
  {
   "cell_type": "markdown",
   "id": "6d23aabb-6d4a-404f-9d58-48c6898d8e91",
   "metadata": {},
   "source": [
    "## ConversationSummaryMemory"
   ]
  },
  {
   "cell_type": "code",
   "execution_count": null,
   "id": "a53abc44-56e6-4427-b83d-3dec322a5721",
   "metadata": {},
   "outputs": [],
   "source": [
    "from langchain.memory import ConversationSummaryMemory\n",
    "from langchain.chains import ConversationalRetrievalChain\n",
    "\n",
    "memory = ConversationSummaryMemory(llm=llm,memory_key=\"chat_history\",return_messages=True)\n",
    "qa = ConversationalRetrievalChain.from_llm(llm, retriever=vectorstore.as_retriever(), memory=memory)"
   ]
  },
  {
   "cell_type": "code",
   "execution_count": null,
   "id": "9e2be885-d6f7-4ebb-8c68-68a192a37c0f",
   "metadata": {},
   "outputs": [],
   "source": [
    "#query = \"Write a C code of ACMP comparing DAC output with ACMP1_P1\"\n",
    "#query = \"Write a C code of BMC data transfer with PDMA\"\n",
    "#query = \"Write a C code function that reverse a string, input a string in parameter and return the reversed string\"\n",
    "query = \"Give me a C code of configure BMC example\"\n",
    "result = qa(query)"
   ]
  },
  {
   "cell_type": "code",
   "execution_count": null,
   "id": "80ba7747-da00-4b90-922d-43ac0a90f837",
   "metadata": {},
   "outputs": [],
   "source": [
    "print(result['answer'])"
   ]
  },
  {
   "cell_type": "code",
   "execution_count": null,
   "id": "e34fecba-a742-4ace-b180-c6eded23f2fc",
   "metadata": {},
   "outputs": [],
   "source": []
  }
 ],
 "metadata": {
  "kernelspec": {
   "display_name": "Python 3 (ipykernel)",
   "language": "python",
   "name": "python3"
  },
  "language_info": {
   "codemirror_mode": {
    "name": "ipython",
    "version": 3
   },
   "file_extension": ".py",
   "mimetype": "text/x-python",
   "name": "python",
   "nbconvert_exporter": "python",
   "pygments_lexer": "ipython3",
   "version": "3.11.5"
  }
 },
 "nbformat": 4,
 "nbformat_minor": 5
}
